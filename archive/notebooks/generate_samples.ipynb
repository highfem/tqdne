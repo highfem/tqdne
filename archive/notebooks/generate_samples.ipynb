{
 "cells": [
  {
   "cell_type": "code",
   "execution_count": null,
   "metadata": {},
   "outputs": [],
   "source": [
    "# Some useful modules for notebooks\n",
    "%load_ext autoreload\n",
    "%autoreload 2\n",
    "%matplotlib inline"
   ]
  },
  {
   "cell_type": "code",
   "execution_count": null,
   "metadata": {},
   "outputs": [],
   "source": [
    "import os\n",
    "os.environ[\"CUDA_VISIBLE_DEVICES\"] = \"1\"\n",
    "\n",
    "from diffusers import DiffusionPipeline\n",
    "from scipy import signal\n",
    "import numpy as np\n",
    "import torch\n",
    "import matplotlib.pyplot as plt\n",
    "import h5py\n",
    "from tqdne.conf import DATASETDIR\n",
    "from pathlib import Path\n",
    "from tqdne.dataset import H5Dataset, RandomDataset\n",
    "from torch.utils.data import DataLoader\n",
    "from diffusers import UNet1DModel\n",
    "from diffusers import DDPMScheduler\n",
    "from tqdne.diffusers import DDPMPipeline1DCond\n",
    "from tqdne.lightning import LightningDDMP, LogCallback\n",
    "\n",
    "from pytorch_lightning.callbacks import EarlyStopping, LearningRateMonitor, ModelCheckpoint\n",
    "from pathlib import Path\n",
    "from pytorch_lightning.loggers import WandbLogger\n",
    "\n",
    "from tqdne.conf import OUTPUTDIR, PROJECT_NAME\n",
    "\n",
    "import pytorch_lightning as pl\n",
    "import logging\n"
   ]
  },
  {
   "cell_type": "code",
   "execution_count": null,
   "metadata": {},
   "outputs": [],
   "source": [
    "\n",
    "t = (5501 // 32) * 32\n",
    "batch_size = 64\n",
    "\n",
    "\n",
    "path_train = DATASETDIR / Path(\"data_train.h5\")\n",
    "path_test = DATASETDIR / Path(\"data_test.h5\")\n",
    "train_dataset = H5Dataset(path_train, cut=t)\n",
    "test_dataset = H5Dataset(path_test, cut=t)\n",
    "\n",
    "channels = train_dataset[0][0].shape[0]\n",
    "\n",
    "train_loader = DataLoader(train_dataset, batch_size=batch_size)\n",
    "test_loader = DataLoader(test_dataset, batch_size=batch_size)"
   ]
  },
  {
   "cell_type": "code",
   "execution_count": null,
   "metadata": {},
   "outputs": [],
   "source": [
    "low_res, high_res = train_dataset[0]\n",
    "\n",
    "low_res.shape, high_res.shape\n"
   ]
  },
  {
   "cell_type": "code",
   "execution_count": null,
   "metadata": {},
   "outputs": [],
   "source": [
    "name = \"1D-UNET-UPSAMPLE-DDPM\"\n",
    "\n",
    "# Load model\n",
    "dirpath = OUTPUTDIR / Path(name)\n",
    "\n",
    "checkpoints = sorted(list(dirpath.glob(\"*.ckpt\")))\n",
    "# Load the checkpoint with the latest epoch\n",
    "checkpoint = checkpoints[-1]\n",
    "\n",
    "logging.info(f\"Last checkpoint is : {checkpoint}\")\n",
    "model = LightningDDMP.load_from_checkpoint(checkpoint)\n"
   ]
  },
  {
   "cell_type": "code",
   "execution_count": null,
   "metadata": {},
   "outputs": [],
   "source": [
    "low_res, high_res = next(iter(test_loader))\n",
    "reconstructed = model.evaluate(low_res)\n"
   ]
  },
  {
   "cell_type": "code",
   "execution_count": null,
   "metadata": {},
   "outputs": [],
   "source": [
    "fs = 100\n",
    "time = np.arange(0, t)/fs\n",
    "\n",
    "plt.figure(figsize=(6, 3))\n",
    "plt.plot(time ,low_res[0,0].numpy(), 'b', label=\"Input\")\n",
    "plt.plot(time, high_res[0,0].numpy(), 'r', label=\"Target\")\n",
    "plt.xlabel(\"Time (s)\")\n",
    "plt.xlim(20, 30)\n",
    "plt.legend()"
   ]
  },
  {
   "cell_type": "code",
   "execution_count": null,
   "metadata": {},
   "outputs": [],
   "source": [
    "b, c, t = reconstructed.shape\n",
    "fs = 100\n",
    "time = np.arange(0, t)/fs\n",
    "i = 0\n",
    "fig = plt.figure(figsize=(6, 3))\n",
    "plt.plot(time ,low_res[i,0].cpu().numpy(), 'b', label=\"Input\")\n",
    "plt.plot(time, high_res[i,0].cpu().numpy(), 'r', label=\"Target\")\n",
    "plt.plot(time, reconstructed[i,0].cpu().numpy(), 'g', alpha=0.5, label=\"Reconstructed\")\n",
    "# plt.xlim(1, 5)\n",
    "plt.xlim(20, 30)\n",
    "\n",
    "plt.legend()\n",
    "\n",
    "from tqdne.utils import fig2PIL\n",
    "\n",
    "image = fig2PIL(fig)\n",
    "\n",
    "\n"
   ]
  },
  {
   "cell_type": "code",
   "execution_count": null,
   "metadata": {},
   "outputs": [],
   "source": [
    "                # fig = plt.figure(figsize=(6, 3))\n",
    "                # plt.plot(time, low_res[i, 0].cpu().numpy(), \"b\", label=\"Input\")\n",
    "                # plt.plot(time, high_res[i, 0].cpu().numpy(), \"r\", label=\"Target\")\n",
    "                # plt.plot(\n",
    "                #     time,\n",
    "                #     reconstructed[i, 0].cpu().numpy(),\n",
    "                #     \"g\",\n",
    "                #     alpha=0.5,\n",
    "                #     label=\"Reconstructed\",\n",
    "                # )\n",
    "                # plt.xlim(1, 5)\n",
    "                # plt.legend()\n",
    "                # plt.tight_layout()\n",
    "                # image = fig2PIL(fig)\n",
    "                # self.wandb_logger.log_image(\n",
    "                #     key=f\"samples {i} - channel {j}\", images=[image]\n",
    "                # )"
   ]
  },
  {
   "cell_type": "code",
   "execution_count": null,
   "metadata": {},
   "outputs": [],
   "source": []
  }
 ],
 "metadata": {
  "kernelspec": {
   "display_name": "tqdne-GZO51An4-py3.10",
   "language": "python",
   "name": "python3"
  },
  "language_info": {
   "codemirror_mode": {
    "name": "ipython",
    "version": 3
   },
   "file_extension": ".py",
   "mimetype": "text/x-python",
   "name": "python",
   "nbconvert_exporter": "python",
   "pygments_lexer": "ipython3",
   "version": "3.11.3"
  }
 },
 "nbformat": 4,
 "nbformat_minor": 2
}
