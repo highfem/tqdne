{
 "cells": [
  {
   "cell_type": "markdown",
   "metadata": {},
   "source": [
    "# Testing Envelopes on Data Samples"
   ]
  },
  {
   "cell_type": "code",
   "execution_count": 1,
   "metadata": {},
   "outputs": [],
   "source": [
    "# Some useful modules for notebooks\n",
    "%load_ext autoreload\n",
    "%autoreload 2\n",
    "%matplotlib inline"
   ]
  },
  {
   "cell_type": "code",
   "execution_count": 2,
   "metadata": {},
   "outputs": [],
   "source": [
    "from pathlib import Path\n",
    "import matplotlib.pyplot as plt\n",
    "import matplotlib as mpl\n",
    "mpl.rcParams['figure.figsize'] = [10, 3]\n",
    "mpl.rcParams['figure.dpi'] = 300\n",
    "\n",
    "from tqdne.conf import DATASETDIR\n",
    "import numpy as np\n",
    "from tqdne.conf import Config\n",
    "config = Config()"
   ]
  },
  {
   "cell_type": "code",
   "execution_count": 3,
   "metadata": {},
   "outputs": [
    {
     "name": "stdout",
     "output_type": "stream",
     "text": [
      "/users/fmachado/data/japan/data_upsample_train.h5\n"
     ]
    }
   ],
   "source": [
    "from tqdne.dataset import WaveformDataset\n",
    "from tqdne.representations import LogMaxEnvelope\n",
    "\n",
    "path_train = config.datasetdir / Path(config.data_upsample_train)\n",
    "print(path_train)\n",
    "train_dataset = WaveformDataset(path_train, LogMaxEnvelope(config), reduced=1024)"
   ]
  },
  {
   "cell_type": "code",
   "execution_count": 4,
   "metadata": {},
   "outputs": [
    {
     "data": {
      "text/plain": [
       "(1, 1024)"
      ]
     },
     "execution_count": 4,
     "metadata": {},
     "output_type": "execute_result"
    }
   ],
   "source": [
    "s = train_dataset.waveform[0]\n",
    "s.shape"
   ]
  },
  {
   "cell_type": "code",
   "execution_count": 5,
   "metadata": {},
   "outputs": [
    {
     "name": "stdout",
     "output_type": "stream",
     "text": [
      "[[0.07638332]]\n"
     ]
    },
    {
     "name": "stderr",
     "output_type": "stream",
     "text": [
      "/users/fmachado/tqdne/tqdne/representations.py:39: RuntimeWarning: invalid value encountered in log\n",
      "  return np.concatenate([np.log(envelope), scaled_signal], axis=-2)\n"
     ]
    },
    {
     "data": {
      "text/plain": [
       "{'high_res': tensor([[    nan,     nan,     nan,  ...,     nan,     nan,     nan],\n",
       "         [-0.0018, -0.0028,  0.0016,  ..., -0.0458, -0.0020,  0.0524]]),\n",
       " 'cond': tensor([ 1.2616, -0.5696,  0.0859, -0.3657, -0.4295])}"
      ]
     },
     "execution_count": 5,
     "metadata": {},
     "output_type": "execute_result"
    }
   ],
   "source": [
    "train_dataset[0]"
   ]
  },
  {
   "cell_type": "code",
   "execution_count": 6,
   "metadata": {},
   "outputs": [],
   "source": [
    "e = np.max(np.abs(s), axis=-1, keepdims=True)\n",
    "e = np.repeat(e, s.shape[-1], axis=-1)\n",
    "sig = s / e\n",
    "e = np.log10(e)"
   ]
  },
  {
   "cell_type": "code",
   "execution_count": 18,
   "metadata": {},
   "outputs": [
    {
     "data": {
      "text/plain": [
       "array([[-1.1170014, -1.1170014, -1.1170014, ..., -1.1170014, -1.1170014,\n",
       "        -1.1170014]], dtype=float32)"
      ]
     },
     "execution_count": 18,
     "metadata": {},
     "output_type": "execute_result"
    }
   ],
   "source": [
    "e"
   ]
  }
 ],
 "metadata": {
  "kernelspec": {
   "display_name": "tqdne-e7ycIBKS-py3.11",
   "language": "python",
   "name": "python3"
  },
  "language_info": {
   "codemirror_mode": {
    "name": "ipython",
    "version": 3
   },
   "file_extension": ".py",
   "mimetype": "text/x-python",
   "name": "python",
   "nbconvert_exporter": "python",
   "pygments_lexer": "ipython3",
   "version": "3.11.4"
  }
 },
 "nbformat": 4,
 "nbformat_minor": 2
}
