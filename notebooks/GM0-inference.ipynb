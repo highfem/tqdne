{
 "cells": [
  {
   "cell_type": "code",
   "execution_count": 1,
   "metadata": {},
   "outputs": [
    {
     "name": "stderr",
     "output_type": "stream",
     "text": [
      "/users/abosisio/miniforge3/envs/tqdne/lib/python3.11/site-packages/transformers/utils/generic.py:260: UserWarning: torch.utils._pytree._register_pytree_node is deprecated. Please use torch.utils._pytree.register_pytree_node instead.\n",
      "  torch.utils._pytree._register_pytree_node(\n",
      "/users/abosisio/miniforge3/envs/tqdne/lib/python3.11/site-packages/transformers/utils/generic.py:260: UserWarning: torch.utils._pytree._register_pytree_node is deprecated. Please use torch.utils._pytree.register_pytree_node instead.\n",
      "  torch.utils._pytree._register_pytree_node(\n",
      "/users/abosisio/miniforge3/envs/tqdne/lib/python3.11/site-packages/diffusers/utils/outputs.py:63: UserWarning: torch.utils._pytree._register_pytree_node is deprecated. Please use torch.utils._pytree.register_pytree_node instead.\n",
      "  torch.utils._pytree._register_pytree_node(\n",
      "2024-02-23 11:51:57 - numexpr.utils - INFO - Note: NumExpr detected 24 cores but \"NUMEXPR_MAX_THREADS\" not set, so enforcing safe limit of 8.\n",
      "2024-02-23 11:51:57 - numexpr.utils - INFO - NumExpr defaulting to 8 threads.\n"
     ]
    }
   ],
   "source": [
    "import matplotlib.pyplot as plt\n",
    "import numpy as np\n",
    "import torch\n",
    "\n",
    "import h5py\n",
    "\n",
    "import os\n",
    "os.environ[\"CUDA_VISIBLE_DEVICES\"] = \"0\"\n",
    "os.environ[\"HDF5_USE_FILE_LOCKING\"] = \"FALSE\"\n",
    "\n",
    "from pathlib import Path\n",
    "\n",
    "from tqdne.utils import load_model_by_name, generate_data, get_samples, plot_waveform_and_psd, plot_waveforms, plot_by_bins, plot_log_envelope_bins\n",
    "from tqdne.conf import Config\n",
    "from tqdne.metric import *"
   ]
  },
  {
   "cell_type": "markdown",
   "metadata": {},
   "source": [
    "# TODO:\n",
    "* smaller figures "
   ]
  },
  {
   "cell_type": "markdown",
   "metadata": {},
   "source": [
    "Generating a single sample from the model with a CPU will take about 5 minutes. It is beneficial to run this notebook with GPU."
   ]
  },
  {
   "cell_type": "code",
   "execution_count": 2,
   "metadata": {},
   "outputs": [
    {
     "data": {
      "text/plain": [
       "(True, device(type='cuda'))"
      ]
     },
     "execution_count": 2,
     "metadata": {},
     "output_type": "execute_result"
    }
   ],
   "source": [
    "if torch.cuda.is_available():\n",
    "    device = torch.device('cuda')\n",
    "    torch.cuda.empty_cache()\n",
    "else: \n",
    "    device = torch.device('cpu')\n",
    "\n",
    "torch.cuda.is_available(), device"
   ]
  },
  {
   "cell_type": "markdown",
   "metadata": {},
   "source": [
    "# GM0 Performance Evaluation"
   ]
  },
  {
   "cell_type": "code",
   "execution_count": 3,
   "metadata": {},
   "outputs": [],
   "source": [
    "config = Config()\n",
    "\n",
    "# Select the signal length\n",
    "signal_length = config.signal_length # TODO: check if it is correct to have the signal lenghth fixed in config\n",
    "\n",
    "# Set the number of channels of the desired output signal  \n",
    "n_channels = config.num_channels\n",
    "\n",
    "# Set the sampling frequency\n",
    "fs = config.fs\n",
    "\n",
    "# Set the conditioning parameters range\n",
    "cond_params_range = config.conditional_params_range"
   ]
  },
  {
   "cell_type": "code",
   "execution_count": 4,
   "metadata": {},
   "outputs": [
    {
     "name": "stdout",
     "output_type": "stream",
     "text": [
      "'name=0_epoch=0-val_loss=1.25.ckpt'   'name=0_epoch=85-val_loss=0.37.ckpt'\n",
      "'name=0_epoch=1-val_loss=1.24.ckpt'   'name=0_epoch=86-val_loss=0.37.ckpt'\n",
      "'name=0_epoch=79-val_loss=0.37.ckpt'  'name=0_epoch=87-val_loss=0.37.ckpt'\n",
      "'name=0_epoch=82-val_loss=0.37.ckpt'\n"
     ]
    }
   ],
   "source": [
    "ls /store/sdsc/sd28/models/GM0/diffusion/1D-UNET-DDPM-envelope/"
   ]
  },
  {
   "cell_type": "code",
   "execution_count": 5,
   "metadata": {},
   "outputs": [
    {
     "ename": "ModuleNotFoundError",
     "evalue": "No module named 'tqdne.unet_1d'",
     "output_type": "error",
     "traceback": [
      "\u001b[0;31m---------------------------------------------------------------------------\u001b[0m",
      "\u001b[0;31mModuleNotFoundError\u001b[0m                       Traceback (most recent call last)",
      "Cell \u001b[0;32mIn[5], line 7\u001b[0m\n\u001b[1;32m      1\u001b[0m \u001b[38;5;66;03m# Choose a model to load by the available names described in the documentation\u001b[39;00m\n\u001b[1;32m      2\u001b[0m \u001b[38;5;66;03m# Choose a checkpoint from /store/sdsc/sd28/models/GM0/diffusion/COND-1D-UNET-DDPM-envelope/\u001b[39;00m\n\u001b[1;32m      3\u001b[0m \n\u001b[1;32m      4\u001b[0m \u001b[38;5;66;03m# NOTE: the following model don't consider conditioning inputs \u001b[39;00m\n\u001b[1;32m      5\u001b[0m model_path_str \u001b[38;5;241m=\u001b[39m \u001b[38;5;124m\"\u001b[39m\u001b[38;5;124m/store/sdsc/sd28/models/GM0/diffusion/1D-UNET-DDPM-envelope/name=0_epoch=87-val_loss=0.37.ckpt\u001b[39m\u001b[38;5;124m\"\u001b[39m\n\u001b[0;32m----> 7\u001b[0m model, model_data_repr \u001b[38;5;241m=\u001b[39m load_model_by_name(\u001b[38;5;124m'\u001b[39m\u001b[38;5;124mdiffusion_1d\u001b[39m\u001b[38;5;124m'\u001b[39m, map_location\u001b[38;5;241m=\u001b[39mdevice, path\u001b[38;5;241m=\u001b[39mPath(model_path_str))\n\u001b[1;32m      8\u001b[0m model\u001b[38;5;241m.\u001b[39meval()\n\u001b[1;32m     10\u001b[0m \u001b[38;5;28mprint\u001b[39m(model)\n",
      "File \u001b[0;32m/scratch/snx3000/abosisio/tqdne/tqdne/utils.py:60\u001b[0m, in \u001b[0;36mload_model_by_name\u001b[0;34m(model_name, path, **kwargs)\u001b[0m\n\u001b[1;32m     57\u001b[0m         \u001b[38;5;66;03m# TODO: use on_save_checkpoint\u001b[39;00m\n\u001b[1;32m     58\u001b[0m         \u001b[38;5;66;03m# to save and load the representation (thte model itself it's not safe to store)\u001b[39;00m\n\u001b[1;32m     59\u001b[0m     data_representation \u001b[38;5;241m=\u001b[39m SignalWithEnvelope(Config()) \u001b[38;5;66;03m# TODO: not sure if it is the best design choice\u001b[39;00m\n\u001b[0;32m---> 60\u001b[0m     model \u001b[38;5;241m=\u001b[39m load_model(LightningDDMP, path, \u001b[38;5;241m*\u001b[39m\u001b[38;5;241m*\u001b[39mkwargs)\n\u001b[1;32m     62\u001b[0m \u001b[38;5;28;01melif\u001b[39;00m model_name \u001b[38;5;241m==\u001b[39m \u001b[38;5;124m\"\u001b[39m\u001b[38;5;124mGAN\u001b[39m\u001b[38;5;124m\"\u001b[39m:\n\u001b[1;32m     63\u001b[0m     \u001b[38;5;66;03m#if path is None:\u001b[39;00m\n\u001b[1;32m     64\u001b[0m     \u001b[38;5;66;03m#    path = get_last_checkpoint(\"/users/abosisio/scratch/tqdne/outputs/GAN\") # TODO: ask Francisco (or Robins(?))\u001b[39;00m\n\u001b[1;32m     65\u001b[0m     data_representation \u001b[38;5;241m=\u001b[39m \u001b[38;5;28;01mNone\u001b[39;00m\n",
      "File \u001b[0;32m/scratch/snx3000/abosisio/tqdne/tqdne/utils.py:100\u001b[0m, in \u001b[0;36mload_model\u001b[0;34m(type, path, **kwargs)\u001b[0m\n\u001b[1;32m     98\u001b[0m     logging\u001b[38;5;241m.\u001b[39minfo(\u001b[38;5;124m\"\u001b[39m\u001b[38;5;124mModel not found. Returning None.\u001b[39m\u001b[38;5;124m\"\u001b[39m)\n\u001b[1;32m     99\u001b[0m     \u001b[38;5;28;01mreturn\u001b[39;00m \u001b[38;5;28;01mNone\u001b[39;00m\n\u001b[0;32m--> 100\u001b[0m model \u001b[38;5;241m=\u001b[39m \u001b[38;5;28mtype\u001b[39m\u001b[38;5;241m.\u001b[39mload_from_checkpoint(path, \u001b[38;5;241m*\u001b[39m\u001b[38;5;241m*\u001b[39mkwargs)\n\u001b[1;32m    101\u001b[0m \u001b[38;5;28;01mreturn\u001b[39;00m model\n",
      "File \u001b[0;32m~/miniforge3/envs/tqdne/lib/python3.11/site-packages/pytorch_lightning/core/module.py:1520\u001b[0m, in \u001b[0;36mLightningModule.load_from_checkpoint\u001b[0;34m(cls, checkpoint_path, map_location, hparams_file, strict, **kwargs)\u001b[0m\n\u001b[1;32m   1440\u001b[0m \u001b[38;5;129m@classmethod\u001b[39m\n\u001b[1;32m   1441\u001b[0m \u001b[38;5;28;01mdef\u001b[39;00m \u001b[38;5;21mload_from_checkpoint\u001b[39m(\n\u001b[1;32m   1442\u001b[0m     \u001b[38;5;28mcls\u001b[39m,\n\u001b[0;32m   (...)\u001b[0m\n\u001b[1;32m   1447\u001b[0m     \u001b[38;5;241m*\u001b[39m\u001b[38;5;241m*\u001b[39mkwargs: Any,\n\u001b[1;32m   1448\u001b[0m ) \u001b[38;5;241m-\u001b[39m\u001b[38;5;241m>\u001b[39m Self:\n\u001b[1;32m   1449\u001b[0m \u001b[38;5;250m    \u001b[39m\u001b[38;5;124mr\u001b[39m\u001b[38;5;124;03m\"\"\"\u001b[39;00m\n\u001b[1;32m   1450\u001b[0m \u001b[38;5;124;03m    Primary way of loading a model from a checkpoint. When Lightning saves a checkpoint\u001b[39;00m\n\u001b[1;32m   1451\u001b[0m \u001b[38;5;124;03m    it stores the arguments passed to ``__init__``  in the checkpoint under ``\"hyper_parameters\"``.\u001b[39;00m\n\u001b[0;32m   (...)\u001b[0m\n\u001b[1;32m   1518\u001b[0m \u001b[38;5;124;03m        y_hat = pretrained_model(x)\u001b[39;00m\n\u001b[1;32m   1519\u001b[0m \u001b[38;5;124;03m    \"\"\"\u001b[39;00m\n\u001b[0;32m-> 1520\u001b[0m     loaded \u001b[38;5;241m=\u001b[39m _load_from_checkpoint(\n\u001b[1;32m   1521\u001b[0m         \u001b[38;5;28mcls\u001b[39m,\n\u001b[1;32m   1522\u001b[0m         checkpoint_path,\n\u001b[1;32m   1523\u001b[0m         map_location,\n\u001b[1;32m   1524\u001b[0m         hparams_file,\n\u001b[1;32m   1525\u001b[0m         strict,\n\u001b[1;32m   1526\u001b[0m         \u001b[38;5;241m*\u001b[39m\u001b[38;5;241m*\u001b[39mkwargs,\n\u001b[1;32m   1527\u001b[0m     )\n\u001b[1;32m   1528\u001b[0m     \u001b[38;5;28;01mreturn\u001b[39;00m cast(Self, loaded)\n",
      "File \u001b[0;32m~/miniforge3/envs/tqdne/lib/python3.11/site-packages/pytorch_lightning/core/saving.py:61\u001b[0m, in \u001b[0;36m_load_from_checkpoint\u001b[0;34m(cls, checkpoint_path, map_location, hparams_file, strict, **kwargs)\u001b[0m\n\u001b[1;32m     52\u001b[0m \u001b[38;5;28;01mdef\u001b[39;00m \u001b[38;5;21m_load_from_checkpoint\u001b[39m(\n\u001b[1;32m     53\u001b[0m     \u001b[38;5;28mcls\u001b[39m: Union[Type[\u001b[38;5;124m\"\u001b[39m\u001b[38;5;124mpl.LightningModule\u001b[39m\u001b[38;5;124m\"\u001b[39m], Type[\u001b[38;5;124m\"\u001b[39m\u001b[38;5;124mpl.LightningDataModule\u001b[39m\u001b[38;5;124m\"\u001b[39m]],\n\u001b[1;32m     54\u001b[0m     checkpoint_path: Union[_PATH, IO],\n\u001b[0;32m   (...)\u001b[0m\n\u001b[1;32m     58\u001b[0m     \u001b[38;5;241m*\u001b[39m\u001b[38;5;241m*\u001b[39mkwargs: Any,\n\u001b[1;32m     59\u001b[0m ) \u001b[38;5;241m-\u001b[39m\u001b[38;5;241m>\u001b[39m Union[\u001b[38;5;124m\"\u001b[39m\u001b[38;5;124mpl.LightningModule\u001b[39m\u001b[38;5;124m\"\u001b[39m, \u001b[38;5;124m\"\u001b[39m\u001b[38;5;124mpl.LightningDataModule\u001b[39m\u001b[38;5;124m\"\u001b[39m]:\n\u001b[1;32m     60\u001b[0m     \u001b[38;5;28;01mwith\u001b[39;00m pl_legacy_patch():\n\u001b[0;32m---> 61\u001b[0m         checkpoint \u001b[38;5;241m=\u001b[39m pl_load(checkpoint_path, map_location\u001b[38;5;241m=\u001b[39mmap_location)\n\u001b[1;32m     63\u001b[0m     \u001b[38;5;66;03m# convert legacy checkpoints to the new format\u001b[39;00m\n\u001b[1;32m     64\u001b[0m     checkpoint \u001b[38;5;241m=\u001b[39m _pl_migrate_checkpoint(\n\u001b[1;32m     65\u001b[0m         checkpoint, checkpoint_path\u001b[38;5;241m=\u001b[39m(checkpoint_path \u001b[38;5;28;01mif\u001b[39;00m \u001b[38;5;28misinstance\u001b[39m(checkpoint_path, (\u001b[38;5;28mstr\u001b[39m, Path)) \u001b[38;5;28;01melse\u001b[39;00m \u001b[38;5;28;01mNone\u001b[39;00m)\n\u001b[1;32m     66\u001b[0m     )\n",
      "File \u001b[0;32m~/miniforge3/envs/tqdne/lib/python3.11/site-packages/lightning_fabric/utilities/cloud_io.py:51\u001b[0m, in \u001b[0;36m_load\u001b[0;34m(path_or_url, map_location)\u001b[0m\n\u001b[1;32m     49\u001b[0m fs \u001b[38;5;241m=\u001b[39m get_filesystem(path_or_url)\n\u001b[1;32m     50\u001b[0m \u001b[38;5;28;01mwith\u001b[39;00m fs\u001b[38;5;241m.\u001b[39mopen(path_or_url, \u001b[38;5;124m\"\u001b[39m\u001b[38;5;124mrb\u001b[39m\u001b[38;5;124m\"\u001b[39m) \u001b[38;5;28;01mas\u001b[39;00m f:\n\u001b[0;32m---> 51\u001b[0m     \u001b[38;5;28;01mreturn\u001b[39;00m torch\u001b[38;5;241m.\u001b[39mload(f, map_location\u001b[38;5;241m=\u001b[39mmap_location)\n",
      "File \u001b[0;32m~/miniforge3/envs/tqdne/lib/python3.11/site-packages/torch/serialization.py:1026\u001b[0m, in \u001b[0;36mload\u001b[0;34m(f, map_location, pickle_module, weights_only, mmap, **pickle_load_args)\u001b[0m\n\u001b[1;32m   1024\u001b[0m             \u001b[38;5;28;01mexcept\u001b[39;00m \u001b[38;5;167;01mRuntimeError\u001b[39;00m \u001b[38;5;28;01mas\u001b[39;00m e:\n\u001b[1;32m   1025\u001b[0m                 \u001b[38;5;28;01mraise\u001b[39;00m pickle\u001b[38;5;241m.\u001b[39mUnpicklingError(UNSAFE_MESSAGE \u001b[38;5;241m+\u001b[39m \u001b[38;5;28mstr\u001b[39m(e)) \u001b[38;5;28;01mfrom\u001b[39;00m \u001b[38;5;28;01mNone\u001b[39;00m\n\u001b[0;32m-> 1026\u001b[0m         \u001b[38;5;28;01mreturn\u001b[39;00m _load(opened_zipfile,\n\u001b[1;32m   1027\u001b[0m                      map_location,\n\u001b[1;32m   1028\u001b[0m                      pickle_module,\n\u001b[1;32m   1029\u001b[0m                      overall_storage\u001b[38;5;241m=\u001b[39moverall_storage,\n\u001b[1;32m   1030\u001b[0m                      \u001b[38;5;241m*\u001b[39m\u001b[38;5;241m*\u001b[39mpickle_load_args)\n\u001b[1;32m   1031\u001b[0m \u001b[38;5;28;01mif\u001b[39;00m mmap:\n\u001b[1;32m   1032\u001b[0m     \u001b[38;5;28;01mraise\u001b[39;00m \u001b[38;5;167;01mRuntimeError\u001b[39;00m(\u001b[38;5;124m\"\u001b[39m\u001b[38;5;124mmmap can only be used with files saved with \u001b[39m\u001b[38;5;124m\"\u001b[39m\n\u001b[1;32m   1033\u001b[0m                        \u001b[38;5;124m\"\u001b[39m\u001b[38;5;124m`torch.save(_use_new_zipfile_serialization=True), \u001b[39m\u001b[38;5;124m\"\u001b[39m\n\u001b[1;32m   1034\u001b[0m                        \u001b[38;5;124m\"\u001b[39m\u001b[38;5;124mplease torch.save your checkpoint with this option in order to use mmap.\u001b[39m\u001b[38;5;124m\"\u001b[39m)\n",
      "File \u001b[0;32m~/miniforge3/envs/tqdne/lib/python3.11/site-packages/torch/serialization.py:1438\u001b[0m, in \u001b[0;36m_load\u001b[0;34m(zip_file, map_location, pickle_module, pickle_file, overall_storage, **pickle_load_args)\u001b[0m\n\u001b[1;32m   1436\u001b[0m unpickler \u001b[38;5;241m=\u001b[39m UnpicklerWrapper(data_file, \u001b[38;5;241m*\u001b[39m\u001b[38;5;241m*\u001b[39mpickle_load_args)\n\u001b[1;32m   1437\u001b[0m unpickler\u001b[38;5;241m.\u001b[39mpersistent_load \u001b[38;5;241m=\u001b[39m persistent_load\n\u001b[0;32m-> 1438\u001b[0m result \u001b[38;5;241m=\u001b[39m unpickler\u001b[38;5;241m.\u001b[39mload()\n\u001b[1;32m   1440\u001b[0m torch\u001b[38;5;241m.\u001b[39m_utils\u001b[38;5;241m.\u001b[39m_validate_loaded_sparse_tensors()\n\u001b[1;32m   1441\u001b[0m torch\u001b[38;5;241m.\u001b[39m_C\u001b[38;5;241m.\u001b[39m_log_api_usage_metadata(\n\u001b[1;32m   1442\u001b[0m     \u001b[38;5;124m\"\u001b[39m\u001b[38;5;124mtorch.load.metadata\u001b[39m\u001b[38;5;124m\"\u001b[39m, {\u001b[38;5;124m\"\u001b[39m\u001b[38;5;124mserialization_id\u001b[39m\u001b[38;5;124m\"\u001b[39m: zip_file\u001b[38;5;241m.\u001b[39mserialization_id()}\n\u001b[1;32m   1443\u001b[0m )\n",
      "File \u001b[0;32m~/miniforge3/envs/tqdne/lib/python3.11/pickle.py:1213\u001b[0m, in \u001b[0;36m_Unpickler.load\u001b[0;34m(self)\u001b[0m\n\u001b[1;32m   1211\u001b[0m             \u001b[38;5;28;01mraise\u001b[39;00m \u001b[38;5;167;01mEOFError\u001b[39;00m\n\u001b[1;32m   1212\u001b[0m         \u001b[38;5;28;01massert\u001b[39;00m \u001b[38;5;28misinstance\u001b[39m(key, bytes_types)\n\u001b[0;32m-> 1213\u001b[0m         dispatch[key[\u001b[38;5;241m0\u001b[39m]](\u001b[38;5;28mself\u001b[39m)\n\u001b[1;32m   1214\u001b[0m \u001b[38;5;28;01mexcept\u001b[39;00m _Stop \u001b[38;5;28;01mas\u001b[39;00m stopinst:\n\u001b[1;32m   1215\u001b[0m     \u001b[38;5;28;01mreturn\u001b[39;00m stopinst\u001b[38;5;241m.\u001b[39mvalue\n",
      "File \u001b[0;32m~/miniforge3/envs/tqdne/lib/python3.11/pickle.py:1529\u001b[0m, in \u001b[0;36m_Unpickler.load_global\u001b[0;34m(self)\u001b[0m\n\u001b[1;32m   1527\u001b[0m module \u001b[38;5;241m=\u001b[39m \u001b[38;5;28mself\u001b[39m\u001b[38;5;241m.\u001b[39mreadline()[:\u001b[38;5;241m-\u001b[39m\u001b[38;5;241m1\u001b[39m]\u001b[38;5;241m.\u001b[39mdecode(\u001b[38;5;124m\"\u001b[39m\u001b[38;5;124mutf-8\u001b[39m\u001b[38;5;124m\"\u001b[39m)\n\u001b[1;32m   1528\u001b[0m name \u001b[38;5;241m=\u001b[39m \u001b[38;5;28mself\u001b[39m\u001b[38;5;241m.\u001b[39mreadline()[:\u001b[38;5;241m-\u001b[39m\u001b[38;5;241m1\u001b[39m]\u001b[38;5;241m.\u001b[39mdecode(\u001b[38;5;124m\"\u001b[39m\u001b[38;5;124mutf-8\u001b[39m\u001b[38;5;124m\"\u001b[39m)\n\u001b[0;32m-> 1529\u001b[0m klass \u001b[38;5;241m=\u001b[39m \u001b[38;5;28mself\u001b[39m\u001b[38;5;241m.\u001b[39mfind_class(module, name)\n\u001b[1;32m   1530\u001b[0m \u001b[38;5;28mself\u001b[39m\u001b[38;5;241m.\u001b[39mappend(klass)\n",
      "File \u001b[0;32m~/miniforge3/envs/tqdne/lib/python3.11/site-packages/torch/serialization.py:1431\u001b[0m, in \u001b[0;36m_load.<locals>.UnpicklerWrapper.find_class\u001b[0;34m(self, mod_name, name)\u001b[0m\n\u001b[1;32m   1429\u001b[0m         \u001b[38;5;28;01mpass\u001b[39;00m\n\u001b[1;32m   1430\u001b[0m mod_name \u001b[38;5;241m=\u001b[39m load_module_mapping\u001b[38;5;241m.\u001b[39mget(mod_name, mod_name)\n\u001b[0;32m-> 1431\u001b[0m \u001b[38;5;28;01mreturn\u001b[39;00m \u001b[38;5;28msuper\u001b[39m()\u001b[38;5;241m.\u001b[39mfind_class(mod_name, name)\n",
      "File \u001b[0;32m~/miniforge3/envs/tqdne/lib/python3.11/site-packages/pytorch_lightning/_graveyard/legacy_import_unpickler.py:25\u001b[0m, in \u001b[0;36mRedirectingUnpickler.find_class\u001b[0;34m(self, module, name)\u001b[0m\n\u001b[1;32m     23\u001b[0m \u001b[38;5;28;01mif\u001b[39;00m module \u001b[38;5;241m!=\u001b[39m new_module:\n\u001b[1;32m     24\u001b[0m     warnings\u001b[38;5;241m.\u001b[39mwarn(\u001b[38;5;124mf\u001b[39m\u001b[38;5;124m\"\u001b[39m\u001b[38;5;124mRedirecting import of \u001b[39m\u001b[38;5;132;01m{\u001b[39;00mmodule\u001b[38;5;132;01m}\u001b[39;00m\u001b[38;5;124m.\u001b[39m\u001b[38;5;132;01m{\u001b[39;00mname\u001b[38;5;132;01m}\u001b[39;00m\u001b[38;5;124m to \u001b[39m\u001b[38;5;132;01m{\u001b[39;00mnew_module\u001b[38;5;132;01m}\u001b[39;00m\u001b[38;5;124m.\u001b[39m\u001b[38;5;132;01m{\u001b[39;00mname\u001b[38;5;132;01m}\u001b[39;00m\u001b[38;5;124m\"\u001b[39m)\n\u001b[0;32m---> 25\u001b[0m \u001b[38;5;28;01mreturn\u001b[39;00m \u001b[38;5;28msuper\u001b[39m()\u001b[38;5;241m.\u001b[39mfind_class(new_module, name)\n",
      "File \u001b[0;32m~/miniforge3/envs/tqdne/lib/python3.11/pickle.py:1580\u001b[0m, in \u001b[0;36m_Unpickler.find_class\u001b[0;34m(self, module, name)\u001b[0m\n\u001b[1;32m   1578\u001b[0m     \u001b[38;5;28;01melif\u001b[39;00m module \u001b[38;5;129;01min\u001b[39;00m _compat_pickle\u001b[38;5;241m.\u001b[39mIMPORT_MAPPING:\n\u001b[1;32m   1579\u001b[0m         module \u001b[38;5;241m=\u001b[39m _compat_pickle\u001b[38;5;241m.\u001b[39mIMPORT_MAPPING[module]\n\u001b[0;32m-> 1580\u001b[0m \u001b[38;5;28m__import__\u001b[39m(module, level\u001b[38;5;241m=\u001b[39m\u001b[38;5;241m0\u001b[39m)\n\u001b[1;32m   1581\u001b[0m \u001b[38;5;28;01mif\u001b[39;00m \u001b[38;5;28mself\u001b[39m\u001b[38;5;241m.\u001b[39mproto \u001b[38;5;241m>\u001b[39m\u001b[38;5;241m=\u001b[39m \u001b[38;5;241m4\u001b[39m:\n\u001b[1;32m   1582\u001b[0m     \u001b[38;5;28;01mreturn\u001b[39;00m _getattribute(sys\u001b[38;5;241m.\u001b[39mmodules[module], name)[\u001b[38;5;241m0\u001b[39m]\n",
      "\u001b[0;31mModuleNotFoundError\u001b[0m: No module named 'tqdne.unet_1d'"
     ]
    }
   ],
   "source": [
    "# Choose a model to load by the available names described in the documentation\n",
    "# Choose a checkpoint from /store/sdsc/sd28/models/GM0/diffusion/COND-1D-UNET-DDPM-envelope/\n",
    "\n",
    "# NOTE: the following model don't consider conditioning inputs \n",
    "model_path_str = \"/store/sdsc/sd28/models/GM0/diffusion/1D-UNET-DDPM-envelope/name=0_epoch=87-val_loss=0.37.ckpt\"\n",
    "\n",
    "model, model_data_repr = load_model_by_name('diffusion_1d', map_location=device, path=Path(model_path_str))\n",
    "model.eval()\n",
    "\n",
    "print(model)"
   ]
  },
  {
   "cell_type": "markdown",
   "metadata": {},
   "source": [
    "Let's generate a batch of data:"
   ]
  },
  {
   "cell_type": "code",
   "execution_count": null,
   "metadata": {},
   "outputs": [],
   "source": [
    "# Select the batch size\n",
    "batch_size = 32\n"
   ]
  },
  {
   "cell_type": "code",
   "execution_count": null,
   "metadata": {},
   "outputs": [],
   "source": [
    "# Insert values for the conditional input parameters.\n",
    "# Please read generate_cond_inputs documentation (in utils.py) to understand the structure of cond_input_params dictionary\n",
    "cond_input_params = {\n",
    "    \"hypocentral_distance\": [10, 100, 150],\n",
    "    \"is_shallow_crustal\": [0],\n",
    "    \"log10snr\": [0],\n",
    "    \"magnitude\": [2, 1, 3, 7],\n",
    "    \"vs30\": None,\n",
    "}\n",
    "\n",
    "data = generate_data(model, model_data_repr, batch_size, cond_input_params, device=device.type)\n",
    "#data['cond'].shape, data['cond'].shape\n",
    "\n",
    "#DEBUG\n",
    "#import pickle \n",
    "#with open('data.pickle', 'rb') as f:\n",
    "#    data, cond_input = pickle.load(f)\n",
    "    #data = Representation._to_numpy(data)\n",
    "    #cond_input = Representation._to_numpy(cond_input)\n",
    "#    data = {'waveforms': np.array(data.to('cpu')), 'cond': np.array(cond_input)}\n",
    "\n",
    "     \n",
    "        \n",
    "data['waveforms'].shape, data['cond'].shape"
   ]
  },
  {
   "cell_type": "markdown",
   "metadata": {},
   "source": [
    "## Single Sample Visualization"
   ]
  },
  {
   "cell_type": "code",
   "execution_count": null,
   "metadata": {},
   "outputs": [],
   "source": [
    "plot_waveform_and_psd(get_samples(data, num_samples=1))"
   ]
  },
  {
   "cell_type": "code",
   "execution_count": null,
   "metadata": {},
   "outputs": [],
   "source": [
    "plot_waveform_and_psd(get_samples(data, indexes=[2]))"
   ]
  },
  {
   "cell_type": "code",
   "execution_count": null,
   "metadata": {},
   "outputs": [],
   "source": [
    "plot_waveforms(get_samples(data, num_samples=3), channel_index=0, plot_log_envelope=True)"
   ]
  },
  {
   "cell_type": "code",
   "execution_count": null,
   "metadata": {},
   "outputs": [],
   "source": [
    "plot_waveforms(get_samples(data, num_samples=2), channel_index=0, plot_log_envelope=False)"
   ]
  },
  {
   "cell_type": "markdown",
   "metadata": {},
   "source": [
    "## Batch Statistics"
   ]
  },
  {
   "cell_type": "code",
   "execution_count": null,
   "metadata": {},
   "outputs": [],
   "source": [
    "plot_by_bins(data, num_magnitude_bins=2, num_distance_bins=3, plot='waveform')"
   ]
  },
  {
   "cell_type": "code",
   "execution_count": null,
   "metadata": {},
   "outputs": [],
   "source": [
    "plot_by_bins(data, num_magnitude_bins=2, num_distance_bins=3, plot='envelope')"
   ]
  },
  {
   "cell_type": "markdown",
   "metadata": {},
   "source": [
    "## Evaluation"
   ]
  },
  {
   "cell_type": "code",
   "execution_count": null,
   "metadata": {},
   "outputs": [],
   "source": [
    "# Load Test Data\n",
    "test_dataset_path = config.datasetdir / config.data_test\n",
    "with h5py.File(test_dataset_path,'r', locking=False) as test_file:\n",
    "    test_waveforms = test_file[\"waveform\"][:batch_size*8]\n",
    "    test_features = test_file[\"features\"][:batch_size*8]\n"
   ]
  },
  {
   "cell_type": "code",
   "execution_count": null,
   "metadata": {},
   "outputs": [],
   "source": [
    "test_waveforms.shape, test_features.shape"
   ]
  },
  {
   "cell_type": "code",
   "execution_count": null,
   "metadata": {},
   "outputs": [],
   "source": [
    "# Generate waveforms with the same conditioning parameters of the test data\n",
    "pred_data = generate_data(model, model_data_repr, batch_size=test_features.shape[0], cond_input=test_features, device=device.type)\n",
    "\n",
    "pred_data['waveforms'].shape"
   ]
  },
  {
   "cell_type": "code",
   "execution_count": null,
   "metadata": {},
   "outputs": [],
   "source": [
    "test_data = {\"waveforms\": test_waveforms, \"cond\": test_features}\n",
    "test_data[\"waveforms\"].shape, test_data[\"cond\"].shape"
   ]
  },
  {
   "cell_type": "code",
   "execution_count": null,
   "metadata": {},
   "outputs": [],
   "source": [
    "plot_log_envelope_bins(distance_bins = [(21.6, 37.1), (39., 48.2), (50., 92.0), (93., 144.8)], magnitude_bins = [(3., 5.), (5.1, 6.), (6.1, 7.)], \n",
    "                       channel_index=0,\n",
    "                        test_data = test_data, \n",
    "                        data = None, model = model, model_data_representation = model_data_repr)"
   ]
  },
  {
   "cell_type": "code",
   "execution_count": null,
   "metadata": {},
   "outputs": [],
   "source": [
    "from tqdne.metric import PowerSpectralDensity, BinMetric\n",
    "\n",
    "psd_metrics = [PowerSpectralDensity(fs, channel=channel) for channel in range(pred_data['waveforms'].shape[1])]\n",
    "\n",
    "for psd_metric in psd_metrics:\n",
    "    psd_metric.reset()\n",
    "    psd_metric.update(pred={\"generated\": pred_data['waveforms']}, target={\"representation\": test_waveforms[:, :, : pred_data['waveforms'].shape[-1]], \"cond\": test_features})\n",
    "    psd_metric.plot().show()\n",
    "    \n",
    "    bin_metric = BinMetric(psd_metric, num_mag_bins=3, num_dist_bins=3)\n",
    "    bin_metric.reset()\n",
    "    bin_metric.update(pred={\"generated\": pred_data['waveforms']}, target={\"representation\": test_waveforms[:, :, : pred_data['waveforms'].shape[-1]], \"cond\": test_features})\n",
    "    bin_metric.plot().show()\n",
    "    \n",
    "    "
   ]
  },
  {
   "cell_type": "code",
   "execution_count": null,
   "metadata": {},
   "outputs": [],
   "source": [
    "from tqdne.metric import LogEnvelope\n",
    "\n",
    "log_env_metrics = [LogEnvelope(fs, channel=channel) for channel in range(pred_waveforms.shape[1])]\n",
    "\n",
    "for log_env_metric in log_env_metrics:\n",
    "    log_env_metric.reset()\n",
    "    log_env_metric.update(pred={\"generated\": pred_waveforms}, target={\"representation\": test_waveforms[:, :, : pred_waveforms.shape[-1]], \"cond\": test_features})\n",
    "    log_env_metric.plot().show()\n",
    "    \n",
    "    bin_metric = BinMetric(log_env_metric, num_mag_bins=3, num_dist_bins=3)\n",
    "    bin_metric.reset()\n",
    "    bin_metric.update(pred={\"generated\": pred_waveforms}, target={\"representation\": test_waveforms[:, :, : pred_waveforms.shape[-1]], \"cond\": test_features})\n",
    "    bin_metric.plot().show()\n",
    "    "
   ]
  },
  {
   "cell_type": "code",
   "execution_count": null,
   "metadata": {},
   "outputs": [],
   "source": [
    "# TODO: widgets do not work\n",
    "\n",
    "from tqdne.metric import PowerSpectralDensity, BinMetric\n",
    "import ipywidgets as widgets\n",
    "from functools import partial\n",
    "\n",
    "metrics = {\"Power Spectral Density\": partial(PowerSpectralDensity, fs=config.fs)}\n",
    "\n",
    "# Create a dropdown for selecting the metric\n",
    "metric_dropdown = widgets.Dropdown(\n",
    "    options=metrics.keys(),\n",
    "    description='Metric:',\n",
    ")\n",
    "\n",
    "# Create a slider for selecting the channel\n",
    "channel_slider = widgets.IntSlider(\n",
    "    value=0,\n",
    "    min=0,\n",
    "    max=2,\n",
    "    step=1,\n",
    "    description='Channel:',\n",
    "    disabled=False,\n",
    "    continuous_update=False,\n",
    "    orientation='horizontal',\n",
    "    readout=True,\n",
    "    readout_format='d'\n",
    ")\n",
    "\n",
    "\n",
    "# Bin plot checkbox\n",
    "bin_plot_checkbox = widgets.Checkbox(\n",
    "    value=False,\n",
    "    description='Plot bins',\n",
    "    disabled=False,\n",
    "    indent=True,\n",
    ")\n",
    "\n",
    "# Create a slider for selecting the number of bins\n",
    "num_bins_slider = widgets.IntSlider(\n",
    "    value=10,\n",
    "    min=1,\n",
    "    max=50,\n",
    "    step=1,\n",
    "    description='Num bins:',\n",
    "    disabled=False,\n",
    "    continuous_update=False,\n",
    "    orientation='horizontal',\n",
    "    readout=True,\n",
    "    readout_format='d'\n",
    ")\n",
    "\n",
    "# Function to update the plot\n",
    "def update_plot(metric_name, bin_plot, num_bins=10, channel=0):\n",
    "    metric = metrics[metric_name](channel=channel)\n",
    "    if bin_plot:\n",
    "        metric = BinMetric(metric, num_mag_bins=num_bins, num_dist_bins=num_bins)\n",
    "\n",
    "    # Compute the metric\n",
    "    metric.reset()\n",
    "    metric.update(pred={\"generated\": pred_waveforms}, target={\"representation\": test_waveforms[:, :, : pred_waveforms.shape[-1]], \"cond\": test_features})\n",
    "    metric.plot().show()\n",
    "\n",
    "# Create interactive plot\n",
    "widgets.interact(update_plot, metric_name=metric_dropdown, channel=channel_slider, bin_plot=bin_plot_checkbox, num_bins=num_bins_slider)\n",
    "\n"
   ]
  },
  {
   "cell_type": "code",
   "execution_count": null,
   "metadata": {},
   "outputs": [],
   "source": [
    "print('done')"
   ]
  },
  {
   "cell_type": "code",
   "execution_count": null,
   "metadata": {},
   "outputs": [],
   "source": []
  }
 ],
 "metadata": {
  "kernelspec": {
   "display_name": "tqdne",
   "language": "python",
   "name": "python3"
  },
  "language_info": {
   "codemirror_mode": {
    "name": "ipython",
    "version": 3
   },
   "file_extension": ".py",
   "mimetype": "text/x-python",
   "name": "python",
   "nbconvert_exporter": "python",
   "pygments_lexer": "ipython3",
   "version": "3.11.7"
  }
 },
 "nbformat": 4,
 "nbformat_minor": 4
}
