{
 "cells": [
  {
   "cell_type": "code",
   "execution_count": null,
   "metadata": {},
   "outputs": [],
   "source": [
    "# Some useful modules for notebooks\n",
    "%load_ext autoreload\n",
    "%autoreload 2\n",
    "%matplotlib inline"
   ]
  },
  {
   "cell_type": "code",
   "execution_count": null,
   "metadata": {},
   "outputs": [],
   "source": [
    "import numpy as np\n",
    "import matplotlib.pyplot as plt\n",
    "from tqdne.conf import Config\n",
    "import h5py\n",
    "from tqdne.dataset import extract_sample_from_h5file\n",
    "\n",
    "config = Config()\n"
   ]
  },
  {
   "cell_type": "code",
   "execution_count": null,
   "metadata": {},
   "outputs": [],
   "source": [
    "datapath = config.datapath\n",
    "datapath"
   ]
  },
  {
   "cell_type": "code",
   "execution_count": null,
   "metadata": {},
   "outputs": [],
   "source": [
    "sample_id = 0\n",
    "with h5py.File(datapath, \"r\") as f:\n",
    "    for key in f.keys():\n",
    "        print(f\"Key: {key} -- {f[key].shape}\")\n",
    "\n",
    "    time = f[\"time_vector\"][:]\n",
    "    waveform, features = extract_sample_from_h5file(f, sample_id)\n",
    "plt.plot(time, waveform.T)\n",
    "plt.xlabel(\"Time [s]\")\n"
   ]
  },
  {
   "cell_type": "code",
   "execution_count": null,
   "metadata": {},
   "outputs": [],
   "source": [
    "signal = waveform[0,:4*1024]\n",
    "time = time[:4*1024]\n",
    "plt.plot(time, signal)\n",
    "plt.xlabel(\"Time [s]\")\n"
   ]
  },
  {
   "cell_type": "code",
   "execution_count": null,
   "metadata": {},
   "outputs": [],
   "source": [
    "stft_channels = 512\n",
    "hop_size = 16"
   ]
  },
  {
   "cell_type": "code",
   "execution_count": null,
   "metadata": {},
   "outputs": [],
   "source": [
    "from tifresi.stft import GaussTF, GaussTruncTF\n",
    "# For faster processin, a truncated window can be used instead\n",
    "use_truncated_window = True\n",
    "if use_truncated_window:\n",
    "    stft_system = GaussTruncTF(hop_size=hop_size, stft_channels=stft_channels)\n",
    "else:\n",
    "    stft_system = GaussTF(hop_size=hop_size, stft_channels=stft_channels)\n",
    "\n"
   ]
  },
  {
   "cell_type": "code",
   "execution_count": null,
   "metadata": {},
   "outputs": [],
   "source": [
    "Y = stft_system.spectrogram(signal, normalize=False)"
   ]
  },
  {
   "cell_type": "code",
   "execution_count": null,
   "metadata": {},
   "outputs": [],
   "source": [
    "np.max(np.abs(Y))"
   ]
  },
  {
   "cell_type": "code",
   "execution_count": null,
   "metadata": {},
   "outputs": [],
   "source": [
    "\n",
    "def log_spectrogram(spectrogram, dynamic_range_dB=60):\n",
    "    \"\"\"Compute the log spectrogram representation from a spectrogram.\"\"\"\n",
    "    spectrogram = np.abs(spectrogram)  # for safety\n",
    "    minimum_relative_amplitude = np.max(spectrogram) / 10 ** (dynamic_range_dB / 10)\n",
    "    return 10 * np.log10(np.clip(spectrogram, a_min=minimum_relative_amplitude, a_max=None))\n",
    "\n",
    "\n",
    "def inv_log_spectrogram(log_spec):\n",
    "    \"\"\"Inverse the log representation of the spectrogram or mel spectrogram.\"\"\"\n",
    "    return 10 ** (log_spec / 10)\n",
    "\n"
   ]
  },
  {
   "cell_type": "code",
   "execution_count": null,
   "metadata": {},
   "outputs": [],
   "source": [
    "# We use the log spectrogram as we have a logarithmic perception of sound energy.\n",
    "dynamic_range_dB = 80\n",
    "log_Y= log_spectrogram(Y, dynamic_range_dB)"
   ]
  },
  {
   "cell_type": "code",
   "execution_count": null,
   "metadata": {},
   "outputs": [],
   "source": [
    "plt.figure(dpi=200, figsize=(10,3))\n",
    "plt.imshow(log_Y)\n",
    "plt.colorbar()\n",
    "np.max(log_Y)"
   ]
  },
  {
   "cell_type": "code",
   "execution_count": null,
   "metadata": {},
   "outputs": [],
   "source": [
    "from tifresi.metrics import projection_loss\n",
    "\n",
    "new_Y = inv_log_spectrogram(log_Y)\n",
    "print(projection_loss(new_Y, Y))"
   ]
  },
  {
   "cell_type": "code",
   "execution_count": null,
   "metadata": {},
   "outputs": [],
   "source": [
    "new_signal = stft_system.invert_spectrogram(new_Y)\n"
   ]
  },
  {
   "cell_type": "code",
   "execution_count": null,
   "metadata": {},
   "outputs": [],
   "source": [
    "plt.plot(time, signal, '-b', label=\"original\")\n",
    "plt.plot(time, new_signal, '-r', label=\"reconstructed\", alpha=0.5)\n",
    "plt.legend()\n",
    "plt.xlabel(\"Time [s]\");\n"
   ]
  },
  {
   "cell_type": "code",
   "execution_count": null,
   "metadata": {},
   "outputs": [],
   "source": [
    "plt.plot(time, signal, '-b', label=\"original\")\n",
    "plt.plot(time, -new_signal, '-r', label=\"reconstructed\")\n",
    "plt.legend()\n",
    "plt.xlabel(\"Time [s]\")\n",
    "plt.xlim([8, 12]);"
   ]
  },
  {
   "cell_type": "code",
   "execution_count": null,
   "metadata": {},
   "outputs": [],
   "source": [
    "from tifresi.metrics import projection_loss\n",
    "new_Yp = stft_system.spectrogram(new_signal)\n",
    "print(projection_loss(new_Y, new_Yp))"
   ]
  },
  {
   "cell_type": "code",
   "execution_count": null,
   "metadata": {},
   "outputs": [],
   "source": []
  }
 ],
 "metadata": {
  "kernelspec": {
   "display_name": "tqdne-GZO51An4-py3.11",
   "language": "python",
   "name": "python3"
  },
  "language_info": {
   "codemirror_mode": {
    "name": "ipython",
    "version": 3
   },
   "file_extension": ".py",
   "mimetype": "text/x-python",
   "name": "python",
   "nbconvert_exporter": "python",
   "pygments_lexer": "ipython3",
   "version": "3.11.7"
  }
 },
 "nbformat": 4,
 "nbformat_minor": 2
}
