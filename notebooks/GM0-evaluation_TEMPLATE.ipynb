{
 "cells": [
  {
   "cell_type": "code",
   "execution_count": null,
   "metadata": {},
   "outputs": [],
   "source": [
    "%load_ext autoreload"
   ]
  },
  {
   "cell_type": "code",
   "execution_count": null,
   "metadata": {},
   "outputs": [],
   "source": [
    "%autoreload 2"
   ]
  },
  {
   "cell_type": "markdown",
   "metadata": {},
   "source": [
    "# GM0 Performance Evaluation\n",
    "\n",
    "**IMPORTANT**: This notebook should be used as a base for the evaluation of different models. \n",
    "\n",
    "- Please **make a copy of this notebook** whenever you want to evaluate a model. Load the desired model by changing the following `model_path_str` variable. \n",
    "- This notebook is currently not saving any generated plot. Please make sure to not overwrite the outputs, or to save the plots whenever needed. \n",
    "- This notebook saves the generated data. Please refer to the Evaluation section of this notebook. "
   ]
  },
  {
   "cell_type": "markdown",
   "metadata": {},
   "source": [
    "Available models on the SDSC shared folder: "
   ]
  },
  {
   "cell_type": "code",
   "execution_count": null,
   "metadata": {},
   "outputs": [],
   "source": [
    "!ls /store/sdsc/sd28/models/GM0/diffusion/"
   ]
  },
  {
   "cell_type": "code",
   "execution_count": null,
   "metadata": {},
   "outputs": [],
   "source": [
    "models_folder = \"../outputs/\""
   ]
  },
  {
   "cell_type": "markdown",
   "metadata": {},
   "source": [
    "One can either choose a specific checkpoint of a model or the most recent checkpoint of that model (default):"
   ]
  },
  {
   "cell_type": "code",
   "execution_count": null,
   "metadata": {},
   "outputs": [],
   "source": [
    "# Pick the last checkpoint of the model\n",
    "#model_path_str = models_folder + \"ddim-pred:sample-1D-downsampling:2_SignalWithEnvelope-moving_average-scale:2-log-log_offset:1.0e-07-standardize-scalar:True\"\n",
    "\n",
    "# Or pick a specific checkpoint\n",
    "model_path_str = models_folder + \"ddim-pred:sample-1D-downsampling:2_SignalWithEnvelope-moving_average-scale:2-log-log_offset:1.0e-07-normalize-scalar:True/name=0_epoch=186-val_loss=0.14.ckpt\""
   ]
  },
  {
   "cell_type": "markdown",
   "metadata": {},
   "source": [
    "Import the needed libraries, modules and needed variables"
   ]
  },
  {
   "cell_type": "code",
   "execution_count": null,
   "metadata": {},
   "outputs": [],
   "source": [
    "import matplotlib.pyplot as plt\n",
    "import matplotlib as mpl\n",
    "\n",
    "mpl.rcParams['figure.dpi'] = 100\n",
    "mpl.rcParams['font.size'] = 17\n",
    "\n",
    "\n",
    "import numpy as np\n",
    "import torch\n",
    "import os\n",
    "\n",
    "from pathlib import Path\n",
    "from tqdne.utils import *\n",
    "from tqdne.conf import Config\n",
    "from tqdne.metric import *\n",
    "\n",
    "from tqdne.dataset import RepresentationDataset \n",
    "from torch.utils.data import DataLoader, ConcatDataset\n",
    "from tqdne.plot import BinPlot\n"
   ]
  },
  {
   "cell_type": "code",
   "execution_count": null,
   "metadata": {},
   "outputs": [],
   "source": [
    "if torch.cuda.is_available():\n",
    "    device = torch.device('cuda')\n",
    "    torch.cuda.empty_cache()\n",
    "else: \n",
    "    device = torch.device('cpu')\n",
    "\n",
    "torch.cuda.is_available(), device"
   ]
  },
  {
   "cell_type": "code",
   "execution_count": null,
   "metadata": {},
   "outputs": [],
   "source": [
    "config = Config()\n",
    "\n",
    "# Select the signal length\n",
    "signal_length = config.original_signal_length \n",
    "\n",
    "# Set the sampling frequency\n",
    "fs = config.original_fs\n",
    "\n",
    "# Set the number of channels of the original waveforms  \n",
    "n_channels = config.num_channels\n",
    "\n",
    "# Set the conditioning parameters range\n",
    "cond_params_range = config.conditional_params_range"
   ]
  },
  {
   "cell_type": "markdown",
   "metadata": {},
   "source": [
    "Restore the sampling rate and signal length that were used during training"
   ]
  },
  {
   "cell_type": "code",
   "execution_count": null,
   "metadata": {},
   "outputs": [],
   "source": [
    "if \"downsampling\" in model_path_str:\n",
    "    downsampling = int(model_path_str.split(\"downsampling:\")[1].split(\"_\")[0])\n",
    "    signal_length = signal_length // downsampling\n",
    "    fs = fs // downsampling\n",
    "    config.signal_length = signal_length\n",
    "    config.fs = fs\n",
    "    print(f\"Updated signal length: {config.signal_length} and fs: {config.fs}\")\n",
    "else:\n",
    "    downsampling = 1    "
   ]
  },
  {
   "cell_type": "markdown",
   "metadata": {},
   "source": [
    "Load the model"
   ]
  },
  {
   "cell_type": "code",
   "execution_count": null,
   "metadata": {},
   "outputs": [],
   "source": [
    "model, model_data_repr, ckpt = load_model(Path(model_path_str), device=device)"
   ]
  },
  {
   "cell_type": "markdown",
   "metadata": {},
   "source": [
    "Let's generate a batch of data"
   ]
  },
  {
   "cell_type": "code",
   "execution_count": null,
   "metadata": {},
   "outputs": [],
   "source": [
    "# Select the batch size.\n",
    "batch_size = model.hparams.optimizer_params.batch_size\n",
    "\n",
    "# One can also choose the batch size\n",
    "# batch_size = 32\n",
    "\n",
    "batch_size = batch_size*3\n",
    "batch_size"
   ]
  },
  {
   "cell_type": "code",
   "execution_count": null,
   "metadata": {},
   "outputs": [],
   "source": [
    "# Insert values for the conditional input parameters.\n",
    "# Please read generate_cond_inputs documentation (in utils.py) to understand the structure of cond_input_params dictionary\n",
    "cond_input_params = {\n",
    "    \"hypocentral_distance\": [10, 50, 100, 150],\n",
    "    \"is_shallow_crustal\": [0],\n",
    "    \"magnitude\": [5.5, 4, 7, 8.8],\n",
    "    \"vs30\": None,\n",
    "}\n",
    "\n",
    "data_raw = generate_data(model, model_data_representation=model_data_repr, raw_output=True, num_samples=batch_size, cond_input_params=cond_input_params, device=device.type)\n",
    "data_raw['waveforms'].shape, data_raw['cond'].shape"
   ]
  },
  {
   "cell_type": "code",
   "execution_count": null,
   "metadata": {},
   "outputs": [],
   "source": [
    "data_raw_wf = data_raw['waveforms']\n",
    "data_raw_wf.shape"
   ]
  },
  {
   "cell_type": "code",
   "execution_count": null,
   "metadata": {},
   "outputs": [],
   "source": [
    "data_wf = model_data_repr.invert_representation(data_raw_wf)\n",
    "data_wf.shape"
   ]
  },
  {
   "cell_type": "markdown",
   "metadata": {},
   "source": [
    "Timing test"
   ]
  },
  {
   "cell_type": "code",
   "execution_count": null,
   "metadata": {},
   "outputs": [],
   "source": [
    "import time\n",
    "\n",
    "start = time.time()\n",
    "generate_data(model, model_data_representation=model_data_repr, raw_output=False, num_samples=128, cond_input_params=cond_input_params, device=device.type, batch_size=128)['waveforms'].shape\n",
    "print(time.time() - start)"
   ]
  },
  {
   "cell_type": "markdown",
   "metadata": {},
   "source": [
    "## Single Sample Visualization"
   ]
  },
  {
   "cell_type": "markdown",
   "metadata": {},
   "source": [
    "Let's investigate model's raw output "
   ]
  },
  {
   "cell_type": "code",
   "execution_count": null,
   "metadata": {},
   "outputs": [],
   "source": [
    "sample_index = 0\n",
    "plot_raw_waveform(data_raw_wf[sample_index], data_raw['cond'][sample_index], model_data_repr, data_wf[sample_index])"
   ]
  },
  {
   "cell_type": "code",
   "execution_count": null,
   "metadata": {},
   "outputs": [],
   "source": [
    "sample_index = 3\n",
    "plot_raw_waveform(data_raw_wf[sample_index], data_raw['cond'][sample_index], model_data_repr, data_wf[sample_index])"
   ]
  },
  {
   "cell_type": "code",
   "execution_count": null,
   "metadata": {},
   "outputs": [],
   "source": [
    "sample_index = -1\n",
    "plot_raw_waveform(data_raw_wf[sample_index], data_raw['cond'][sample_index], model_data_repr, data_wf[sample_index])"
   ]
  },
  {
   "cell_type": "code",
   "execution_count": null,
   "metadata": {},
   "outputs": [],
   "source": [
    "magnitude = 6.5\n",
    "distance = 80\n",
    "is_shallow_crustal = 1\n",
    "vs30 = 650\n",
    "cond_input = np.array([distance, is_shallow_crustal, magnitude, vs30], np.float32).reshape(1, -1)\n",
    "plot_raw_waveform(\n",
    "    generate_data(model, model_data_repr, raw_output=True, cond_input=cond_input, device=device.type)['waveforms'][0],\n",
    "    cond_input, \n",
    "    model_data_repr \n",
    ")"
   ]
  },
  {
   "cell_type": "code",
   "execution_count": null,
   "metadata": {},
   "outputs": [],
   "source": [
    "# TODO: works only for 1D signals, need to generalize to 2D signals. However, is only useful for 1D signals.\n",
    "# max_peak_index = np.argmax(np.max(np.abs(data_raw_wf), axis=(1, 2)))\n",
    "# plot_raw_waveform(data_raw_wf[max_peak_index], n_channels, data_wf[max_peak_index])"
   ]
  },
  {
   "cell_type": "markdown",
   "metadata": {},
   "source": [
    "Let's now see the generated waveforms, along with their Power Spectral Density and Log Envelope. "
   ]
  },
  {
   "cell_type": "code",
   "execution_count": null,
   "metadata": {},
   "outputs": [],
   "source": [
    "data = {\"waveforms\": data_wf, \"cond\": data_raw['cond']}"
   ]
  },
  {
   "cell_type": "code",
   "execution_count": null,
   "metadata": {},
   "outputs": [],
   "source": [
    "plot_waveform_and_psd(get_samples(data, num_samples=1))"
   ]
  },
  {
   "cell_type": "code",
   "execution_count": null,
   "metadata": {},
   "outputs": [],
   "source": [
    "plot_waveform_and_psd(get_samples(data, indexes=[2]))"
   ]
  },
  {
   "cell_type": "code",
   "execution_count": null,
   "metadata": {},
   "outputs": [],
   "source": [
    "plot_waveforms(get_samples(data, num_samples=3), channel_index=0, plot_log_envelope=True)"
   ]
  },
  {
   "cell_type": "code",
   "execution_count": null,
   "metadata": {},
   "outputs": [],
   "source": [
    "plot_waveforms(get_samples(data, num_samples=2), channel_index=0, plot_log_envelope=False)"
   ]
  },
  {
   "cell_type": "markdown",
   "metadata": {},
   "source": [
    "Critical scenario evaluation"
   ]
  },
  {
   "cell_type": "code",
   "execution_count": null,
   "metadata": {},
   "outputs": [],
   "source": [
    "mag_critical = 9\n",
    "dists_critical = [40, 100, 180, 230]\n",
    "vs30_critical = 260\n",
    "is_shallow_crustal_critical = False\n",
    "\n",
    "cond_input = np.array([[dist_critical, is_shallow_crustal_critical, mag_critical, vs30_critical] for dist_critical in dists_critical])\n",
    "data_critical = generate_data(model, model_data_representation=model_data_repr, raw_output=False, cond_input=cond_input, device=device.type)\n",
    "\n",
    "plot_waveforms(data_critical, plot_log_envelope=False)"
   ]
  },
  {
   "cell_type": "markdown",
   "metadata": {},
   "source": [
    "## Batch Statistics"
   ]
  },
  {
   "cell_type": "code",
   "execution_count": null,
   "metadata": {},
   "outputs": [],
   "source": [
    "plot_by_bins(data, num_magnitude_bins=3, num_distance_bins=3, plot_type='waveform')"
   ]
  },
  {
   "cell_type": "code",
   "execution_count": null,
   "metadata": {},
   "outputs": [],
   "source": [
    "plot_by_bins(data, num_magnitude_bins=3, num_distance_bins=3, plot_type='log_envelope')"
   ]
  },
  {
   "cell_type": "code",
   "execution_count": null,
   "metadata": {},
   "outputs": [],
   "source": [
    "plot_by_bins(data, num_magnitude_bins=3, num_distance_bins=3, plot_type='power_spectral_density')"
   ]
  },
  {
   "cell_type": "code",
   "execution_count": null,
   "metadata": {},
   "outputs": [],
   "source": [
    "del data\n",
    "del data_raw"
   ]
  },
  {
   "cell_type": "markdown",
   "metadata": {},
   "source": [
    "## Evaluation"
   ]
  },
  {
   "cell_type": "code",
   "execution_count": null,
   "metadata": {},
   "outputs": [],
   "source": [
    "from tqdne.representations import Signal\n",
    "\n",
    "train_dataset_path = config.datasetdir / config.data_train\n",
    "train_dataset = RepresentationDataset(train_dataset_path, Signal(), pad=config.signal_length*downsampling, downsample=downsampling)\n",
    "train_dataloader = DataLoader(train_dataset, batch_size=batch_size, shuffle=False)\n",
    "\n",
    "test_dataset_path = config.datasetdir / config.data_test\n",
    "test_dataset = RepresentationDataset(test_dataset_path, Signal(), pad=config.signal_length*downsampling, downsample=downsampling)\n",
    "test_dataloader = DataLoader(test_dataset, batch_size=batch_size, shuffle=False)"
   ]
  },
  {
   "cell_type": "code",
   "execution_count": null,
   "metadata": {},
   "outputs": [],
   "source": [
    "random_sample = test_dataset[np.random.choice(len(test_dataset), 1)]\n",
    "plot_generated_against_real_waveform(random_sample['waveform'], random_sample['cond'], model, model_data_repr, device=device, channel_index=0, num_samples=4)"
   ]
  },
  {
   "cell_type": "code",
   "execution_count": null,
   "metadata": {},
   "outputs": [],
   "source": [
    "random_sample = test_dataset[np.random.choice(len(test_dataset), 1)]\n",
    "plot_generated_against_real_waveform(random_sample['waveform'], random_sample['cond'], model, model_data_repr, device=device)"
   ]
  },
  {
   "cell_type": "code",
   "execution_count": null,
   "metadata": {},
   "outputs": [],
   "source": [
    "sample_high_mag = test_dataset.get_data_by_bin(magnitude_bin=(7.7, 9.5), distance_bin=(10, 150))\n",
    "plot_generated_against_real_waveform(sample_high_mag['waveform'], sample_high_mag['cond'], model, model_data_repr, device=device)"
   ]
  },
  {
   "cell_type": "code",
   "execution_count": null,
   "metadata": {},
   "outputs": [],
   "source": [
    "random_indexes = np.random.choice(len(test_dataset), 11, replace=False)\n",
    "plot_generated_vs_real_waveforms(\n",
    "    generated_data = generate_data(model, model_data_representation=model_data_repr, raw_output=False, cond_input=test_dataset[random_indexes]['cond'], device=device.type),\n",
    "    real_data = test_dataset[random_indexes],\n",
    "    channel_index = 0\n",
    ")"
   ]
  },
  {
   "cell_type": "code",
   "execution_count": null,
   "metadata": {},
   "outputs": [],
   "source": [
    "random_indexes = np.random.choice(len(test_dataset), 8, replace=False)\n",
    "plot_generated_vs_real_waveforms(\n",
    "    generated_data = generate_data(model, model_data_representation=model_data_repr, raw_output=False, cond_input=test_dataset[random_indexes]['cond'], device=device.type),\n",
    "    real_data = test_dataset[random_indexes],\n",
    "    channel_index = -1\n",
    ")"
   ]
  },
  {
   "cell_type": "markdown",
   "metadata": {},
   "source": [
    "Let's generate couple of samples with the same conditioning parameters to check the expressiveness of the model and check if it lies within the true data distribution. "
   ]
  },
  {
   "cell_type": "code",
   "execution_count": null,
   "metadata": {},
   "outputs": [],
   "source": [
    "mag_bin = (4, 5)\n",
    "dist_bin = (120, 150)\n",
    "data_test_single_bin = test_dataset.get_data_by_bin(mag_bin, dist_bin, is_shallow_crustal=0)\n",
    "cond_params_mean = data_test_single_bin['cond'].mean(axis=0).reshape(1,-1)\n",
    "data_pred_single_bin = generate_data(model, model_data_representation=model_data_repr, raw_output=False, num_samples=7, cond_input=cond_params_mean, device=device.type)\n",
    "\n",
    "plot_waveforms(data_pred_single_bin, test_waveforms=data_test_single_bin['waveform'])"
   ]
  },
  {
   "cell_type": "code",
   "execution_count": null,
   "metadata": {},
   "outputs": [],
   "source": [
    "mag_bin = (6, 6.5)\n",
    "dist_bin = (50, 70)\n",
    "data_test_single_bin = test_dataset.get_data_by_bin(mag_bin, dist_bin, is_shallow_crustal=0)\n",
    "cond_params_mean = data_test_single_bin['cond'].mean(axis=0).reshape(1,-1)\n",
    "data_pred_single_bin = generate_data(model, model_data_representation=model_data_repr, raw_output=False, num_samples=7, cond_input=cond_params_mean, device=device.type)\n",
    "\n",
    "plot_waveforms(data_pred_single_bin, test_waveforms=data_test_single_bin['waveform'])"
   ]
  },
  {
   "cell_type": "code",
   "execution_count": null,
   "metadata": {},
   "outputs": [],
   "source": [
    "mag_bin = (7.5, 8.5)\n",
    "dist_bin = (60, 100)\n",
    "data_real_single_bin_test = test_dataset.get_data_by_bin(mag_bin, dist_bin, is_shallow_crustal=0)\n",
    "data_real_single_bin_train = train_dataset.get_data_by_bin(mag_bin, dist_bin, is_shallow_crustal=0)\n",
    "data_real_single_bin = {\n",
    "    'waveform': np.concatenate([data_real_single_bin_test['waveform'], data_real_single_bin_train['waveform']], axis=0),\n",
    "    'cond': np.concatenate([data_real_single_bin_test['cond'], data_real_single_bin_train['cond']], axis=0)\n",
    "}\n",
    "\n",
    "cond_params_mean = data_real_single_bin['cond'].mean(axis=0).reshape(1,-1)\n",
    "data_pred_single_bin = generate_data(model, model_data_representation=model_data_repr, raw_output=False, num_samples=5, cond_input=cond_params_mean, device=device.type)\n",
    "\n",
    "plot_waveforms(data_pred_single_bin, test_waveforms=data_real_single_bin['waveform'])"
   ]
  },
  {
   "cell_type": "code",
   "execution_count": null,
   "metadata": {},
   "outputs": [],
   "source": [
    "mag_bin = (6.5, 7.5)\n",
    "dist_bin = (50, 80)\n",
    "data_real_single_bin = test_dataset.get_data_by_bin(mag_bin, dist_bin, is_shallow_crustal=0)\n",
    "cond_params_mean = data_real_single_bin['cond'].mean(axis=0).reshape(1,-1)\n",
    "data_pred_single_bin = generate_data(model, model_data_representation=model_data_repr, raw_output=False, num_samples=5, cond_input=cond_params_mean, device=device.type)\n",
    "\n",
    "plot_waveforms(data_pred_single_bin, test_waveforms=data_real_single_bin['waveform'])"
   ]
  },
  {
   "cell_type": "code",
   "execution_count": null,
   "metadata": {},
   "outputs": [],
   "source": [
    "plot_waveforms(data_pred_single_bin, test_waveforms=data_real_single_bin['waveform'], channel_index=1)"
   ]
  },
  {
   "cell_type": "code",
   "execution_count": null,
   "metadata": {},
   "outputs": [],
   "source": [
    "plot_waveforms(data_pred_single_bin, test_waveforms=data_real_single_bin['waveform'], channel_index=2)"
   ]
  },
  {
   "cell_type": "markdown",
   "metadata": {},
   "source": [
    "Let's now compare the statistics of the generated data wrt the real data."
   ]
  },
  {
   "cell_type": "code",
   "execution_count": null,
   "metadata": {},
   "outputs": [],
   "source": [
    "real_data = {\n",
    "    \"waveforms\": np.concatenate([test_dataset[:]['waveform'], train_dataset[:]['waveform']], axis=0),\n",
    "    \"cond\": np.concatenate([test_dataset[:]['cond'], train_dataset[:]['cond']], axis=0)\n",
    "}\n",
    "real_data['waveforms'].shape, real_data['cond'].shape"
   ]
  },
  {
   "cell_type": "markdown",
   "metadata": {},
   "source": [
    "Now let's generate more samples to perform an analysis by dividing the data in bins (magnitude and distance). "
   ]
  },
  {
   "cell_type": "markdown",
   "metadata": {},
   "source": [
    "Let's save the generated data future use.\n",
    "\n",
    "The data will be saved as a `dict` with keys `waveforms` and `cond` in the same place of the checkpoint of the selected model, with the same name of `ckpt`, except for the extension of the file (saved as a HDF5 `.hdf5` file).\n",
    "The optimal approach for downloading the generated dataset to a local storage location is to replace the string `hdf5_filename` with the desired filename, thus enabling the file to be stored in the current directory. This file may then be downloaded via the integrated visual interface of VSCode or JupyterLab. \n"
   ]
  },
  {
   "cell_type": "code",
   "execution_count": null,
   "metadata": {},
   "outputs": [],
   "source": [
    "# Save the generated waveforms along with the conditioning parameters\n",
    "hdf5_filename = f\"{str(ckpt).replace('.ckpt', '.hdf5')}\"\n",
    "hdf5_filepath = Path(hdf5_filename)"
   ]
  },
  {
   "cell_type": "markdown",
   "metadata": {},
   "source": [
    "**Disclaimer** \n",
    "\n",
    "The next cell takes long time as it generates ~200k samples. Therefore it is executed only if `generate_data_flag` define right below is set to `True`.  "
   ]
  },
  {
   "cell_type": "code",
   "execution_count": null,
   "metadata": {},
   "outputs": [],
   "source": [
    "generate_data_flag = False"
   ]
  },
  {
   "cell_type": "markdown",
   "metadata": {},
   "source": [
    "If the `hdf5_filename` file already contains the generated samples (as it should be), then it is possible to skip the next 2 cells and upload the samples from the file."
   ]
  },
  {
   "cell_type": "code",
   "execution_count": null,
   "metadata": {},
   "outputs": [],
   "source": [
    "# Generate waveforms with the same conditioning parameters of the real data\n",
    "if generate_data_flag:\n",
    "    generated_raw_data = generate_data(\n",
    "        model, \n",
    "        model_data_repr, \n",
    "        raw_output=True, \n",
    "        num_samples=real_data['waveforms'].shape[0], \n",
    "        cond_input=real_data['cond'], \n",
    "        device=device.type, \n",
    "        batch_size=batch_size,\n",
    "        save_path=hdf5_filepath\n",
    "    )\n",
    "\n",
    "    generated_raw_data['waveforms'].shape, generated_raw_data['cond'].shape"
   ]
  },
  {
   "cell_type": "markdown",
   "metadata": {},
   "source": [
    "Let's check the raw outputs by comparing them statistically with real data in the representation domain. "
   ]
  },
  {
   "cell_type": "code",
   "execution_count": null,
   "metadata": {},
   "outputs": [],
   "source": [
    "if generate_data_flag:\n",
    "    plot_raw_output_distribution(generated_raw_data[\"waveforms\"], real_data['waveform'], model_data_repr)"
   ]
  },
  {
   "cell_type": "code",
   "execution_count": null,
   "metadata": {},
   "outputs": [],
   "source": [
    "# Upload all the generated samples stored in the file \n",
    "with h5py.File(hdf5_filepath, 'r') as f:\n",
    "    generated_data = {\"waveforms\": f['waveforms'][:], \"cond\": f['cond'][:]}\n",
    "    if generated_data['waveforms'].shape[1] > n_channels or len(generated_data['waveforms'].shape) > 3:\n",
    "        generated_data = model_data_repr.invert_representation(generated_data)\n",
    "\n",
    "generated_data['waveforms'].shape, generated_data['cond'].shape"
   ]
  },
  {
   "cell_type": "markdown",
   "metadata": {},
   "source": [
    "And let's now compare the generated data against the real ones. "
   ]
  },
  {
   "cell_type": "code",
   "execution_count": null,
   "metadata": {},
   "outputs": [],
   "source": [
    "distance_bins = [(0, 30), (30, 60), (60, 100), (100., 150.), (150., 200.)]\n",
    "magnitude_bins = [(4.5, 5.0), (5., 5.5), (5.5, 6.5), (6.5, 7.5), (7.5, 9.5)]"
   ]
  },
  {
   "cell_type": "code",
   "execution_count": null,
   "metadata": {},
   "outputs": [],
   "source": [
    "plot_bins(\n",
    "    plot_type='log_envelope',\n",
    "    distance_bins=distance_bins,\n",
    "    magnitude_bins=magnitude_bins,\n",
    "    channel_index=0,\n",
    "    test_data=real_data, \n",
    "    data=generated_data, \n",
    "    model=model,\n",
    "    model_data_representation = model_data_repr\n",
    ")"
   ]
  },
  {
   "cell_type": "code",
   "execution_count": null,
   "metadata": {},
   "outputs": [],
   "source": [
    "plot_bins(\n",
    "    plot_type='log_envelope',\n",
    "    distance_bins=distance_bins,\n",
    "    magnitude_bins=magnitude_bins,\n",
    "    channel_index=1,\n",
    "    test_data=real_data, \n",
    "    data=generated_data, \n",
    "    model=model,\n",
    "    model_data_representation = model_data_repr\n",
    ")"
   ]
  },
  {
   "cell_type": "code",
   "execution_count": null,
   "metadata": {},
   "outputs": [],
   "source": [
    "plot_bins(\n",
    "    plot_type='log_envelope',\n",
    "    distance_bins=distance_bins,\n",
    "    magnitude_bins=magnitude_bins,\n",
    "    channel_index=2,\n",
    "    test_data=real_data, \n",
    "    data=generated_data, \n",
    "    model=model,\n",
    "    model_data_representation = model_data_repr\n",
    ")"
   ]
  },
  {
   "cell_type": "code",
   "execution_count": null,
   "metadata": {},
   "outputs": [],
   "source": [
    "from tqdne.metric import LogEnvelope\n",
    "\n",
    "for ch in range(n_channels):\n",
    "    fig = BinPlot(metric=LogEnvelope(channel=ch, invert_representation=False), mag_bins=magnitude_bins, dist_bins=distance_bins, fmt=\".0f\")(\n",
    "        preds=generated_data['waveforms'],\n",
    "        target=real_data['waveforms'],\n",
    "        cond=real_data['cond']\n",
    "    )\n",
    "    plt.show()\n",
    "    #fig.savefig(f\"../figures/logenv_heatmap_{ch}.pdf\")"
   ]
  },
  {
   "cell_type": "code",
   "execution_count": null,
   "metadata": {},
   "outputs": [],
   "source": [
    "plot_bins(\n",
    "    plot_type='power_spectral_density',\n",
    "    distance_bins=distance_bins,\n",
    "    magnitude_bins=magnitude_bins,\n",
    "    channel_index=0,\n",
    "    test_data=real_data, \n",
    "    data=generated_data, \n",
    "    model=model,\n",
    "    model_data_representation=model_data_repr\n",
    ")"
   ]
  },
  {
   "cell_type": "code",
   "execution_count": null,
   "metadata": {},
   "outputs": [],
   "source": [
    "plot_bins(\n",
    "    plot_type='power_spectral_density',\n",
    "    distance_bins=distance_bins,\n",
    "    magnitude_bins=magnitude_bins,\n",
    "    channel_index=1,\n",
    "    test_data=real_data, \n",
    "    data=generated_data, \n",
    "    model=model,\n",
    "    model_data_representation=model_data_repr\n",
    ")"
   ]
  },
  {
   "cell_type": "code",
   "execution_count": null,
   "metadata": {},
   "outputs": [],
   "source": [
    "plot_bins(\n",
    "    plot_type='power_spectral_density',\n",
    "    distance_bins=distance_bins,\n",
    "    magnitude_bins=magnitude_bins,\n",
    "    channel_index=2,\n",
    "    test_data=real_data, \n",
    "    data=generated_data, \n",
    "    model=model,\n",
    "    model_data_representation=model_data_repr\n",
    ")"
   ]
  },
  {
   "cell_type": "code",
   "execution_count": null,
   "metadata": {},
   "outputs": [],
   "source": [
    "from tqdne.metric import PowerSpectralDensity\n",
    "for ch in range(n_channels):\n",
    "    fig = BinPlot(metric=PowerSpectralDensity(fs=fs, channel=ch, invert_representation=False), mag_bins=magnitude_bins, dist_bins=distance_bins, fmt=\".0f\")(\n",
    "        preds=generated_data['waveforms'],\n",
    "        target=real_data['waveforms'],\n",
    "        cond=real_data['cond']\n",
    "    )\n",
    "    plt.show()\n",
    "    #fig.savefig(f\"../figures/psd_heatmap_{ch}.pdf\")"
   ]
  },
  {
   "cell_type": "code",
   "execution_count": null,
   "metadata": {},
   "outputs": [],
   "source": [
    "# Compare the mean of the generated signals against the real ones, for each channel\n",
    "print(f\"Mean of generated signals channels: {generated_data['waveforms'].mean(axis=(0, -1))}\")\n",
    "print(f\"Mean of real signals channels: {real_data['waveforms'].mean(axis=(0, -1))}\")"
   ]
  },
  {
   "cell_type": "markdown",
   "metadata": {},
   "source": [
    "### Neural Metrics"
   ]
  },
  {
   "cell_type": "code",
   "execution_count": null,
   "metadata": {},
   "outputs": [],
   "source": [
    "classifier_path = Path(\"../outputs/classifier-2D-32Chan-(1, 2, 4, 8)Mult-2ResBlocks-4AttHeads_LogSpectrogram-stft_ch:128-hop_size:32/name=0_epoch=27-val_loss=0.92.ckpt\")\n",
    "classifier, classifier_data_repr, classifier_ckpt = load_model(classifier_path, signal_length=signal_length, device=device)\n",
    "classifier_ckpt"
   ]
  },
  {
   "cell_type": "markdown",
   "metadata": {},
   "source": [
    "#### Fréchet Embedding Distance (FED)"
   ]
  },
  {
   "cell_type": "code",
   "execution_count": null,
   "metadata": {},
   "outputs": [],
   "source": [
    "from tqdne.metric import frechet_distance"
   ]
  },
  {
   "cell_type": "markdown",
   "metadata": {},
   "source": [
    "##### Train Set vs Test Set"
   ]
  },
  {
   "cell_type": "code",
   "execution_count": null,
   "metadata": {},
   "outputs": [],
   "source": [
    "train_embeddings = classifier.get_embeddings(train_dataloader, classifier_data_repr)\n",
    "test_embeddings = classifier.get_embeddings(test_dataloader, classifier_data_repr)\n",
    "\n",
    "fid_train_vs_test = frechet_distance(train_embeddings, test_embeddings)\n",
    "print(f\"FID lowerbound (train (N={len(train_dataset)}) vs test (N={len(test_dataset)})): {fid_train_vs_test}\")"
   ]
  },
  {
   "cell_type": "markdown",
   "metadata": {},
   "source": [
    "##### Generated vs Test"
   ]
  },
  {
   "cell_type": "code",
   "execution_count": null,
   "metadata": {},
   "outputs": [],
   "source": [
    "gen_embeddings = classifier.get_embeddings(generated_data['waveforms'], classifier_data_repr)\n",
    "\n",
    "fid_test_vs_gen = frechet_distance(test_embeddings, gen_embeddings)\n",
    "print(f\"FID test (N={len(test_dataset)}) vs generated (N={generated_data['waveforms'].shape[0]}): {fid_test_vs_gen}\")"
   ]
  },
  {
   "cell_type": "markdown",
   "metadata": {},
   "source": [
    "##### Generated vs Real"
   ]
  },
  {
   "cell_type": "code",
   "execution_count": null,
   "metadata": {},
   "outputs": [],
   "source": [
    "fid_real_vs_gen = frechet_distance(np.concatenate([train_embeddings, test_embeddings], axis=0), gen_embeddings)\n",
    "print(f\"FID real (N={train_embeddings.shape[0] + test_embeddings.shape[0]}) vs generated (N={gen_embeddings.shape[0]}): {fid_real_vs_gen}\")"
   ]
  },
  {
   "cell_type": "code",
   "execution_count": null,
   "metadata": {},
   "outputs": [],
   "source": [
    "fid_metric = lambda x, y: frechet_distance(x, y)\n",
    "fig = BinPlot(metric=fid_metric, mag_bins=magnitude_bins, dist_bins=distance_bins, fmt=\".0f\", title=\"Embedding Fréchet distance\")(\n",
    "    preds={\"waveforms\": gen_embeddings, \"cond\": generated_data['cond']},\n",
    "    target={\"waveforms\": np.concatenate([train_embeddings, test_embeddings]), \"cond\": real_data['cond']}   \n",
    ")\n",
    "plt.show()\n",
    "#fig.savefig(\"../figures/embedding_full-dataset_heatmap.pdf\")"
   ]
  },
  {
   "cell_type": "markdown",
   "metadata": {},
   "source": [
    "#### Classifier Accuracy"
   ]
  },
  {
   "cell_type": "code",
   "execution_count": null,
   "metadata": {},
   "outputs": [],
   "source": [
    "def get_labels(mags, dists):\n",
    "    mag_bins = [(4.5, 4.8), (4.8, 5), (5, 5.5), (5.5, 6.5), (6.5, 9.1)]\n",
    "    dist_bins = [(0, 50), (50, 100), (100, 150), (150, 200)]\n",
    "    # TODO: \n",
    "    #mag_bins = classifier.ml_config.bins.mag\n",
    "    #dis_bins = classifier.ml_config.bins.dist\n",
    "    bin_mapping = {f\"{i}_{j}\": idx for idx, (i, j) in enumerate(np.ndindex((len(dist_bins), len(mag_bins))))}\n",
    "    labels = np.zeros(len(mags), dtype=int)\n",
    "    sample_idx = 0 \n",
    "    for mag, dist in zip(mags, dists):\n",
    "        for i, dist_bin in enumerate(dist_bins):\n",
    "            for j, mag_bin in enumerate(mag_bins):\n",
    "                if dist >= dist_bin[0] and dist < dist_bin[1] and mag >= mag_bin[0] and mag < mag_bin[1]:\n",
    "                    labels[sample_idx] = bin_mapping[f\"{i}_{j}\"] \n",
    "                    sample_idx += 1\n",
    "    return labels                \n",
    "\n",
    "def accuracy(logits, labels):\n",
    "    return (logits.argmax(axis=-1) == labels).mean() * 100"
   ]
  },
  {
   "cell_type": "code",
   "execution_count": null,
   "metadata": {},
   "outputs": [],
   "source": [
    "classifier_preds = classifier.get_predictions(gen_embeddings, from_embeddings=True)\n",
    "real_labels = get_labels(generated_data['cond'][:, 2], generated_data['cond'][:, 0])\n",
    "print(f\"Accuracy - Synthetic Dataset (Full): {round(accuracy(logits=classifier_preds,  labels=real_labels), 3)} %\")\n",
    "train_start_idx = len(test_dataset)\n",
    "print(f\"Accuracy - Synthetic Dataset (Test): {round(accuracy(logits=classifier_preds[:train_start_idx], labels=real_labels[:train_start_idx]), 3)} %\")\n",
    "print(f\"Accuracy - Real Dataset (Test): {round(accuracy(classifier.get_predictions(test_dataset[:]['waveform'], classifier_data_repr), real_labels[:train_start_idx]), 3)} %\")\n",
    "print(f\"Accuracy - Real Dataset (Train): {round(accuracy(classifier.get_predictions(train_dataset[:]['waveform'], classifier_data_repr), real_labels[train_start_idx:]), 3)} %\")"
   ]
  },
  {
   "cell_type": "code",
   "execution_count": null,
   "metadata": {},
   "outputs": [],
   "source": [
    "fig = BinPlot(metric=accuracy, mag_bins=magnitude_bins, dist_bins=distance_bins, fmt=\".0f\", title=\"Accuracy\")(\n",
    "    preds=classifier_preds,\n",
    "    target=real_labels,  # missusing target for labels\n",
    "    cond=generated_data['cond']\n",
    ")\n",
    "plt.show()"
   ]
  },
  {
   "cell_type": "code",
   "execution_count": null,
   "metadata": {},
   "outputs": [],
   "source": [
    "fig = BinPlot(metric=accuracy, mag_bins=magnitude_bins, dist_bins=distance_bins, fmt=\".0f\", title=\"Accuracy - Real Test Dataset\")(\n",
    "    preds=classifier.get_predictions(test_dataset[:]['waveform'], classifier_data_repr),\n",
    "    target=real_labels[:len(test_dataset)],  # missusing target for labels\n",
    "    cond=test_dataset[:]['cond']\n",
    ")\n",
    "plt.show()"
   ]
  },
  {
   "cell_type": "markdown",
   "metadata": {},
   "source": [
    "#### Compute Embedding Score"
   ]
  },
  {
   "cell_type": "code",
   "execution_count": null,
   "metadata": {},
   "outputs": [],
   "source": [
    "from tqdne.metric import compute_inception_score\n",
    "\n",
    "classifier_probs = classifier.get_probabilities(gen_embeddings, from_embeddings=True)\n",
    "print(\"Inception Score - Synthetic Dataset (Full):\", compute_inception_score(classifier_probs))\n",
    "#print(\"Inception Score - Synthetic Dataset (Test):\", compute_inception_score(classifier_probs[:train_start_idx]))\n",
    "print(\"Inception Score - Real Dataset (Full):\", compute_inception_score(classifier.get_probabilities(real_data['waveforms'], classifier_data_repr)))"
   ]
  }
 ],
 "metadata": {
  "kernelspec": {
   "display_name": "tqdne-kernel",
   "language": "python",
   "name": "tqdne-kernel"
  },
  "language_info": {
   "codemirror_mode": {
    "name": "ipython",
    "version": 3
   },
   "file_extension": ".py",
   "mimetype": "text/x-python",
   "name": "python",
   "nbconvert_exporter": "python",
   "pygments_lexer": "ipython3",
   "version": "3.11.7"
  }
 },
 "nbformat": 4,
 "nbformat_minor": 4
}
