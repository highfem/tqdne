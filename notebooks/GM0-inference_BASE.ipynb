{
 "cells": [
  {
   "cell_type": "code",
   "execution_count": null,
   "metadata": {},
   "outputs": [],
   "source": [
    "%load_ext autoreload"
   ]
  },
  {
   "cell_type": "code",
   "execution_count": null,
   "metadata": {},
   "outputs": [],
   "source": [
    "%autoreload 2"
   ]
  },
  {
   "cell_type": "markdown",
   "metadata": {},
   "source": [
    "# GM0 Performance Evaluation\n",
    "\n",
    "**IMPORTANT**: This notebook should be used as a base for the evaluation of different models. \n",
    "\n",
    "- Please **make a copy of this notebook** whenever you want to evaluate a model. Load the desired model by changing the following `model_path_str` variable. \n",
    "- This notebook is currently not saving any generated plot. Please make sure to not overwrite the outputs, or to save the plots whenever needed. \n",
    "- This notebook saves the generated data. Please refer to the Evaluation section of this notebook. "
   ]
  },
  {
   "cell_type": "markdown",
   "metadata": {},
   "source": [
    "Available models on the SDSC shared folder: "
   ]
  },
  {
   "cell_type": "code",
   "execution_count": null,
   "metadata": {},
   "outputs": [],
   "source": [
    "!ls /store/sdsc/sd28/models/GM0/diffusion/"
   ]
  },
  {
   "cell_type": "code",
   "execution_count": null,
   "metadata": {},
   "outputs": [],
   "source": [
    "dataset_folder = \"/store/sdsc/sd28/models/GM0/diffusion/\""
   ]
  },
  {
   "cell_type": "markdown",
   "metadata": {},
   "source": [
    "One can either choose a specific checkpoint of a model or the most recent checkpoint of that model (default):"
   ]
  },
  {
   "cell_type": "code",
   "execution_count": null,
   "metadata": {},
   "outputs": [],
   "source": [
    "# Pick the last checkpoint of the model\n",
    "model_path_str = dataset_folder + \"ddim-pred:sample-1D-downsampling:2_SignalWithEnvelope-moving_average_shifted-log-log_offset:1.0e-05-normalize-scalar:True\"\n",
    "\n",
    "# Or pick a specific checkpoint\n",
    "# model_path_str = dataset_folder + \"/ddim-pred:sample-1D-downsampling:2_SignalWithEnvelope-moving_average_shifted-log-log_offset:1.0e-05-normalize-scalar:True/name=0_epoch=125-val_loss=0.02.ckpt\""
   ]
  },
  {
   "cell_type": "markdown",
   "metadata": {},
   "source": [
    "Import the needed libraries, modules and needed variables"
   ]
  },
  {
   "cell_type": "code",
   "execution_count": null,
   "metadata": {},
   "outputs": [],
   "source": [
    "import matplotlib.pyplot as plt\n",
    "import numpy as np\n",
    "import torch\n",
    "import os\n",
    "\n",
    "from pathlib import Path\n",
    "from tqdne.utils import *\n",
    "from tqdne.conf import Config\n",
    "from tqdne.metric import *"
   ]
  },
  {
   "cell_type": "code",
   "execution_count": null,
   "metadata": {},
   "outputs": [],
   "source": [
    "if torch.cuda.is_available():\n",
    "    device = torch.device('cuda')\n",
    "    torch.cuda.empty_cache()\n",
    "else: \n",
    "    device = torch.device('cpu')\n",
    "\n",
    "torch.cuda.is_available(), device"
   ]
  },
  {
   "cell_type": "code",
   "execution_count": null,
   "metadata": {},
   "outputs": [],
   "source": [
    "config = Config()\n",
    "\n",
    "# Select the signal length\n",
    "signal_length = config.signal_length \n",
    "\n",
    "# Set the number of channels of the desired output signal  \n",
    "n_channels = config.num_channels\n",
    "\n",
    "# Set the sampling frequency\n",
    "fs = config.fs\n",
    "\n",
    "# Set the conditioning parameters range\n",
    "cond_params_range = config.conditional_params_range"
   ]
  },
  {
   "cell_type": "markdown",
   "metadata": {},
   "source": [
    "Load the model"
   ]
  },
  {
   "cell_type": "code",
   "execution_count": null,
   "metadata": {},
   "outputs": [],
   "source": [
    "model, model_data_repr, ckpt = load_model(Path(model_path_str), use_ddim=False)\n",
    "model.to(device)\n",
    "model.eval()\n",
    "print_model_info(model, model_data_repr, ckpt)"
   ]
  },
  {
   "cell_type": "markdown",
   "metadata": {},
   "source": [
    "Let's generate a batch of data"
   ]
  },
  {
   "cell_type": "code",
   "execution_count": null,
   "metadata": {},
   "outputs": [],
   "source": [
    "# Select the batch size.\n",
    "batch_size = model.hparams.optimizer_params.batch_size\n",
    "\n",
    "# One can also choose the batch size\n",
    "# batch_size = 32\n",
    "\n",
    "batch_size"
   ]
  },
  {
   "cell_type": "code",
   "execution_count": null,
   "metadata": {},
   "outputs": [],
   "source": [
    "# Insert values for the conditional input parameters.\n",
    "# Please read generate_cond_inputs documentation (in utils.py) to understand the structure of cond_input_params dictionary\n",
    "cond_input_params = {\n",
    "    \"hypocentral_distance\": [10, 100, 150],\n",
    "    \"is_shallow_crustal\": [0],\n",
    "    \"magnitude\": [5.5, 4, 7, 8.5],\n",
    "    \"vs30\": None,\n",
    "}\n",
    "\n",
    "data_raw = generate_data(model, model_data_representation=model_data_repr, raw_output=True, num_samples=batch_size, cond_input_params=cond_input_params, device=device.type, max_batch_size=batch_size)\n",
    "data_raw['waveforms'].shape, data_raw['cond'].shape"
   ]
  },
  {
   "cell_type": "code",
   "execution_count": null,
   "metadata": {},
   "outputs": [],
   "source": [
    "data_raw_wf = data_raw['waveforms']\n",
    "data_raw_wf.shape"
   ]
  },
  {
   "cell_type": "code",
   "execution_count": null,
   "metadata": {},
   "outputs": [],
   "source": [
    "data_wf = model_data_repr.invert_representation(data_raw_wf)\n",
    "data_wf.shape"
   ]
  },
  {
   "cell_type": "markdown",
   "metadata": {},
   "source": [
    "## Single Sample Visualization"
   ]
  },
  {
   "cell_type": "markdown",
   "metadata": {},
   "source": [
    "Let's investigate model's raw output "
   ]
  },
  {
   "cell_type": "code",
   "execution_count": null,
   "metadata": {},
   "outputs": [],
   "source": [
    "sample_index = 0\n",
    "plot_raw_waveform(data_raw_wf[sample_index], data_raw['cond'][sample_index], model_data_repr, data_wf[sample_index])"
   ]
  },
  {
   "cell_type": "code",
   "execution_count": null,
   "metadata": {},
   "outputs": [],
   "source": [
    "sample_index = 3\n",
    "plot_raw_waveform(data_raw_wf[sample_index], data_raw['cond'][sample_index], model_data_repr, data_wf[sample_index])"
   ]
  },
  {
   "cell_type": "code",
   "execution_count": null,
   "metadata": {},
   "outputs": [],
   "source": [
    "sample_index = 10\n",
    "plot_raw_waveform(data_raw_wf[sample_index], data_raw['cond'][sample_index], model_data_repr, data_wf[sample_index])"
   ]
  },
  {
   "cell_type": "code",
   "execution_count": null,
   "metadata": {},
   "outputs": [],
   "source": [
    "# TODO: works only for 1D signals, need to generalize to 2D signals. However, is only useful for 1D signals.\n",
    "# max_peak_index = np.argmax(np.max(np.abs(data_raw_wf), axis=(1, 2)))\n",
    "# plot_raw_waveform(data_raw_wf[max_peak_index], n_channels, data_wf[max_peak_index])"
   ]
  },
  {
   "cell_type": "markdown",
   "metadata": {},
   "source": [
    "Let's now see the generated waveforms, along with their Power Spectral Density and Log Envelope. "
   ]
  },
  {
   "cell_type": "code",
   "execution_count": null,
   "metadata": {},
   "outputs": [],
   "source": [
    "data = {\"waveforms\": data_wf, \"cond\": data_raw['cond']}"
   ]
  },
  {
   "cell_type": "code",
   "execution_count": null,
   "metadata": {},
   "outputs": [],
   "source": [
    "plot_waveform_and_psd(get_samples(data, num_samples=1))"
   ]
  },
  {
   "cell_type": "code",
   "execution_count": null,
   "metadata": {},
   "outputs": [],
   "source": [
    "plot_waveform_and_psd(get_samples(data, indexes=[2]))"
   ]
  },
  {
   "cell_type": "code",
   "execution_count": null,
   "metadata": {},
   "outputs": [],
   "source": [
    "plot_waveforms(get_samples(data, num_samples=3), channel_index=0, plot_log_envelope=True)"
   ]
  },
  {
   "cell_type": "code",
   "execution_count": null,
   "metadata": {},
   "outputs": [],
   "source": [
    "plot_waveforms(get_samples(data, num_samples=2), channel_index=0, plot_log_envelope=False)"
   ]
  },
  {
   "cell_type": "markdown",
   "metadata": {},
   "source": [
    "## Batch Statistics"
   ]
  },
  {
   "cell_type": "code",
   "execution_count": null,
   "metadata": {},
   "outputs": [],
   "source": [
    "plot_by_bins(data, num_magnitude_bins=3, num_distance_bins=3, plot_type='waveform')"
   ]
  },
  {
   "cell_type": "code",
   "execution_count": null,
   "metadata": {},
   "outputs": [],
   "source": [
    "plot_by_bins(data, num_magnitude_bins=3, num_distance_bins=3, plot_type='log_envelope')"
   ]
  },
  {
   "cell_type": "code",
   "execution_count": null,
   "metadata": {},
   "outputs": [],
   "source": [
    "plot_by_bins(data, num_magnitude_bins=3, num_distance_bins=3, plot_type='power_spectral_density')"
   ]
  },
  {
   "cell_type": "markdown",
   "metadata": {},
   "source": [
    "## Evaluation"
   ]
  },
  {
   "cell_type": "code",
   "execution_count": null,
   "metadata": {},
   "outputs": [],
   "source": [
    "from tqdne.dataset import EnvelopeDataset\n",
    "from torch.utils.data import DataLoader\n",
    "\n",
    "test_dataset_path = config.datasetdir / config.data_test\n",
    "test_dataset = EnvelopeDataset(test_dataset_path, model_data_repr, config.signal_length)\n",
    "test_dataloader = DataLoader(test_dataset, batch_size=batch_size, shuffle=True)"
   ]
  },
  {
   "cell_type": "markdown",
   "metadata": {},
   "source": [
    "Let's generate couple of samples with the same conditioning parameters to check the expressiveness of the model and check if it stay within the true data distribution. "
   ]
  },
  {
   "cell_type": "code",
   "execution_count": null,
   "metadata": {},
   "outputs": [],
   "source": [
    "mag_bin = (6, 6.5)\n",
    "dist_bin = (50, 70)\n",
    "data_test_single_bin = test_dataset.get_data_by_bins(mag_bin, dist_bin, is_shallow_crustal=0)\n",
    "cond_params_mean = np.mean(data_test_single_bin['cond'], axis=0).reshape(1,-1)\n",
    "data_pred_single_bin = generate_data(model, model_data_representation=model_data_repr, raw_output=False, num_samples=7, cond_input=cond_params_mean, device=device.type, max_batch_size=batch_size)\n",
    "\n",
    "plot_waveforms(data_pred_single_bin, test_waveforms=data_test_single_bin['waveforms'])"
   ]
  },
  {
   "cell_type": "code",
   "execution_count": null,
   "metadata": {},
   "outputs": [],
   "source": [
    "mag_bin = (4, 5)\n",
    "dist_bin = (120, 150)\n",
    "data_test_single_bin = test_dataset.get_data_by_bins(mag_bin, dist_bin, is_shallow_crustal=0)\n",
    "cond_params_mean = np.mean(data_test_single_bin['cond'], axis=0).reshape(1,-1)\n",
    "data_pred_single_bin = generate_data(model, model_data_representation=model_data_repr, raw_output=False, num_samples=7, cond_input=cond_params_mean, device=device.type, max_batch_size=batch_size)\n",
    "\n",
    "plot_waveforms(data_pred_single_bin, test_waveforms=data_test_single_bin['waveforms'])"
   ]
  },
  {
   "cell_type": "markdown",
   "metadata": {},
   "source": [
    "Let's now compare the statistics of the generated data wrt the test data."
   ]
  },
  {
   "cell_type": "code",
   "execution_count": null,
   "metadata": {},
   "outputs": [],
   "source": [
    "# Load Test Data\n",
    "test_cond = []\n",
    "test_raw_waveforms = []\n",
    "num_batches_to_generate = 32\n",
    "for i, batch in enumerate(test_dataloader):\n",
    "    if i == num_batches_to_generate:\n",
    "        break\n",
    "    test_raw_waveforms.append(to_numpy(batch['repr']))\n",
    "    test_cond.append(to_numpy(batch['cond']))\n",
    "test_raw_waveforms = np.concatenate(test_raw_waveforms, axis=0)\n",
    "test_waveforms = model_data_repr.invert_representation(test_raw_waveforms)\n",
    "test_cond = np.concatenate(test_cond, axis=0)\n",
    "\n",
    "test_data = {\"waveforms\": test_waveforms, \"cond\": test_cond}\n",
    "\n",
    "test_waveforms.shape, test_cond.shape    "
   ]
  },
  {
   "cell_type": "markdown",
   "metadata": {},
   "source": [
    "Now let's generate more samples to perform an analysis by dividing the data in bins (magnitude and distance). "
   ]
  },
  {
   "cell_type": "code",
   "execution_count": null,
   "metadata": {},
   "outputs": [],
   "source": [
    "# Generate waveforms with the same conditioning parameters of the test data\n",
    "generated_raw_data = generate_data(model, model_data_repr, raw_output=True, num_samples=test_cond.shape[0], cond_input=test_cond, device=device.type, max_batch_size=batch_size)\n",
    "generated_raw_data['waveforms'].shape, generated_raw_data['cond'].shape"
   ]
  },
  {
   "cell_type": "markdown",
   "metadata": {},
   "source": [
    "Let's check the raw outputs by comparing them statistically with real data in the representation domain. "
   ]
  },
  {
   "cell_type": "code",
   "execution_count": null,
   "metadata": {},
   "outputs": [],
   "source": [
    "plot_raw_output_distribution(generated_raw_data[\"waveforms\"], test_raw_waveforms, model_data_repr)"
   ]
  },
  {
   "cell_type": "code",
   "execution_count": null,
   "metadata": {},
   "outputs": [],
   "source": [
    "generated_data = {\"waveforms\": model_data_repr.invert_representation(generated_raw_data['waveforms']), \"cond\": generated_raw_data['cond']}\n",
    "generated_data['waveforms'].shape, generated_data['cond'].shape"
   ]
  },
  {
   "cell_type": "markdown",
   "metadata": {},
   "source": [
    "Let's save the generated data and the test data for future use.\n",
    "\n",
    "The data will be saved in the same place of the checkpoint of the selected model, with the same name of `ckpt`, except for the extension of the file (saved as a pickle `.pkl` file).\n",
    "The best way to download the generated dataset locally is to replace `pkl_filename` with the desired filename to store it in the current directory, and then download it using the visual interface of VSCode or JupyterLab. \n",
    "\n",
    "\n",
    "The data is saved as a `dict` with keys `waveforms` and `cond`."
   ]
  },
  {
   "cell_type": "code",
   "execution_count": null,
   "metadata": {},
   "outputs": [],
   "source": [
    "import pickle\n",
    "\n",
    "# If some data is already saved, load it\n",
    "pkl_filename = f\"{str(ckpt).replace('.ckpt', '.pkl')}\"\n",
    "pkl_filepath = Path(pkl_filename)\n",
    "if os.path.exists(pkl_filepath):\n",
    "    with open(pkl_filepath,'rb') as f:\n",
    "        pred_data_f = pickle.load(f)\n",
    "        if \"generated_data\" in globals():\n",
    "            generated_data['waveforms'] = np.concatenate([pred_data_f['waveforms'], generated_data['waveforms']])\n",
    "            generated_data['cond'] = np.concatenate([pred_data_f['cond'], generated_data['cond']])\n",
    "        else:\n",
    "            generated_data = {\"waveforms\": pred_data_f['waveforms'], \"cond\": pred_data_f['cond']}\n",
    "                \n",
    "test_data['cond'] = generated_data['cond'] \n",
    "test_data['waveforms'] = test_dataset.get_waveforms_by_cond_input(generated_data['cond'])\n",
    "\n",
    "# Store the generated data and the test data        \n",
    "with open(pkl_filepath,'wb') as f: pickle.dump(generated_data, f)\n",
    "print(pkl_filepath)\n",
    "generated_data['waveforms'].shape, generated_data['cond'].shape"
   ]
  },
  {
   "cell_type": "markdown",
   "metadata": {},
   "source": [
    "And let's now compare the generated data against the test ones. "
   ]
  },
  {
   "cell_type": "code",
   "execution_count": null,
   "metadata": {},
   "outputs": [],
   "source": [
    "plot_bins(\n",
    "    plot_type='log_envelope',\n",
    "    distance_bins = [(21.6, 37.1), (39.0, 48.2), (50.0, 92.0), (93.0, 144.8)],\n",
    "    magnitude_bins = [(3.0, 5.0), (5.1, 6.0), (6.1, 7.0)], \n",
    "    channel_index=0,\n",
    "    test_data = test_data, \n",
    "    data = generated_data, \n",
    "    model = model,\n",
    "     model_data_representation = model_data_repr\n",
    ")"
   ]
  },
  {
   "cell_type": "code",
   "execution_count": null,
   "metadata": {},
   "outputs": [],
   "source": [
    "plot_bins(\n",
    "    plot_type='power_spectral_density',\n",
    "    distance_bins = [(21.6, 37.1), (39.0, 48.2), (50.0, 92.0), (93.0, 144.8)],\n",
    "    magnitude_bins = [(3.0, 5.0), (5.1, 6.0), (6.1, 7.0)], \n",
    "    channel_index=0,\n",
    "    test_data = test_data, \n",
    "    data = generated_data, \n",
    "    model = model,\n",
    "     model_data_representation = model_data_repr\n",
    ")"
   ]
  },
  {
   "cell_type": "markdown",
   "metadata": {},
   "source": [
    "Visualize the whole distribution in terms of Power Spectral Density and Envelope. "
   ]
  },
  {
   "cell_type": "code",
   "execution_count": null,
   "metadata": {},
   "outputs": [],
   "source": [
    "from tqdne.plot import PowerSpectralDensityPlot, BinPlot\n",
    "from tqdne.metric import PowerSpectralDensity\n",
    "\n",
    "psd_metrics = [PowerSpectralDensity(fs, channel=channel, invert_representation=False) for channel in range(n_channels)]\n",
    "psd_plots = [PowerSpectralDensityPlot(fs, channel, invert_representation=False) for channel in range(n_channels)]\n",
    "for i, psd in enumerate(psd_metrics):\n",
    "    psd_plots[i](preds=generated_data['waveforms'], target=test_data['waveforms'][:, :, :signal_length], cond=test_data['cond'])\n",
    "    psd(preds=generated_data['waveforms'], target=test_data['waveforms'][:, :, :signal_length])    \n",
    "    psd_bin = BinPlot(psd, num_mag_bins=3, num_dist_bins=3)\n",
    "    psd_bin(preds=generated_data['waveforms'], target=test_data['waveforms'][:, :, :signal_length], cond=test_data['cond']).show()\n",
    "       "
   ]
  },
  {
   "cell_type": "code",
   "execution_count": null,
   "metadata": {},
   "outputs": [],
   "source": [
    "from tqdne.plot import LogEnvelopePlot, BinPlot\n",
    "from tqdne.metric import LogEnvelope\n",
    "\n",
    "logenv_metrics = [LogEnvelope(channel=channel, invert_representation=False) for channel in range(n_channels)]\n",
    "logenv_plots = [LogEnvelopePlot(fs=fs, channel=channel, invert_representation=False) for channel in range(n_channels)]\n",
    "for i, logenv in enumerate(logenv_metrics):\n",
    "    logenv_plots[i](preds=generated_data['waveforms'], target=test_data['waveforms'][:, :, :signal_length], cond=test_data['cond'])\n",
    "    logenv(preds=generated_data['waveforms'], target=test_data['waveforms'][:, :, :signal_length])    \n",
    "    logenv_bin = BinPlot(logenv, num_mag_bins=3, num_dist_bins=3)\n",
    "    logenv_bin(preds=generated_data['waveforms'], target=test_data['waveforms'][:, :, :signal_length], cond=test_data['cond']).show()"
   ]
  },
  {
   "cell_type": "markdown",
   "metadata": {},
   "source": [
    "## TODOs"
   ]
  },
  {
   "cell_type": "code",
   "execution_count": null,
   "metadata": {},
   "outputs": [],
   "source": [
    "# TODO: widgets do not work\n",
    "\n",
    "# from tqdne.metric import PowerSpectralDensity, BinMetric\n",
    "# import ipywidgets as widgets\n",
    "# from functools import partial\n",
    "\n",
    "# metrics = {\"Power Spectral Density\": partial(PowerSpectralDensity, fs=config.fs)}\n",
    "\n",
    "# # Create a dropdown for selecting the metric\n",
    "# metric_dropdown = widgets.Dropdown(\n",
    "#     options=metrics.keys(),\n",
    "#     description='Metric:',\n",
    "# )\n",
    "\n",
    "# # Create a slider for selecting the channel\n",
    "# channel_slider = widgets.IntSlider(\n",
    "#     value=0,\n",
    "#     min=0,\n",
    "#     max=2,\n",
    "#     step=1,\n",
    "#     description='Channel:',\n",
    "#     disabled=False,\n",
    "#     continuous_update=False,\n",
    "#     orientation='horizontal',\n",
    "#     readout=True,\n",
    "#     readout_format='d'\n",
    "# )\n",
    "\n",
    "\n",
    "# # Bin plot checkbox\n",
    "# bin_plot_checkbox = widgets.Checkbox(\n",
    "#     value=False,\n",
    "#     description='Plot bins',\n",
    "#     disabled=False,\n",
    "#     indent=True,\n",
    "# )\n",
    "\n",
    "# # Create a slider for selecting the number of bins\n",
    "# num_bins_slider = widgets.IntSlider(\n",
    "#     value=10,\n",
    "#     min=1,\n",
    "#     max=50,\n",
    "#     step=1,\n",
    "#     description='Num bins:',\n",
    "#     disabled=False,\n",
    "#     continuous_update=False,\n",
    "#     orientation='horizontal',\n",
    "#     readout=True,\n",
    "#     readout_format='d'\n",
    "# )\n",
    "\n",
    "# # Function to update the plot\n",
    "# def update_plot(metric_name, bin_plot, num_bins=10, channel=0):\n",
    "#     metric = metrics[metric_name](channel=channel)\n",
    "#     if bin_plot:\n",
    "#         metric = BinMetric(metric, num_mag_bins=num_bins, num_dist_bins=num_bins)\n",
    "\n",
    "#     # Compute the metric\n",
    "#     metric.reset()\n",
    "#     metric.update(pred={\"generated\": pred_waveforms}, target={\"representation\": test_waveforms[:, :, : pred_waveforms.shape[-1]], \"cond\": test_features})\n",
    "#     metric.plot().show()\n",
    "\n",
    "# # Create interactive plot\n",
    "# widgets.interact(update_plot, metric_name=metric_dropdown, channel=channel_slider, bin_plot=bin_plot_checkbox, num_bins=num_bins_slider)\n",
    "\n"
   ]
  },
  {
   "cell_type": "code",
   "execution_count": null,
   "metadata": {},
   "outputs": [],
   "source": [
    "print('done')"
   ]
  },
  {
   "cell_type": "code",
   "execution_count": null,
   "metadata": {},
   "outputs": [],
   "source": [
    "# # Save the data to obspy format\n",
    "# from obspy import Stream, Trace\n",
    "\n",
    "# # Convert waveforms to Trace objects\n",
    "# traces = [Trace(data=waveform, header={k:v for k, v in get_cond_params_dict(pred_data[\"cond\"][i])}) for i, waveform in enumerate(pred_data[\"waveforms\"])]\n",
    "\n",
    "# # Create a Stream object\n",
    "# st = Stream(traces=traces)\n",
    "\n",
    "# # Save the Stream object to a file\n",
    "# st.write(\"generated_waveforms.mseed\", format=\"MSEED\", reclen=512, encoding=\"FLOAT64\")\n"
   ]
  },
  {
   "cell_type": "code",
   "execution_count": null,
   "metadata": {},
   "outputs": [],
   "source": []
  }
 ],
 "metadata": {
  "kernelspec": {
   "display_name": "tqdne-kernel",
   "language": "python",
   "name": "tqdne-kernel"
  },
  "language_info": {
   "codemirror_mode": {
    "name": "ipython",
    "version": 3
   },
   "file_extension": ".py",
   "mimetype": "text/x-python",
   "name": "python",
   "nbconvert_exporter": "python",
   "pygments_lexer": "ipython3",
   "version": "3.11.7"
  }
 },
 "nbformat": 4,
 "nbformat_minor": 4
}
