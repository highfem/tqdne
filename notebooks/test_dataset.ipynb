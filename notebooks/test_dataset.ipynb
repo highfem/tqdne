{
 "cells": [
  {
   "cell_type": "markdown",
   "metadata": {},
   "source": [
    "# Starting notebook\n",
    "\n",
    "Let us visualize the data and produce low pass filtering"
   ]
  },
  {
   "cell_type": "code",
   "execution_count": null,
   "metadata": {},
   "outputs": [],
   "source": [
    "# Some useful modules for notebooks\n",
    "%load_ext autoreload\n",
    "%autoreload 2\n",
    "%matplotlib inline"
   ]
  },
  {
   "cell_type": "code",
   "execution_count": null,
   "metadata": {},
   "outputs": [],
   "source": [
    "from pathlib import Path\n",
    "import matplotlib.pyplot as plt\n",
    "from tqdne.conf import Config\n",
    "import h5py\n",
    "from scipy import signal\n",
    "import numpy as np\n",
    "from tqdm import tqdm\n",
    "\n",
    "from tqdne.dataset import compute_mean_std_features, extract_sample_from_h5file, build_sample"
   ]
  },
  {
   "cell_type": "code",
   "execution_count": null,
   "metadata": {},
   "outputs": [],
   "source": [
    "\n",
    "config = Config()\n"
   ]
  },
  {
   "cell_type": "code",
   "execution_count": null,
   "metadata": {},
   "outputs": [],
   "source": [
    "\n",
    "datapath = config.datapath\n",
    "features_keys = config.features_keys\n",
    "means, stds = compute_mean_std_features(datapath, features_keys)"
   ]
  },
  {
   "cell_type": "code",
   "execution_count": null,
   "metadata": {},
   "outputs": [],
   "source": [
    "# Opent the hdf5 file\n",
    "\n",
    "sample_id = 0\n",
    "with h5py.File(datapath, \"r\") as f:\n",
    "    for key in f.keys():\n",
    "        print(f\"Key: {key} -- {f[key].shape}\")\n",
    "\n",
    "    time = f[\"time_vector\"][:]\n",
    "    waveform, features = extract_sample_from_h5file(f, sample_id)\n",
    "plt.plot(time, waveform.T)\n",
    "plt.xlabel(\"Time [s]\")\n",
    "features, stds, means"
   ]
  },
  {
   "cell_type": "code",
   "execution_count": null,
   "metadata": {},
   "outputs": [],
   "source": [
    "fs = config.fs\n",
    "params_filter = config.params_filter"
   ]
  },
  {
   "cell_type": "code",
   "execution_count": null,
   "metadata": {},
   "outputs": [],
   "source": [
    "# plot the frequency response\n",
    "b, a = signal.butter(**params_filter, analog=True)\n",
    "w, h = signal.freqs(b, a)\n",
    "plt.figure(figsize=(5,3))\n",
    "plt.semilogx(w, 20 * np.log10(abs(h)))\n",
    "plt.title('Filter frequency response')\n",
    "plt.xlabel('Frequency [radians / second]')\n",
    "plt.ylabel('Amplitude [dB]')\n",
    "plt.margins(0, 0.1)\n",
    "plt.grid(which='both', axis='both')\n",
    "plt.axvline(100, color='green') # cutoff frequency\n",
    "plt.show()"
   ]
  },
  {
   "cell_type": "code",
   "execution_count": null,
   "metadata": {},
   "outputs": [],
   "source": [
    "\n",
    "sos = signal.butter(**params_filter, fs=fs, output='sos')\n",
    "plt.figure(figsize=(8, 8))\n",
    "for i, channel in enumerate(waveform):\n",
    "    datafilt = signal.sosfilt(sos, channel)\n",
    "    plt.subplot(len(waveform), 1, 1+i)\n",
    "    plt.plot(time, channel , 'b',  alpha=1,)\n",
    "    plt.plot(time, datafilt,  'r', alpha=1,)\n",
    "    plt.title(f\"Channel {i+1}\")\n",
    "    plt.xlim(np.min(time), np.max(time))\n",
    "    plt.ylabel(\"Amplitude\")\n",
    "    plt.xlabel(\"Time [s]\")\n",
    "    if i == 0:\n",
    "        plt.legend([\"Original\",\"Filtered\"])\n",
    "    # plt.xlim(8, 12)\n",
    "plt.tight_layout()\n"
   ]
  },
  {
   "cell_type": "code",
   "execution_count": null,
   "metadata": {},
   "outputs": [],
   "source": [
    "\n",
    "sigma_in = config.sigma_in\n",
    "sample_id = 0\n",
    "with h5py.File(datapath, \"r\") as f:\n",
    "    time = f[\"time_vector\"][:]\n",
    "    waveform, features = extract_sample_from_h5file(f, sample_id)\n",
    "    features, datafilt, waveform, scale = build_sample(waveform, features, means, stds, sos, sigma_in)\n",
    "\n",
    "n_channels = waveform.shape[0]\n",
    "plt.figure(figsize=(10, 10))\n",
    "for i, (filt, orig) in enumerate(zip(datafilt, waveform)):\n",
    "    plt.subplot(n_channels, 1, 1+i)\n",
    "    plt.plot(time, filt,  'r', alpha=1, label=\"normalized low-pass\")\n",
    "    plt.plot(time, orig , 'b',  alpha=0.5, label=\"normalized target\")\n",
    "    plt.legend()\n",
    "    # plt.xlim(8, 12\n",
    "features"
   ]
  },
  {
   "cell_type": "code",
   "execution_count": null,
   "metadata": {},
   "outputs": [],
   "source": []
  },
  {
   "cell_type": "code",
   "execution_count": null,
   "metadata": {},
   "outputs": [],
   "source": []
  },
  {
   "cell_type": "code",
   "execution_count": null,
   "metadata": {},
   "outputs": [],
   "source": []
  },
  {
   "cell_type": "code",
   "execution_count": null,
   "metadata": {},
   "outputs": [],
   "source": []
  }
 ],
 "metadata": {
  "kernelspec": {
   "display_name": "Python 3 (ipykernel)",
   "language": "python",
   "name": "python3"
  },
  "language_info": {
   "codemirror_mode": {
    "name": "ipython",
    "version": 3
   },
   "file_extension": ".py",
   "mimetype": "text/x-python",
   "name": "python",
   "nbconvert_exporter": "python",
   "pygments_lexer": "ipython3",
   "version": "3.8.5"
  },
  "vscode": {
   "interpreter": {
    "hash": "8d9f0750808bbb89d6238996d547b1a0ab25cae94b245e8c4572708d26b443fd"
   }
  }
 },
 "nbformat": 4,
 "nbformat_minor": 4
}
