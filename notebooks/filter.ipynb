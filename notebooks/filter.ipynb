{
 "cells": [
  {
   "cell_type": "markdown",
   "metadata": {},
   "source": [
    "# Low-pass Filtering\n",
    "\n"
   ]
  },
  {
   "cell_type": "code",
   "execution_count": null,
   "metadata": {},
   "outputs": [],
   "source": [
    "import h5py\n",
    "import ipywidgets as widgets\n",
    "import matplotlib.pyplot as plt\n",
    "import numpy as np\n",
    "from scipy import signal\n",
    "\n",
    "from tqdne.conf import Config"
   ]
  },
  {
   "cell_type": "code",
   "execution_count": null,
   "metadata": {},
   "outputs": [],
   "source": [
    "config = Config()\n",
    "dataset_path = config.datasetdir / config.data_upsample_test\n",
    "file = h5py.File(dataset_path, mode=\"r\")\n",
    "# load first 100 waveforms\n",
    "waveforms = file[\"waveform\"][0:100]\n",
    "file.close()"
   ]
  },
  {
   "cell_type": "markdown",
   "metadata": {},
   "source": [
    "## Filter Methods"
   ]
  },
  {
   "cell_type": "code",
   "execution_count": null,
   "metadata": {},
   "outputs": [],
   "source": [
    "def filter(waveform):\n",
    "    sos = signal.butter(**config.params_filter, fs=config.fs, output=\"sos\")\n",
    "    filtered = signal.sosfilt(sos, waveform)\n",
    "    return filtered\n",
    "\n",
    "\n",
    "def filter_with_noise(waveform):\n",
    "    sigma = 0.01\n",
    "    sos = signal.butter(**config.params_filter, fs=config.fs, output=\"sos\")\n",
    "    filtered = signal.sosfilt(sos, waveform) + np.random.randn(*waveform.shape) * sigma\n",
    "    return filtered\n",
    "\n",
    "\n",
    "filter_methods = {\n",
    "    \"Filter\": filter,\n",
    "    \"Filter with noise\": filter_with_noise,\n",
    "}"
   ]
  },
  {
   "cell_type": "markdown",
   "metadata": {},
   "source": [
    "## Sample Plot"
   ]
  },
  {
   "cell_type": "code",
   "execution_count": null,
   "metadata": {},
   "outputs": [],
   "source": [
    "# Create a dropdown for selecting the filter method\n",
    "filter_dropdown = widgets.Dropdown(\n",
    "    options=filter_methods.keys(),\n",
    "    value=list(filter_methods.keys())[0],\n",
    "    description=\"Filter Method:\",\n",
    ")\n",
    "\n",
    "# Create a dropdown for selecting the channel\n",
    "channel_dropdown = widgets.Dropdown(\n",
    "    options=list(range(len(waveforms[0]))),\n",
    "    value=0,\n",
    "    description=\"Channel:\",\n",
    ")\n",
    "\n",
    "# Create a slider for selecting the waveform\n",
    "waveform_slider = widgets.IntSlider(\n",
    "    min=0,\n",
    "    max=len(waveforms) - 1,\n",
    "    step=1,\n",
    "    value=0,\n",
    "    description=\"Waveform:\",\n",
    ")\n",
    "\n",
    "\n",
    "# Function to update the plot\n",
    "def update_plot(filter_method, channel, waveform_index):\n",
    "    waveform = waveforms[waveform_index]\n",
    "    filter_fn = filter_methods[filter_method]\n",
    "    filtered = filter_fn(waveform)\n",
    "\n",
    "    fig, ax = plt.subplots(2, 1, figsize=(15, 8))\n",
    "    ax[0].plot(waveform[channel])\n",
    "    ax[0].set_title(\"Raw\")\n",
    "    ax[1].plot(filtered[channel])\n",
    "    ax[1].set_title(\"Filtered\")\n",
    "    fig.subplots_adjust(hspace=0.5)\n",
    "    fig.show()\n",
    "\n",
    "\n",
    "# Create interactive plot\n",
    "widgets.interactive(\n",
    "    update_plot,\n",
    "    filter_method=filter_dropdown,\n",
    "    channel=channel_dropdown,\n",
    "    waveform_index=waveform_slider,\n",
    ")"
   ]
  },
  {
   "cell_type": "markdown",
   "metadata": {},
   "source": [
    "## Power Spectral Density"
   ]
  },
  {
   "cell_type": "code",
   "execution_count": null,
   "metadata": {},
   "outputs": [],
   "source": [
    "# Create a dropdown for selecting the filter method\n",
    "filter_dropdown = widgets.Dropdown(\n",
    "    options=filter_methods.keys(),\n",
    "    value=list(filter_methods.keys())[0],\n",
    "    description=\"Filter Method:\",\n",
    ")\n",
    "\n",
    "# Create a dropdown for selecting the channel\n",
    "channel_dropdown = widgets.Dropdown(\n",
    "    options=list(range(len(waveforms[0]))),\n",
    "    value=0,\n",
    "    description=\"Channel:\",\n",
    ")\n",
    "\n",
    "# Create boolean for selecting log scale\n",
    "log_scale_checkbox = widgets.Checkbox(\n",
    "    value=True,\n",
    "    description=\"Log Scale\",\n",
    ")\n",
    "\n",
    "\n",
    "# Function to update the plot\n",
    "def update_plot(filter_method, channel, log_scale):\n",
    "    filter_fn = filter_methods[filter_method]\n",
    "\n",
    "    # compute power spectral density\n",
    "    raw_fft = np.fft.rfft(waveforms[:, channel])\n",
    "    raw_psd = np.abs(raw_fft) ** 2\n",
    "    filtered_fft = np.fft.rfft(filter_fn(waveforms[:, channel]))\n",
    "    filtered_psd = np.abs(filtered_fft) ** 2\n",
    "    freqs = np.fft.rfftfreq(waveforms.shape[-1], 1 / config.fs)\n",
    "\n",
    "    if log_scale:\n",
    "        raw_psd = np.log(raw_psd)\n",
    "        filtered_psd = np.log(filtered_psd)\n",
    "\n",
    "    # compute mean and std\n",
    "    raw_mean, raw_std = raw_psd.mean(axis=0), raw_psd.std(axis=0)\n",
    "    filtered_mean, filtered_std = filtered_psd.mean(axis=0), filtered_psd.std(axis=0)\n",
    "\n",
    "    # plot\n",
    "    fig, ax = plt.subplots(1, 1, figsize=(15, 8))\n",
    "    ax.plot(freqs, raw_mean, \"r\", label=\"Raw\")\n",
    "    ax.fill_between(freqs, raw_mean - raw_std, raw_mean + raw_std, color=\"r\", alpha=0.2)\n",
    "    ax.plot(freqs, filtered_mean, \"b\", label=\"Filtered\")\n",
    "    ax.fill_between(\n",
    "        freqs,\n",
    "        filtered_mean - filtered_std,\n",
    "        filtered_mean + filtered_std,\n",
    "        color=\"b\",\n",
    "        alpha=0.2,\n",
    "    )\n",
    "    fig.subplots_adjust(hspace=0.5)\n",
    "    ax.set_xlabel(\"Frequency [Hz]\")\n",
    "    ax.set_ylabel(\"PSD [V**2/Hz]\")\n",
    "    ax.set_title(\"Power Spectral Density\")\n",
    "    ax.legend()\n",
    "    fig.show()\n",
    "\n",
    "\n",
    "# Create interactive plot\n",
    "widgets.interactive(\n",
    "    update_plot,\n",
    "    filter_method=filter_dropdown,\n",
    "    channel=channel_dropdown,\n",
    "    log_scale=log_scale_checkbox,\n",
    ")"
   ]
  }
 ],
 "metadata": {
  "kernelspec": {
   "display_name": "tqdne",
   "language": "python",
   "name": "python3"
  },
  "language_info": {
   "codemirror_mode": {
    "name": "ipython",
    "version": 3
   },
   "file_extension": ".py",
   "mimetype": "text/x-python",
   "name": "python",
   "nbconvert_exporter": "python",
   "pygments_lexer": "ipython3",
   "version": "3.11.7"
  }
 },
 "nbformat": 4,
 "nbformat_minor": 2
}
