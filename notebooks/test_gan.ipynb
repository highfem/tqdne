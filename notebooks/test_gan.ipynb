{
 "cells": [
  {
   "cell_type": "code",
   "execution_count": 1,
   "metadata": {},
   "outputs": [
    {
     "name": "stderr",
     "output_type": "stream",
     "text": [
      "/users/fmachado/.cache/pypoetry/virtualenvs/tqdne-h7mN2Kd5-py3.11/lib/python3.11/site-packages/tqdm/auto.py:21: TqdmWarning: IProgress not found. Please update jupyter and ipywidgets. See https://ipywidgets.readthedocs.io/en/stable/user_install.html\n",
      "  from .autonotebook import tqdm as notebook_tqdm\n",
      "/users/fmachado/.cache/pypoetry/virtualenvs/tqdne-h7mN2Kd5-py3.11/lib/python3.11/site-packages/torch/cuda/__init__.py:546: UserWarning: Can't initialize NVML\n",
      "  warnings.warn(\"Can't initialize NVML\")\n"
     ]
    }
   ],
   "source": [
    "from tqdne.models.cgan import CGenerator, CDiscriminator\n",
    "from tqdne.models.wgan import WGenerator, WDiscriminator\n",
    "from torchsummary import summary\n",
    "import torch\n",
    "from tqdne.simple_dataset import StationarySignalDM\n",
    "torch.set_default_dtype(torch.float64)"
   ]
  },
  {
   "cell_type": "code",
   "execution_count": 2,
   "metadata": {},
   "outputs": [
    {
     "name": "stderr",
     "output_type": "stream",
     "text": [
      "/users/fmachado/.cache/pypoetry/virtualenvs/tqdne-h7mN2Kd5-py3.11/lib/python3.11/site-packages/torch/utils/data/dataloader.py:561: UserWarning: This DataLoader will create 23 worker processes in total. Our suggested max number of worker in current system is 20, which is smaller than what this DataLoader is going to create. Please be aware that excessive worker creation might get DataLoader running slow or even freeze, lower the worker number to avoid potential slowness/freeze if necessary.\n",
      "  warnings.warn(_create_warning_msg(\n"
     ]
    }
   ],
   "source": [
    "dm = StationarySignalDM(1000, 1024, 256, 0.8).train_dataloader()"
   ]
  },
  {
   "cell_type": "code",
   "execution_count": 3,
   "metadata": {},
   "outputs": [
    {
     "name": "stdout",
     "output_type": "stream",
     "text": [
      "torch.Size([256, 1, 1024])\n"
     ]
    }
   ],
   "source": [
    "print(next(iter(dm)).shape)"
   ]
  },
  {
   "cell_type": "code",
   "execution_count": 4,
   "metadata": {},
   "outputs": [
    {
     "name": "stdout",
     "output_type": "stream",
     "text": [
      "16 128 1024 64\n"
     ]
    }
   ],
   "source": [
    "G, D = WGenerator(1024, 128), WDiscriminator(1024, dim=32)"
   ]
  },
  {
   "cell_type": "code",
   "execution_count": 5,
   "metadata": {},
   "outputs": [
    {
     "ename": "RuntimeError",
     "evalue": "mat1 and mat2 must have the same dtype",
     "output_type": "error",
     "traceback": [
      "\u001b[0;31m---------------------------------------------------------------------------\u001b[0m",
      "\u001b[0;31mRuntimeError\u001b[0m                              Traceback (most recent call last)",
      "\u001b[1;32m/users/fmachado/tqdne/notebooks/test_gan.ipynb Cell 5\u001b[0m line \u001b[0;36m2\n\u001b[1;32m      <a href='vscode-notebook-cell://ssh-remote%2Bdaint/users/fmachado/tqdne/notebooks/test_gan.ipynb#X12sdnNjb2RlLXJlbW90ZQ%3D%3D?line=0'>1</a>\u001b[0m s \u001b[39m=\u001b[39m G\u001b[39m.\u001b[39msample_latent(\u001b[39m10\u001b[39m)\n\u001b[0;32m----> <a href='vscode-notebook-cell://ssh-remote%2Bdaint/users/fmachado/tqdne/notebooks/test_gan.ipynb#X12sdnNjb2RlLXJlbW90ZQ%3D%3D?line=1'>2</a>\u001b[0m summary(G, (s\u001b[39m.\u001b[39;49mshape[\u001b[39m1\u001b[39;49m],))\n",
      "File \u001b[0;32m~/.cache/pypoetry/virtualenvs/tqdne-h7mN2Kd5-py3.11/lib/python3.11/site-packages/torchsummary/torchsummary.py:72\u001b[0m, in \u001b[0;36msummary\u001b[0;34m(model, input_size, batch_size, device)\u001b[0m\n\u001b[1;32m     68\u001b[0m model\u001b[39m.\u001b[39mapply(register_hook)\n\u001b[1;32m     70\u001b[0m \u001b[39m# make a forward pass\u001b[39;00m\n\u001b[1;32m     71\u001b[0m \u001b[39m# print(x.shape)\u001b[39;00m\n\u001b[0;32m---> 72\u001b[0m model(\u001b[39m*\u001b[39;49mx)\n\u001b[1;32m     74\u001b[0m \u001b[39m# remove these hooks\u001b[39;00m\n\u001b[1;32m     75\u001b[0m \u001b[39mfor\u001b[39;00m h \u001b[39min\u001b[39;00m hooks:\n",
      "File \u001b[0;32m~/.cache/pypoetry/virtualenvs/tqdne-h7mN2Kd5-py3.11/lib/python3.11/site-packages/torch/nn/modules/module.py:1501\u001b[0m, in \u001b[0;36mModule._call_impl\u001b[0;34m(self, *args, **kwargs)\u001b[0m\n\u001b[1;32m   1496\u001b[0m \u001b[39m# If we don't have any hooks, we want to skip the rest of the logic in\u001b[39;00m\n\u001b[1;32m   1497\u001b[0m \u001b[39m# this function, and just call forward.\u001b[39;00m\n\u001b[1;32m   1498\u001b[0m \u001b[39mif\u001b[39;00m \u001b[39mnot\u001b[39;00m (\u001b[39mself\u001b[39m\u001b[39m.\u001b[39m_backward_hooks \u001b[39mor\u001b[39;00m \u001b[39mself\u001b[39m\u001b[39m.\u001b[39m_backward_pre_hooks \u001b[39mor\u001b[39;00m \u001b[39mself\u001b[39m\u001b[39m.\u001b[39m_forward_hooks \u001b[39mor\u001b[39;00m \u001b[39mself\u001b[39m\u001b[39m.\u001b[39m_forward_pre_hooks\n\u001b[1;32m   1499\u001b[0m         \u001b[39mor\u001b[39;00m _global_backward_pre_hooks \u001b[39mor\u001b[39;00m _global_backward_hooks\n\u001b[1;32m   1500\u001b[0m         \u001b[39mor\u001b[39;00m _global_forward_hooks \u001b[39mor\u001b[39;00m _global_forward_pre_hooks):\n\u001b[0;32m-> 1501\u001b[0m     \u001b[39mreturn\u001b[39;00m forward_call(\u001b[39m*\u001b[39;49margs, \u001b[39m*\u001b[39;49m\u001b[39m*\u001b[39;49mkwargs)\n\u001b[1;32m   1502\u001b[0m \u001b[39m# Do not call functions when jit is used\u001b[39;00m\n\u001b[1;32m   1503\u001b[0m full_backward_hooks, non_full_backward_hooks \u001b[39m=\u001b[39m [], []\n",
      "File \u001b[0;32m~/tqdne/tqdne/models/wgan.py:38\u001b[0m, in \u001b[0;36mWGenerator.forward\u001b[0;34m(self, input_data)\u001b[0m\n\u001b[1;32m     36\u001b[0m \u001b[39mdef\u001b[39;00m \u001b[39mforward\u001b[39m(\u001b[39mself\u001b[39m, input_data):\n\u001b[1;32m     37\u001b[0m     \u001b[39m# Map latent into appropriate size for transposed convolutions\u001b[39;00m\n\u001b[0;32m---> 38\u001b[0m     x \u001b[39m=\u001b[39m \u001b[39mself\u001b[39;49m\u001b[39m.\u001b[39;49mlatent_to_features(input_data)\n\u001b[1;32m     39\u001b[0m     \u001b[39m# Reshape\u001b[39;00m\n\u001b[1;32m     40\u001b[0m     x \u001b[39m=\u001b[39m x\u001b[39m.\u001b[39mview(\u001b[39m-\u001b[39m\u001b[39m1\u001b[39m, \u001b[39m8\u001b[39m \u001b[39m*\u001b[39m \u001b[39mself\u001b[39m\u001b[39m.\u001b[39mdim, \u001b[39mself\u001b[39m\u001b[39m.\u001b[39mfeature_size)\n",
      "File \u001b[0;32m~/.cache/pypoetry/virtualenvs/tqdne-h7mN2Kd5-py3.11/lib/python3.11/site-packages/torch/nn/modules/module.py:1501\u001b[0m, in \u001b[0;36mModule._call_impl\u001b[0;34m(self, *args, **kwargs)\u001b[0m\n\u001b[1;32m   1496\u001b[0m \u001b[39m# If we don't have any hooks, we want to skip the rest of the logic in\u001b[39;00m\n\u001b[1;32m   1497\u001b[0m \u001b[39m# this function, and just call forward.\u001b[39;00m\n\u001b[1;32m   1498\u001b[0m \u001b[39mif\u001b[39;00m \u001b[39mnot\u001b[39;00m (\u001b[39mself\u001b[39m\u001b[39m.\u001b[39m_backward_hooks \u001b[39mor\u001b[39;00m \u001b[39mself\u001b[39m\u001b[39m.\u001b[39m_backward_pre_hooks \u001b[39mor\u001b[39;00m \u001b[39mself\u001b[39m\u001b[39m.\u001b[39m_forward_hooks \u001b[39mor\u001b[39;00m \u001b[39mself\u001b[39m\u001b[39m.\u001b[39m_forward_pre_hooks\n\u001b[1;32m   1499\u001b[0m         \u001b[39mor\u001b[39;00m _global_backward_pre_hooks \u001b[39mor\u001b[39;00m _global_backward_hooks\n\u001b[1;32m   1500\u001b[0m         \u001b[39mor\u001b[39;00m _global_forward_hooks \u001b[39mor\u001b[39;00m _global_forward_pre_hooks):\n\u001b[0;32m-> 1501\u001b[0m     \u001b[39mreturn\u001b[39;00m forward_call(\u001b[39m*\u001b[39;49margs, \u001b[39m*\u001b[39;49m\u001b[39m*\u001b[39;49mkwargs)\n\u001b[1;32m   1502\u001b[0m \u001b[39m# Do not call functions when jit is used\u001b[39;00m\n\u001b[1;32m   1503\u001b[0m full_backward_hooks, non_full_backward_hooks \u001b[39m=\u001b[39m [], []\n",
      "File \u001b[0;32m~/.cache/pypoetry/virtualenvs/tqdne-h7mN2Kd5-py3.11/lib/python3.11/site-packages/torch/nn/modules/container.py:217\u001b[0m, in \u001b[0;36mSequential.forward\u001b[0;34m(self, input)\u001b[0m\n\u001b[1;32m    215\u001b[0m \u001b[39mdef\u001b[39;00m \u001b[39mforward\u001b[39m(\u001b[39mself\u001b[39m, \u001b[39minput\u001b[39m):\n\u001b[1;32m    216\u001b[0m     \u001b[39mfor\u001b[39;00m module \u001b[39min\u001b[39;00m \u001b[39mself\u001b[39m:\n\u001b[0;32m--> 217\u001b[0m         \u001b[39minput\u001b[39m \u001b[39m=\u001b[39m module(\u001b[39minput\u001b[39;49m)\n\u001b[1;32m    218\u001b[0m     \u001b[39mreturn\u001b[39;00m \u001b[39minput\u001b[39m\n",
      "File \u001b[0;32m~/.cache/pypoetry/virtualenvs/tqdne-h7mN2Kd5-py3.11/lib/python3.11/site-packages/torch/nn/modules/module.py:1538\u001b[0m, in \u001b[0;36mModule._call_impl\u001b[0;34m(self, *args, **kwargs)\u001b[0m\n\u001b[1;32m   1535\u001b[0m     bw_hook \u001b[39m=\u001b[39m hooks\u001b[39m.\u001b[39mBackwardHook(\u001b[39mself\u001b[39m, full_backward_hooks, backward_pre_hooks)\n\u001b[1;32m   1536\u001b[0m     args \u001b[39m=\u001b[39m bw_hook\u001b[39m.\u001b[39msetup_input_hook(args)\n\u001b[0;32m-> 1538\u001b[0m result \u001b[39m=\u001b[39m forward_call(\u001b[39m*\u001b[39;49margs, \u001b[39m*\u001b[39;49m\u001b[39m*\u001b[39;49mkwargs)\n\u001b[1;32m   1539\u001b[0m \u001b[39mif\u001b[39;00m _global_forward_hooks \u001b[39mor\u001b[39;00m \u001b[39mself\u001b[39m\u001b[39m.\u001b[39m_forward_hooks:\n\u001b[1;32m   1540\u001b[0m     \u001b[39mfor\u001b[39;00m hook_id, hook \u001b[39min\u001b[39;00m (\n\u001b[1;32m   1541\u001b[0m         \u001b[39m*\u001b[39m_global_forward_hooks\u001b[39m.\u001b[39mitems(),\n\u001b[1;32m   1542\u001b[0m         \u001b[39m*\u001b[39m\u001b[39mself\u001b[39m\u001b[39m.\u001b[39m_forward_hooks\u001b[39m.\u001b[39mitems(),\n\u001b[1;32m   1543\u001b[0m     ):\n",
      "File \u001b[0;32m~/.cache/pypoetry/virtualenvs/tqdne-h7mN2Kd5-py3.11/lib/python3.11/site-packages/torch/nn/modules/linear.py:114\u001b[0m, in \u001b[0;36mLinear.forward\u001b[0;34m(self, input)\u001b[0m\n\u001b[1;32m    113\u001b[0m \u001b[39mdef\u001b[39;00m \u001b[39mforward\u001b[39m(\u001b[39mself\u001b[39m, \u001b[39minput\u001b[39m: Tensor) \u001b[39m-\u001b[39m\u001b[39m>\u001b[39m Tensor:\n\u001b[0;32m--> 114\u001b[0m     \u001b[39mreturn\u001b[39;00m F\u001b[39m.\u001b[39;49mlinear(\u001b[39minput\u001b[39;49m, \u001b[39mself\u001b[39;49m\u001b[39m.\u001b[39;49mweight, \u001b[39mself\u001b[39;49m\u001b[39m.\u001b[39;49mbias)\n",
      "\u001b[0;31mRuntimeError\u001b[0m: mat1 and mat2 must have the same dtype"
     ]
    }
   ],
   "source": [
    "s = G.sample_latent(10)\n",
    "summary(G, (s.shape[1],))"
   ]
  },
  {
   "cell_type": "code",
   "execution_count": 6,
   "metadata": {},
   "outputs": [
    {
     "name": "stdout",
     "output_type": "stream",
     "text": [
      "WDiscriminator(\n",
      "  (image_to_features): Sequential(\n",
      "    (0): Conv1d(1, 32, kernel_size=(4,), stride=(2,), padding=(1,))\n",
      "    (1): LeakyReLU(negative_slope=0.2)\n",
      "    (2): Conv1d(32, 64, kernel_size=(4,), stride=(2,), padding=(1,))\n",
      "    (3): LeakyReLU(negative_slope=0.2)\n",
      "    (4): Conv1d(64, 128, kernel_size=(4,), stride=(2,), padding=(1,))\n",
      "    (5): LeakyReLU(negative_slope=0.2)\n",
      "    (6): Conv1d(128, 256, kernel_size=(4,), stride=(2,), padding=(1,))\n",
      "    (7): Sigmoid()\n",
      "  )\n",
      "  (features_to_prob): Sequential(\n",
      "    (0): Linear(in_features=16384, out_features=1, bias=True)\n",
      "    (1): Sigmoid()\n",
      "  )\n",
      ")\n"
     ]
    }
   ],
   "source": [
    "print(D)"
   ]
  },
  {
   "cell_type": "code",
   "execution_count": 7,
   "metadata": {},
   "outputs": [
    {
     "name": "stdout",
     "output_type": "stream",
     "text": [
      "input torch.Size([256, 1, 1024])\n",
      "x torch.Size([256, 256, 64])\n"
     ]
    },
    {
     "data": {
      "text/plain": [
       "tensor([[0.5655],\n",
       "        [0.5650],\n",
       "        [0.5645],\n",
       "        [0.5651],\n",
       "        [0.5652],\n",
       "        [0.5647],\n",
       "        [0.5648],\n",
       "        [0.5650],\n",
       "        [0.5649],\n",
       "        [0.5647],\n",
       "        [0.5649],\n",
       "        [0.5646],\n",
       "        [0.5647],\n",
       "        [0.5649],\n",
       "        [0.5649],\n",
       "        [0.5648],\n",
       "        [0.5649],\n",
       "        [0.5654],\n",
       "        [0.5649],\n",
       "        [0.5651],\n",
       "        [0.5649],\n",
       "        [0.5652],\n",
       "        [0.5651],\n",
       "        [0.5649],\n",
       "        [0.5651],\n",
       "        [0.5653],\n",
       "        [0.5648],\n",
       "        [0.5647],\n",
       "        [0.5649],\n",
       "        [0.5649],\n",
       "        [0.5651],\n",
       "        [0.5654],\n",
       "        [0.5649],\n",
       "        [0.5652],\n",
       "        [0.5650],\n",
       "        [0.5651],\n",
       "        [0.5652],\n",
       "        [0.5646],\n",
       "        [0.5649],\n",
       "        [0.5650],\n",
       "        [0.5647],\n",
       "        [0.5648],\n",
       "        [0.5652],\n",
       "        [0.5648],\n",
       "        [0.5651],\n",
       "        [0.5650],\n",
       "        [0.5647],\n",
       "        [0.5649],\n",
       "        [0.5650],\n",
       "        [0.5652],\n",
       "        [0.5649],\n",
       "        [0.5651],\n",
       "        [0.5649],\n",
       "        [0.5648],\n",
       "        [0.5651],\n",
       "        [0.5650],\n",
       "        [0.5649],\n",
       "        [0.5650],\n",
       "        [0.5651],\n",
       "        [0.5649],\n",
       "        [0.5646],\n",
       "        [0.5649],\n",
       "        [0.5648],\n",
       "        [0.5648],\n",
       "        [0.5647],\n",
       "        [0.5653],\n",
       "        [0.5648],\n",
       "        [0.5649],\n",
       "        [0.5648],\n",
       "        [0.5654],\n",
       "        [0.5649],\n",
       "        [0.5649],\n",
       "        [0.5650],\n",
       "        [0.5645],\n",
       "        [0.5652],\n",
       "        [0.5652],\n",
       "        [0.5649],\n",
       "        [0.5651],\n",
       "        [0.5650],\n",
       "        [0.5647],\n",
       "        [0.5647],\n",
       "        [0.5647],\n",
       "        [0.5649],\n",
       "        [0.5646],\n",
       "        [0.5646],\n",
       "        [0.5653],\n",
       "        [0.5648],\n",
       "        [0.5650],\n",
       "        [0.5647],\n",
       "        [0.5645],\n",
       "        [0.5648],\n",
       "        [0.5648],\n",
       "        [0.5652],\n",
       "        [0.5648],\n",
       "        [0.5650],\n",
       "        [0.5652],\n",
       "        [0.5652],\n",
       "        [0.5650],\n",
       "        [0.5648],\n",
       "        [0.5650],\n",
       "        [0.5649],\n",
       "        [0.5649],\n",
       "        [0.5648],\n",
       "        [0.5653],\n",
       "        [0.5651],\n",
       "        [0.5650],\n",
       "        [0.5650],\n",
       "        [0.5653],\n",
       "        [0.5651],\n",
       "        [0.5650],\n",
       "        [0.5653],\n",
       "        [0.5651],\n",
       "        [0.5647],\n",
       "        [0.5650],\n",
       "        [0.5648],\n",
       "        [0.5649],\n",
       "        [0.5647],\n",
       "        [0.5648],\n",
       "        [0.5650],\n",
       "        [0.5651],\n",
       "        [0.5645],\n",
       "        [0.5652],\n",
       "        [0.5649],\n",
       "        [0.5645],\n",
       "        [0.5647],\n",
       "        [0.5650],\n",
       "        [0.5653],\n",
       "        [0.5646],\n",
       "        [0.5652],\n",
       "        [0.5652],\n",
       "        [0.5650],\n",
       "        [0.5650],\n",
       "        [0.5648],\n",
       "        [0.5653],\n",
       "        [0.5647],\n",
       "        [0.5652],\n",
       "        [0.5649],\n",
       "        [0.5652],\n",
       "        [0.5649],\n",
       "        [0.5648],\n",
       "        [0.5651],\n",
       "        [0.5650],\n",
       "        [0.5649],\n",
       "        [0.5649],\n",
       "        [0.5648],\n",
       "        [0.5652],\n",
       "        [0.5651],\n",
       "        [0.5649],\n",
       "        [0.5645],\n",
       "        [0.5649],\n",
       "        [0.5652],\n",
       "        [0.5647],\n",
       "        [0.5655],\n",
       "        [0.5655],\n",
       "        [0.5652],\n",
       "        [0.5650],\n",
       "        [0.5646],\n",
       "        [0.5652],\n",
       "        [0.5648],\n",
       "        [0.5650],\n",
       "        [0.5652],\n",
       "        [0.5651],\n",
       "        [0.5651],\n",
       "        [0.5648],\n",
       "        [0.5650],\n",
       "        [0.5649],\n",
       "        [0.5645],\n",
       "        [0.5649],\n",
       "        [0.5650],\n",
       "        [0.5652],\n",
       "        [0.5650],\n",
       "        [0.5650],\n",
       "        [0.5648],\n",
       "        [0.5648],\n",
       "        [0.5648],\n",
       "        [0.5649],\n",
       "        [0.5649],\n",
       "        [0.5653],\n",
       "        [0.5651],\n",
       "        [0.5649],\n",
       "        [0.5642],\n",
       "        [0.5652],\n",
       "        [0.5652],\n",
       "        [0.5645],\n",
       "        [0.5651],\n",
       "        [0.5652],\n",
       "        [0.5648],\n",
       "        [0.5654],\n",
       "        [0.5647],\n",
       "        [0.5648],\n",
       "        [0.5651],\n",
       "        [0.5648],\n",
       "        [0.5652],\n",
       "        [0.5647],\n",
       "        [0.5646],\n",
       "        [0.5651],\n",
       "        [0.5650],\n",
       "        [0.5653],\n",
       "        [0.5648],\n",
       "        [0.5650],\n",
       "        [0.5652],\n",
       "        [0.5646],\n",
       "        [0.5649],\n",
       "        [0.5648],\n",
       "        [0.5648],\n",
       "        [0.5651],\n",
       "        [0.5650],\n",
       "        [0.5648],\n",
       "        [0.5653],\n",
       "        [0.5649],\n",
       "        [0.5651],\n",
       "        [0.5649],\n",
       "        [0.5649],\n",
       "        [0.5649],\n",
       "        [0.5649],\n",
       "        [0.5651],\n",
       "        [0.5647],\n",
       "        [0.5646],\n",
       "        [0.5650],\n",
       "        [0.5651],\n",
       "        [0.5652],\n",
       "        [0.5650],\n",
       "        [0.5649],\n",
       "        [0.5650],\n",
       "        [0.5651],\n",
       "        [0.5646],\n",
       "        [0.5648],\n",
       "        [0.5653],\n",
       "        [0.5647],\n",
       "        [0.5652],\n",
       "        [0.5649],\n",
       "        [0.5650],\n",
       "        [0.5649],\n",
       "        [0.5648],\n",
       "        [0.5653],\n",
       "        [0.5654],\n",
       "        [0.5645],\n",
       "        [0.5648],\n",
       "        [0.5653],\n",
       "        [0.5650],\n",
       "        [0.5647],\n",
       "        [0.5650],\n",
       "        [0.5648],\n",
       "        [0.5648],\n",
       "        [0.5648],\n",
       "        [0.5652],\n",
       "        [0.5652],\n",
       "        [0.5648],\n",
       "        [0.5654],\n",
       "        [0.5648],\n",
       "        [0.5647],\n",
       "        [0.5649],\n",
       "        [0.5650],\n",
       "        [0.5649],\n",
       "        [0.5650],\n",
       "        [0.5653]], grad_fn=<SigmoidBackward0>)"
      ]
     },
     "execution_count": 7,
     "metadata": {},
     "output_type": "execute_result"
    }
   ],
   "source": [
    "batch = next(iter(dm))\n",
    "D(batch)"
   ]
  },
  {
   "cell_type": "code",
   "execution_count": null,
   "metadata": {},
   "outputs": [],
   "source": []
  }
 ],
 "metadata": {
  "kernelspec": {
   "display_name": "tqdne-h7mN2Kd5-py3.11",
   "language": "python",
   "name": "python3"
  },
  "language_info": {
   "codemirror_mode": {
    "name": "ipython",
    "version": 3
   },
   "file_extension": ".py",
   "mimetype": "text/x-python",
   "name": "python",
   "nbconvert_exporter": "python",
   "pygments_lexer": "ipython3",
   "version": "3.11.4"
  }
 },
 "nbformat": 4,
 "nbformat_minor": 2
}
