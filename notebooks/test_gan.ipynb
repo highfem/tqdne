{
 "cells": [
  {
   "cell_type": "code",
   "execution_count": 1,
   "metadata": {},
   "outputs": [
    {
     "name": "stderr",
     "output_type": "stream",
     "text": [
      "/users/fmachado/.cache/pypoetry/virtualenvs/tqdne-h7mN2Kd5-py3.11/lib/python3.11/site-packages/tqdm/auto.py:21: TqdmWarning: IProgress not found. Please update jupyter and ipywidgets. See https://ipywidgets.readthedocs.io/en/stable/user_install.html\n",
      "  from .autonotebook import tqdm as notebook_tqdm\n",
      "/users/fmachado/.cache/pypoetry/virtualenvs/tqdne-h7mN2Kd5-py3.11/lib/python3.11/site-packages/torch/cuda/__init__.py:546: UserWarning: Can't initialize NVML\n",
      "  warnings.warn(\"Can't initialize NVML\")\n"
     ]
    }
   ],
   "source": [
    "from tqdne.models.cgan import CGenerator, CDiscriminator\n",
    "from torchsummary import summary\n",
    "import torch\n",
    "\n",
    "# from tqdne.ganutils.data_utils import SeisData\n",
    "from tqdne.ganutils.dataset import WFDataModule\n",
    "\n",
    "# from pytorch_lightning.loggers import MLFlowLogger\n",
    "from tqdne.conf import Config\n",
    "from pathlib import Path"
   ]
  },
  {
   "cell_type": "code",
   "execution_count": 2,
   "metadata": {},
   "outputs": [],
   "source": [
    "G = CGenerator(2)\n",
    "D = CDiscriminator(2)"
   ]
  },
  {
   "cell_type": "code",
   "execution_count": 3,
   "metadata": {},
   "outputs": [
    {
     "name": "stdout",
     "output_type": "stream",
     "text": [
      "Shape of y_emb and z\n",
      "torch.Size([23, 32, 1]) torch.Size([23, 128, 1])\n",
      "torch.Size([23, 160, 1])\n"
     ]
    }
   ],
   "source": [
    "z = torch.randn(23, 128, )\n",
    "v_list = torch.randn(23, 2)\n",
    "x = G(z, v_list)"
   ]
  },
  {
   "cell_type": "code",
   "execution_count": 4,
   "metadata": {},
   "outputs": [
    {
     "name": "stdout",
     "output_type": "stream",
     "text": [
      "Shape of x and y_emb\n",
      "torch.Size([23, 1, 1024]) torch.Size([23, 32, 1024])\n"
     ]
    },
    {
     "data": {
      "text/plain": [
       "tensor([-0.0964,  0.2896, -0.0366,  0.1261, -0.0918, -0.0680,  0.4498,  0.2178,\n",
       "        -0.1220, -0.0405, -0.1207,  0.0685, -0.0658,  0.6039,  0.2692,  0.0341,\n",
       "        -0.0979,  0.1008, -0.1529, -0.0115,  0.6955, -0.0750, -0.0159],\n",
       "       grad_fn=<ViewBackward0>)"
      ]
     },
     "execution_count": 4,
     "metadata": {},
     "output_type": "execute_result"
    }
   ],
   "source": [
    "D(x, v_list)"
   ]
  },
  {
   "cell_type": "code",
   "execution_count": 5,
   "metadata": {},
   "outputs": [
    {
     "name": "stdout",
     "output_type": "stream",
     "text": [
      "Loading data...\n",
      "(52076, 1000)\n",
      "(52076, 24)\n"
     ]
    },
    {
     "ename": "TypeError",
     "evalue": "concatenate() got multiple values for argument 'axis'",
     "output_type": "error",
     "traceback": [
      "\u001b[0;31m---------------------------------------------------------------------------\u001b[0m",
      "\u001b[0;31mTypeError\u001b[0m                                 Traceback (most recent call last)",
      "\u001b[1;32m/users/fmachado/tqdne/notebooks/test_gan.ipynb Cell 5\u001b[0m line \u001b[0;36m1\n\u001b[1;32m     <a href='vscode-notebook-cell://ssh-remote%2Bdaint/users/fmachado/tqdne/notebooks/test_gan.ipynb#W5sdnNjb2RlLXJlbW90ZQ%3D%3D?line=9'>10</a>\u001b[0m frac_train \u001b[39m=\u001b[39m \u001b[39m0.8\u001b[39m\n\u001b[1;32m     <a href='vscode-notebook-cell://ssh-remote%2Bdaint/users/fmachado/tqdne/notebooks/test_gan.ipynb#W5sdnNjb2RlLXJlbW90ZQ%3D%3D?line=11'>12</a>\u001b[0m \u001b[39mprint\u001b[39m(\u001b[39m\"\u001b[39m\u001b[39mLoading data...\u001b[39m\u001b[39m\"\u001b[39m)\n\u001b[0;32m---> <a href='vscode-notebook-cell://ssh-remote%2Bdaint/users/fmachado/tqdne/notebooks/test_gan.ipynb#W5sdnNjb2RlLXJlbW90ZQ%3D%3D?line=12'>13</a>\u001b[0m dm \u001b[39m=\u001b[39m WFDataModule(data_file, attr_file, condv_names, batch_size, frac_train)\n",
      "File \u001b[0;32m~/tqdne/tqdne/ganutils/dataset.py:42\u001b[0m, in \u001b[0;36mWFDataModule.__init__\u001b[0;34m(self, wfs_file, attr_file, v_names, batch_size, train_ratio)\u001b[0m\n\u001b[1;32m     40\u001b[0m     filling \u001b[39m=\u001b[39m np\u001b[39m.\u001b[39mrepeat(filling, n, axis\u001b[39m=\u001b[39m\u001b[39m1\u001b[39m)\n\u001b[1;32m     41\u001b[0m     \u001b[39mprint\u001b[39m(filling\u001b[39m.\u001b[39mshape)\n\u001b[0;32m---> 42\u001b[0m     \u001b[39mself\u001b[39m\u001b[39m.\u001b[39mwfs \u001b[39m=\u001b[39m np\u001b[39m.\u001b[39;49mconcatenate(filling, wfs, axis\u001b[39m=\u001b[39;49m\u001b[39m1\u001b[39;49m)\n\u001b[1;32m     43\u001b[0m     \u001b[39mprint\u001b[39m(\u001b[39mself\u001b[39m\u001b[39m.\u001b[39mwfs\u001b[39m.\u001b[39mshape) \n\u001b[1;32m     44\u001b[0m n \u001b[39m=\u001b[39m (\u001b[39mself\u001b[39m\u001b[39m.\u001b[39mwfs\u001b[39m.\u001b[39mshape[\u001b[39m0\u001b[39m] \u001b[39m/\u001b[39m\u001b[39m/\u001b[39m batch_size) \u001b[39m*\u001b[39m batch_size\n",
      "\u001b[0;31mTypeError\u001b[0m: concatenate() got multiple values for argument 'axis'"
     ]
    }
   ],
   "source": [
    "config = Config()\n",
    "data_file = config.datasetdir / Path(config.data_waveforms)\n",
    "attr_file = config.datasetdir / Path(config.data_attributes)\n",
    "condv_names = [\"dist\", \"mag\"]\n",
    "# plot_format = \"pdf\"\n",
    "\n",
    "resume = False\n",
    "max_epochs = 50\n",
    "batch_size = 256\n",
    "frac_train = 0.8\n",
    "\n",
    "print(\"Loading data...\")\n",
    "dm = WFDataModule(data_file, attr_file, condv_names, batch_size, frac_train)"
   ]
  }
 ],
 "metadata": {
  "kernelspec": {
   "display_name": "tqdne-h7mN2Kd5-py3.11",
   "language": "python",
   "name": "python3"
  },
  "language_info": {
   "codemirror_mode": {
    "name": "ipython",
    "version": 3
   },
   "file_extension": ".py",
   "mimetype": "text/x-python",
   "name": "python",
   "nbconvert_exporter": "python",
   "pygments_lexer": "ipython3",
   "version": "3.11.4"
  }
 },
 "nbformat": 4,
 "nbformat_minor": 2
}
