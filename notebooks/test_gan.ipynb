{
 "cells": [
  {
   "cell_type": "code",
   "execution_count": 1,
   "metadata": {},
   "outputs": [],
   "source": [
    "from tqdne.models.cgan import CGenerator, CDiscriminator\n",
    "from torchsummary import summary\n",
    "import torch"
   ]
  },
  {
   "cell_type": "code",
   "execution_count": 2,
   "metadata": {},
   "outputs": [],
   "source": [
    "G = CGenerator(2)"
   ]
  },
  {
   "cell_type": "code",
   "execution_count": 3,
   "metadata": {},
   "outputs": [
    {
     "name": "stdout",
     "output_type": "stream",
     "text": [
      "CGenerator(\n",
      "  (model): Sequential(\n",
      "    (0): Sequential(\n",
      "      (0): ConvTranspose1d(192, 8192, kernel_size=(4,), stride=(1,), bias=False)\n",
      "      (1): BatchNorm1d(8192, eps=1e-05, momentum=0.1, affine=True, track_running_stats=True)\n",
      "      (2): LeakyReLU(negative_slope=0.2)\n",
      "    )\n",
      "    (1): Sequential(\n",
      "      (0): ConvTranspose1d(8192, 4096, kernel_size=(4,), stride=(2,), padding=(1,), bias=False)\n",
      "      (1): BatchNorm1d(4096, eps=1e-05, momentum=0.1, affine=True, track_running_stats=True)\n",
      "      (2): LeakyReLU(negative_slope=0.2)\n",
      "    )\n",
      "    (2): Sequential(\n",
      "      (0): ConvTranspose1d(4096, 2048, kernel_size=(4,), stride=(2,), padding=(1,), bias=False)\n",
      "      (1): BatchNorm1d(2048, eps=1e-05, momentum=0.1, affine=True, track_running_stats=True)\n",
      "      (2): LeakyReLU(negative_slope=0.2)\n",
      "    )\n",
      "    (3): Sequential(\n",
      "      (0): ConvTranspose1d(2048, 1024, kernel_size=(4,), stride=(2,), padding=(1,), bias=False)\n",
      "      (1): BatchNorm1d(1024, eps=1e-05, momentum=0.1, affine=True, track_running_stats=True)\n",
      "      (2): LeakyReLU(negative_slope=0.2)\n",
      "    )\n",
      "    (4): Sequential(\n",
      "      (0): ConvTranspose1d(1024, 512, kernel_size=(4,), stride=(2,), padding=(1,), bias=False)\n",
      "      (1): BatchNorm1d(512, eps=1e-05, momentum=0.1, affine=True, track_running_stats=True)\n",
      "      (2): LeakyReLU(negative_slope=0.2)\n",
      "    )\n",
      "    (5): Sequential(\n",
      "      (0): ConvTranspose1d(512, 256, kernel_size=(4,), stride=(2,), padding=(1,), bias=False)\n",
      "      (1): BatchNorm1d(256, eps=1e-05, momentum=0.1, affine=True, track_running_stats=True)\n",
      "      (2): LeakyReLU(negative_slope=0.2)\n",
      "    )\n",
      "    (6): Sequential(\n",
      "      (0): ConvTranspose1d(256, 128, kernel_size=(4,), stride=(2,), padding=(1,), bias=False)\n",
      "      (1): BatchNorm1d(128, eps=1e-05, momentum=0.1, affine=True, track_running_stats=True)\n",
      "      (2): LeakyReLU(negative_slope=0.2)\n",
      "    )\n",
      "    (7): Sequential(\n",
      "      (0): ConvTranspose1d(128, 64, kernel_size=(4,), stride=(2,), padding=(1,), bias=False)\n",
      "      (1): BatchNorm1d(64, eps=1e-05, momentum=0.1, affine=True, track_running_stats=True)\n",
      "      (2): LeakyReLU(negative_slope=0.2)\n",
      "    )\n",
      "    (8): Sequential(\n",
      "      (0): ConvTranspose1d(64, 1, kernel_size=(4,), stride=(2,), padding=(1,))\n",
      "      (1): Tanh()\n",
      "    )\n",
      "  )\n",
      ")\n"
     ]
    }
   ],
   "source": [
    "print(G)"
   ]
  },
  {
   "cell_type": "code",
   "execution_count": 4,
   "metadata": {},
   "outputs": [
    {
     "name": "stdout",
     "output_type": "stream",
     "text": [
      "Shape of y_emb and z\n",
      "torch.Size([1, 64, 1]) torch.Size([1, 128, 1])\n"
     ]
    },
    {
     "name": "stdout",
     "output_type": "stream",
     "text": [
      "torch.Size([1, 192, 1])\n"
     ]
    }
   ],
   "source": [
    "z = torch.randn(1, 128, )\n",
    "v_list = torch.randn(1, 2)\n",
    "x = G(z, v_list)"
   ]
  },
  {
   "cell_type": "code",
   "execution_count": 5,
   "metadata": {},
   "outputs": [
    {
     "name": "stdout",
     "output_type": "stream",
     "text": [
      "CDiscriminator(\n",
      "  (disc): Sequential(\n",
      "    (0): Conv1d(8192, 1, kernel_size=(4,), stride=(1,), bias=False)\n",
      "    (1): LeakyReLU(negative_slope=0.2)\n",
      "  )\n",
      "  (model): Sequential(\n",
      "    (0): Sequential(\n",
      "      (0): Conv1d(1, 64, kernel_size=(4,), stride=(2,), padding=(1,))\n",
      "      (1): LeakyReLU(negative_slope=0.2)\n",
      "    )\n",
      "    (1): Sequential(\n",
      "      (0): Conv1d(64, 128, kernel_size=(4,), stride=(2,), padding=(1,), bias=False)\n",
      "      (1): BatchNorm1d(128, eps=1e-05, momentum=0.1, affine=True, track_running_stats=True)\n",
      "      (2): LeakyReLU(negative_slope=0.2)\n",
      "    )\n",
      "    (2): Sequential(\n",
      "      (0): Conv1d(128, 256, kernel_size=(4,), stride=(2,), padding=(1,), bias=False)\n",
      "      (1): BatchNorm1d(256, eps=1e-05, momentum=0.1, affine=True, track_running_stats=True)\n",
      "      (2): LeakyReLU(negative_slope=0.2)\n",
      "    )\n",
      "    (3): Sequential(\n",
      "      (0): Conv1d(256, 512, kernel_size=(4,), stride=(2,), padding=(1,), bias=False)\n",
      "      (1): BatchNorm1d(512, eps=1e-05, momentum=0.1, affine=True, track_running_stats=True)\n",
      "      (2): LeakyReLU(negative_slope=0.2)\n",
      "    )\n",
      "    (4): Sequential(\n",
      "      (0): Conv1d(512, 1024, kernel_size=(4,), stride=(2,), padding=(1,), bias=False)\n",
      "      (1): BatchNorm1d(1024, eps=1e-05, momentum=0.1, affine=True, track_running_stats=True)\n",
      "      (2): LeakyReLU(negative_slope=0.2)\n",
      "    )\n",
      "    (5): Sequential(\n",
      "      (0): Conv1d(1024, 2048, kernel_size=(4,), stride=(2,), padding=(1,), bias=False)\n",
      "      (1): BatchNorm1d(2048, eps=1e-05, momentum=0.1, affine=True, track_running_stats=True)\n",
      "      (2): LeakyReLU(negative_slope=0.2)\n",
      "    )\n",
      "    (6): Sequential(\n",
      "      (0): Conv1d(2048, 4096, kernel_size=(4,), stride=(2,), padding=(1,), bias=False)\n",
      "      (1): BatchNorm1d(4096, eps=1e-05, momentum=0.1, affine=True, track_running_stats=True)\n",
      "      (2): LeakyReLU(negative_slope=0.2)\n",
      "    )\n",
      "    (7): Sequential(\n",
      "      (0): Conv1d(4096, 8192, kernel_size=(4,), stride=(2,), padding=(1,), bias=False)\n",
      "      (1): BatchNorm1d(8192, eps=1e-05, momentum=0.1, affine=True, track_running_stats=True)\n",
      "      (2): LeakyReLU(negative_slope=0.2)\n",
      "    )\n",
      "  )\n",
      ")\n"
     ]
    }
   ],
   "source": [
    "D = CDiscriminator(2)\n",
    "print(D)"
   ]
  },
  {
   "cell_type": "code",
   "execution_count": 6,
   "metadata": {},
   "outputs": [
    {
     "name": "stdout",
     "output_type": "stream",
     "text": [
      "Shape of x and y_emb\n",
      "torch.Size([1, 1, 1024]) torch.Size([1, 1, 64])\n"
     ]
    },
    {
     "data": {
      "text/plain": [
       "tensor([0.6138], grad_fn=<ViewBackward0>)"
      ]
     },
     "execution_count": 6,
     "metadata": {},
     "output_type": "execute_result"
    }
   ],
   "source": [
    "D(x, v_list)"
   ]
  },
  {
   "cell_type": "code",
   "execution_count": 7,
   "metadata": {},
   "outputs": [
    {
     "name": "stdout",
     "output_type": "stream",
     "text": [
      "Shape of y_emb and z\n",
      "torch.Size([2, 64, 1]) torch.Size([2, 128, 1])\n",
      "torch.Size([2, 192, 1])\n",
      "----------------------------------------------------------------\n",
      "        Layer (type)               Output Shape         Param #\n",
      "================================================================\n",
      "   ConvTranspose1d-1              [-1, 8192, 4]       6,291,456\n",
      "       BatchNorm1d-2              [-1, 8192, 4]          16,384\n",
      "         LeakyReLU-3              [-1, 8192, 4]               0\n",
      "         LeakyReLU-4              [-1, 8192, 4]               0\n",
      "         LeakyReLU-5              [-1, 8192, 4]               0\n",
      "         LeakyReLU-6              [-1, 8192, 4]               0\n",
      "         LeakyReLU-7              [-1, 8192, 4]               0\n",
      "         LeakyReLU-8              [-1, 8192, 4]               0\n",
      "         LeakyReLU-9              [-1, 8192, 4]               0\n",
      "        LeakyReLU-10              [-1, 8192, 4]               0\n",
      "  ConvTranspose1d-11              [-1, 4096, 8]     134,217,728\n",
      "      BatchNorm1d-12              [-1, 4096, 8]           8,192\n",
      "        LeakyReLU-13              [-1, 4096, 8]               0\n",
      "        LeakyReLU-14              [-1, 4096, 8]               0\n",
      "        LeakyReLU-15              [-1, 4096, 8]               0\n",
      "        LeakyReLU-16              [-1, 4096, 8]               0\n",
      "        LeakyReLU-17              [-1, 4096, 8]               0\n",
      "        LeakyReLU-18              [-1, 4096, 8]               0\n",
      "        LeakyReLU-19              [-1, 4096, 8]               0\n",
      "        LeakyReLU-20              [-1, 4096, 8]               0\n",
      "  ConvTranspose1d-21             [-1, 2048, 16]      33,554,432\n",
      "      BatchNorm1d-22             [-1, 2048, 16]           4,096\n",
      "        LeakyReLU-23             [-1, 2048, 16]               0\n",
      "        LeakyReLU-24             [-1, 2048, 16]               0\n",
      "        LeakyReLU-25             [-1, 2048, 16]               0\n",
      "        LeakyReLU-26             [-1, 2048, 16]               0\n",
      "        LeakyReLU-27             [-1, 2048, 16]               0\n",
      "        LeakyReLU-28             [-1, 2048, 16]               0\n",
      "        LeakyReLU-29             [-1, 2048, 16]               0\n",
      "        LeakyReLU-30             [-1, 2048, 16]               0\n",
      "  ConvTranspose1d-31             [-1, 1024, 32]       8,388,608\n",
      "      BatchNorm1d-32             [-1, 1024, 32]           2,048\n",
      "        LeakyReLU-33             [-1, 1024, 32]               0\n",
      "        LeakyReLU-34             [-1, 1024, 32]               0\n",
      "        LeakyReLU-35             [-1, 1024, 32]               0\n",
      "        LeakyReLU-36             [-1, 1024, 32]               0\n",
      "        LeakyReLU-37             [-1, 1024, 32]               0\n",
      "        LeakyReLU-38             [-1, 1024, 32]               0\n",
      "        LeakyReLU-39             [-1, 1024, 32]               0\n",
      "        LeakyReLU-40             [-1, 1024, 32]               0\n",
      "  ConvTranspose1d-41              [-1, 512, 64]       2,097,152\n",
      "      BatchNorm1d-42              [-1, 512, 64]           1,024\n",
      "        LeakyReLU-43              [-1, 512, 64]               0\n",
      "        LeakyReLU-44              [-1, 512, 64]               0\n",
      "        LeakyReLU-45              [-1, 512, 64]               0\n",
      "        LeakyReLU-46              [-1, 512, 64]               0\n",
      "        LeakyReLU-47              [-1, 512, 64]               0\n",
      "        LeakyReLU-48              [-1, 512, 64]               0\n",
      "        LeakyReLU-49              [-1, 512, 64]               0\n",
      "        LeakyReLU-50              [-1, 512, 64]               0\n",
      "  ConvTranspose1d-51             [-1, 256, 128]         524,288\n",
      "      BatchNorm1d-52             [-1, 256, 128]             512\n",
      "        LeakyReLU-53             [-1, 256, 128]               0\n",
      "        LeakyReLU-54             [-1, 256, 128]               0\n",
      "        LeakyReLU-55             [-1, 256, 128]               0\n",
      "        LeakyReLU-56             [-1, 256, 128]               0\n",
      "        LeakyReLU-57             [-1, 256, 128]               0\n",
      "        LeakyReLU-58             [-1, 256, 128]               0\n",
      "        LeakyReLU-59             [-1, 256, 128]               0\n",
      "        LeakyReLU-60             [-1, 256, 128]               0\n",
      "  ConvTranspose1d-61             [-1, 128, 256]         131,072\n",
      "      BatchNorm1d-62             [-1, 128, 256]             256\n",
      "        LeakyReLU-63             [-1, 128, 256]               0\n",
      "        LeakyReLU-64             [-1, 128, 256]               0\n",
      "        LeakyReLU-65             [-1, 128, 256]               0\n",
      "        LeakyReLU-66             [-1, 128, 256]               0\n",
      "        LeakyReLU-67             [-1, 128, 256]               0\n",
      "        LeakyReLU-68             [-1, 128, 256]               0\n",
      "        LeakyReLU-69             [-1, 128, 256]               0\n",
      "        LeakyReLU-70             [-1, 128, 256]               0\n",
      "  ConvTranspose1d-71              [-1, 64, 512]          32,768\n",
      "      BatchNorm1d-72              [-1, 64, 512]             128\n",
      "        LeakyReLU-73              [-1, 64, 512]               0\n",
      "        LeakyReLU-74              [-1, 64, 512]               0\n",
      "        LeakyReLU-75              [-1, 64, 512]               0\n",
      "        LeakyReLU-76              [-1, 64, 512]               0\n",
      "        LeakyReLU-77              [-1, 64, 512]               0\n",
      "        LeakyReLU-78              [-1, 64, 512]               0\n",
      "        LeakyReLU-79              [-1, 64, 512]               0\n",
      "        LeakyReLU-80              [-1, 64, 512]               0\n",
      "  ConvTranspose1d-81              [-1, 1, 1024]             257\n",
      "             Tanh-82              [-1, 1, 1024]               0\n",
      "================================================================\n",
      "Total params: 185,270,401\n",
      "Trainable params: 185,270,401\n",
      "Non-trainable params: 0\n",
      "----------------------------------------------------------------\n",
      "Input size (MB): 0.00\n",
      "Forward/backward pass size (MB): 20.02\n",
      "Params size (MB): 706.75\n",
      "Estimated Total Size (MB): 726.77\n",
      "----------------------------------------------------------------\n"
     ]
    }
   ],
   "source": [
    "summary(G, [(128, ), (2,)], batch_size=-1)\n"
   ]
  },
  {
   "cell_type": "code",
   "execution_count": 8,
   "metadata": {},
   "outputs": [
    {
     "name": "stdout",
     "output_type": "stream",
     "text": [
      "Shape of x and y_emb\n",
      "torch.Size([2, 1, 1024]) torch.Size([2, 1, 64])\n",
      "----------------------------------------------------------------\n",
      "        Layer (type)               Output Shape         Param #\n",
      "================================================================\n",
      "            Conv1d-1              [-1, 64, 544]             320\n",
      "         LeakyReLU-2              [-1, 64, 544]               0\n",
      "         LeakyReLU-3              [-1, 64, 544]               0\n",
      "         LeakyReLU-4              [-1, 64, 544]               0\n",
      "         LeakyReLU-5              [-1, 64, 544]               0\n",
      "         LeakyReLU-6              [-1, 64, 544]               0\n",
      "         LeakyReLU-7              [-1, 64, 544]               0\n",
      "         LeakyReLU-8              [-1, 64, 544]               0\n",
      "         LeakyReLU-9              [-1, 64, 544]               0\n",
      "           Conv1d-10             [-1, 128, 272]          32,768\n",
      "      BatchNorm1d-11             [-1, 128, 272]             256\n",
      "        LeakyReLU-12             [-1, 128, 272]               0\n",
      "        LeakyReLU-13             [-1, 128, 272]               0\n",
      "        LeakyReLU-14             [-1, 128, 272]               0\n",
      "        LeakyReLU-15             [-1, 128, 272]               0\n",
      "        LeakyReLU-16             [-1, 128, 272]               0\n",
      "        LeakyReLU-17             [-1, 128, 272]               0\n",
      "        LeakyReLU-18             [-1, 128, 272]               0\n",
      "        LeakyReLU-19             [-1, 128, 272]               0\n",
      "           Conv1d-20             [-1, 256, 136]         131,072\n",
      "      BatchNorm1d-21             [-1, 256, 136]             512\n",
      "        LeakyReLU-22             [-1, 256, 136]               0\n",
      "        LeakyReLU-23             [-1, 256, 136]               0\n",
      "        LeakyReLU-24             [-1, 256, 136]               0\n",
      "        LeakyReLU-25             [-1, 256, 136]               0\n",
      "        LeakyReLU-26             [-1, 256, 136]               0\n",
      "        LeakyReLU-27             [-1, 256, 136]               0\n",
      "        LeakyReLU-28             [-1, 256, 136]               0\n",
      "        LeakyReLU-29             [-1, 256, 136]               0\n",
      "           Conv1d-30              [-1, 512, 68]         524,288\n",
      "      BatchNorm1d-31              [-1, 512, 68]           1,024\n",
      "        LeakyReLU-32              [-1, 512, 68]               0\n",
      "        LeakyReLU-33              [-1, 512, 68]               0\n",
      "        LeakyReLU-34              [-1, 512, 68]               0\n",
      "        LeakyReLU-35              [-1, 512, 68]               0\n",
      "        LeakyReLU-36              [-1, 512, 68]               0\n",
      "        LeakyReLU-37              [-1, 512, 68]               0\n",
      "        LeakyReLU-38              [-1, 512, 68]               0\n",
      "        LeakyReLU-39              [-1, 512, 68]               0\n",
      "           Conv1d-40             [-1, 1024, 34]       2,097,152\n",
      "      BatchNorm1d-41             [-1, 1024, 34]           2,048\n",
      "        LeakyReLU-42             [-1, 1024, 34]               0\n",
      "        LeakyReLU-43             [-1, 1024, 34]               0\n",
      "        LeakyReLU-44             [-1, 1024, 34]               0\n",
      "        LeakyReLU-45             [-1, 1024, 34]               0\n",
      "        LeakyReLU-46             [-1, 1024, 34]               0\n",
      "        LeakyReLU-47             [-1, 1024, 34]               0\n",
      "        LeakyReLU-48             [-1, 1024, 34]               0\n",
      "        LeakyReLU-49             [-1, 1024, 34]               0\n",
      "           Conv1d-50             [-1, 2048, 17]       8,388,608\n",
      "      BatchNorm1d-51             [-1, 2048, 17]           4,096\n",
      "        LeakyReLU-52             [-1, 2048, 17]               0\n",
      "        LeakyReLU-53             [-1, 2048, 17]               0\n",
      "        LeakyReLU-54             [-1, 2048, 17]               0\n",
      "        LeakyReLU-55             [-1, 2048, 17]               0\n",
      "        LeakyReLU-56             [-1, 2048, 17]               0\n",
      "        LeakyReLU-57             [-1, 2048, 17]               0\n",
      "        LeakyReLU-58             [-1, 2048, 17]               0\n",
      "        LeakyReLU-59             [-1, 2048, 17]               0\n",
      "           Conv1d-60              [-1, 4096, 8]      33,554,432\n",
      "      BatchNorm1d-61              [-1, 4096, 8]           8,192\n",
      "        LeakyReLU-62              [-1, 4096, 8]               0\n",
      "        LeakyReLU-63              [-1, 4096, 8]               0\n",
      "        LeakyReLU-64              [-1, 4096, 8]               0\n",
      "        LeakyReLU-65              [-1, 4096, 8]               0\n",
      "        LeakyReLU-66              [-1, 4096, 8]               0\n",
      "        LeakyReLU-67              [-1, 4096, 8]               0\n",
      "        LeakyReLU-68              [-1, 4096, 8]               0\n",
      "        LeakyReLU-69              [-1, 4096, 8]               0\n",
      "           Conv1d-70              [-1, 8192, 4]     134,217,728\n",
      "      BatchNorm1d-71              [-1, 8192, 4]          16,384\n",
      "        LeakyReLU-72              [-1, 8192, 4]               0\n",
      "        LeakyReLU-73              [-1, 8192, 4]               0\n",
      "        LeakyReLU-74              [-1, 8192, 4]               0\n",
      "        LeakyReLU-75              [-1, 8192, 4]               0\n",
      "        LeakyReLU-76              [-1, 8192, 4]               0\n",
      "        LeakyReLU-77              [-1, 8192, 4]               0\n",
      "        LeakyReLU-78              [-1, 8192, 4]               0\n",
      "        LeakyReLU-79              [-1, 8192, 4]               0\n",
      "           Conv1d-80                 [-1, 1, 1]          32,768\n",
      "        LeakyReLU-81                 [-1, 1, 1]               0\n"
     ]
    },
    {
     "ename": "ValueError",
     "evalue": "setting an array element with a sequence. The requested array has an inhomogeneous shape after 1 dimensions. The detected shape was (2,) + inhomogeneous part.",
     "output_type": "error",
     "traceback": [
      "\u001b[0;31m---------------------------------------------------------------------------\u001b[0m",
      "\u001b[0;31mValueError\u001b[0m                                Traceback (most recent call last)",
      "\u001b[1;32m/users/fmachado/tqdne/notebooks/test_gan.ipynb Cell 8\u001b[0m line \u001b[0;36m1\n\u001b[0;32m----> <a href='vscode-notebook-cell://ssh-remote%2Bdaint/users/fmachado/tqdne/notebooks/test_gan.ipynb#X10sdnNjb2RlLXJlbW90ZQ%3D%3D?line=0'>1</a>\u001b[0m summary(D, [(\u001b[39m1\u001b[39;49m, \u001b[39m1024\u001b[39;49m,) , (\u001b[39m2\u001b[39;49m, )], batch_size\u001b[39m=\u001b[39;49m\u001b[39m-\u001b[39;49m\u001b[39m1\u001b[39;49m)\n",
      "File \u001b[0;32m~/.cache/pypoetry/virtualenvs/tqdne-h7mN2Kd5-py3.11/lib/python3.11/site-packages/torchsummary/torchsummary.py:100\u001b[0m, in \u001b[0;36msummary\u001b[0;34m(model, input_size, batch_size, device)\u001b[0m\n\u001b[1;32m     97\u001b[0m     \u001b[39mprint\u001b[39m(line_new)\n\u001b[1;32m     99\u001b[0m \u001b[39m# assume 4 bytes/number (float on cuda).\u001b[39;00m\n\u001b[0;32m--> 100\u001b[0m total_input_size \u001b[39m=\u001b[39m \u001b[39mabs\u001b[39m(np\u001b[39m.\u001b[39;49mprod(input_size) \u001b[39m*\u001b[39m batch_size \u001b[39m*\u001b[39m \u001b[39m4.\u001b[39m \u001b[39m/\u001b[39m (\u001b[39m1024\u001b[39m \u001b[39m*\u001b[39m\u001b[39m*\u001b[39m \u001b[39m2.\u001b[39m))\n\u001b[1;32m    101\u001b[0m total_output_size \u001b[39m=\u001b[39m \u001b[39mabs\u001b[39m(\u001b[39m2.\u001b[39m \u001b[39m*\u001b[39m total_output \u001b[39m*\u001b[39m \u001b[39m4.\u001b[39m \u001b[39m/\u001b[39m (\u001b[39m1024\u001b[39m \u001b[39m*\u001b[39m\u001b[39m*\u001b[39m \u001b[39m2.\u001b[39m))  \u001b[39m# x2 for gradients\u001b[39;00m\n\u001b[1;32m    102\u001b[0m total_params_size \u001b[39m=\u001b[39m \u001b[39mabs\u001b[39m(total_params\u001b[39m.\u001b[39mnumpy() \u001b[39m*\u001b[39m \u001b[39m4.\u001b[39m \u001b[39m/\u001b[39m (\u001b[39m1024\u001b[39m \u001b[39m*\u001b[39m\u001b[39m*\u001b[39m \u001b[39m2.\u001b[39m))\n",
      "File \u001b[0;32m~/.cache/pypoetry/virtualenvs/tqdne-h7mN2Kd5-py3.11/lib/python3.11/site-packages/numpy/core/fromnumeric.py:3100\u001b[0m, in \u001b[0;36mprod\u001b[0;34m(a, axis, dtype, out, keepdims, initial, where)\u001b[0m\n\u001b[1;32m   2979\u001b[0m \u001b[39m@array_function_dispatch\u001b[39m(_prod_dispatcher)\n\u001b[1;32m   2980\u001b[0m \u001b[39mdef\u001b[39;00m \u001b[39mprod\u001b[39m(a, axis\u001b[39m=\u001b[39m\u001b[39mNone\u001b[39;00m, dtype\u001b[39m=\u001b[39m\u001b[39mNone\u001b[39;00m, out\u001b[39m=\u001b[39m\u001b[39mNone\u001b[39;00m, keepdims\u001b[39m=\u001b[39mnp\u001b[39m.\u001b[39m_NoValue,\n\u001b[1;32m   2981\u001b[0m          initial\u001b[39m=\u001b[39mnp\u001b[39m.\u001b[39m_NoValue, where\u001b[39m=\u001b[39mnp\u001b[39m.\u001b[39m_NoValue):\n\u001b[1;32m   2982\u001b[0m \u001b[39m    \u001b[39m\u001b[39m\"\"\"\u001b[39;00m\n\u001b[1;32m   2983\u001b[0m \u001b[39m    Return the product of array elements over a given axis.\u001b[39;00m\n\u001b[1;32m   2984\u001b[0m \n\u001b[0;32m   (...)\u001b[0m\n\u001b[1;32m   3098\u001b[0m \u001b[39m    10\u001b[39;00m\n\u001b[1;32m   3099\u001b[0m \u001b[39m    \"\"\"\u001b[39;00m\n\u001b[0;32m-> 3100\u001b[0m     \u001b[39mreturn\u001b[39;00m _wrapreduction(a, np\u001b[39m.\u001b[39;49mmultiply, \u001b[39m'\u001b[39;49m\u001b[39mprod\u001b[39;49m\u001b[39m'\u001b[39;49m, axis, dtype, out,\n\u001b[1;32m   3101\u001b[0m                           keepdims\u001b[39m=\u001b[39;49mkeepdims, initial\u001b[39m=\u001b[39;49minitial, where\u001b[39m=\u001b[39;49mwhere)\n",
      "File \u001b[0;32m~/.cache/pypoetry/virtualenvs/tqdne-h7mN2Kd5-py3.11/lib/python3.11/site-packages/numpy/core/fromnumeric.py:88\u001b[0m, in \u001b[0;36m_wrapreduction\u001b[0;34m(obj, ufunc, method, axis, dtype, out, **kwargs)\u001b[0m\n\u001b[1;32m     85\u001b[0m         \u001b[39melse\u001b[39;00m:\n\u001b[1;32m     86\u001b[0m             \u001b[39mreturn\u001b[39;00m reduction(axis\u001b[39m=\u001b[39maxis, out\u001b[39m=\u001b[39mout, \u001b[39m*\u001b[39m\u001b[39m*\u001b[39mpasskwargs)\n\u001b[0;32m---> 88\u001b[0m \u001b[39mreturn\u001b[39;00m ufunc\u001b[39m.\u001b[39;49mreduce(obj, axis, dtype, out, \u001b[39m*\u001b[39;49m\u001b[39m*\u001b[39;49mpasskwargs)\n",
      "\u001b[0;31mValueError\u001b[0m: setting an array element with a sequence. The requested array has an inhomogeneous shape after 1 dimensions. The detected shape was (2,) + inhomogeneous part."
     ]
    }
   ],
   "source": [
    "summary(D, [(1, 1024,) , (2, )], batch_size=-1)"
   ]
  }
 ],
 "metadata": {
  "kernelspec": {
   "display_name": "tqdne-h7mN2Kd5-py3.11",
   "language": "python",
   "name": "python3"
  },
  "language_info": {
   "codemirror_mode": {
    "name": "ipython",
    "version": 3
   },
   "file_extension": ".py",
   "mimetype": "text/x-python",
   "name": "python",
   "nbconvert_exporter": "python",
   "pygments_lexer": "ipython3",
   "version": "3.11.4"
  }
 },
 "nbformat": 4,
 "nbformat_minor": 2
}
