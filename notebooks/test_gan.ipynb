{
 "cells": [
  {
   "cell_type": "code",
   "execution_count": 2,
   "metadata": {},
   "outputs": [],
   "source": [
    "from tqdne.models.wgan import WGenerator, WDiscriminator\n",
    "from torchsummary import summary\n",
    "import torch\n",
    "from tqdne.simple_dataset import StationarySignalDM\n",
    "from tqdne.wfdataset import WaveformDM\n",
    "torch.set_default_dtype(torch.float64)"
   ]
  },
  {
   "cell_type": "code",
   "execution_count": null,
   "metadata": {},
   "outputs": [],
   "source": [
    "dm = WaveformDataModule(StationarySignalDM())"
   ]
  },
  {
   "cell_type": "code",
   "execution_count": 2,
   "metadata": {},
   "outputs": [
    {
     "name": "stderr",
     "output_type": "stream",
     "text": [
      "/users/fmachado/.cache/pypoetry/virtualenvs/tqdne-h7mN2Kd5-py3.11/lib/python3.11/site-packages/torch/utils/data/dataloader.py:561: UserWarning: This DataLoader will create 23 worker processes in total. Our suggested max number of worker in current system is 20, which is smaller than what this DataLoader is going to create. Please be aware that excessive worker creation might get DataLoader running slow or even freeze, lower the worker number to avoid potential slowness/freeze if necessary.\n",
      "  warnings.warn(_create_warning_msg(\n"
     ]
    }
   ],
   "source": [
    "dm = StationarySignalDM(10000, 1024, 256, 0.8, conditional=True).train_dataloader()"
   ]
  },
  {
   "cell_type": "code",
   "execution_count": 3,
   "metadata": {},
   "outputs": [],
   "source": [
    "wfs_expected_size = 1024\n",
    "latent_dim = 128\n",
    "encoding_L = 4\n",
    "num_vars = 1\n",
    "generator_parameters = {\n",
    "    \"latent_dim\": latent_dim,\n",
    "    \"wave_size\": wfs_expected_size,\n",
    "    \"out_channels\": 1,\n",
    "    \"encoding_L\": encoding_L,\n",
    "    \"num_vars\": num_vars,\n",
    "    \"dim\": 32,\n",
    "}\n",
    "discriminator_parameters = {\n",
    "    \"wave_size\": wfs_expected_size,\n",
    "    \"in_channels\": 1,\n",
    "    \"encoding_L\": encoding_L,\n",
    "    \"num_vars\": num_vars,\n",
    "    \"dim\": 32,\n",
    "}\n",
    "G, D = WGenerator(**generator_parameters), WDiscriminator(**discriminator_parameters)"
   ]
  },
  {
   "cell_type": "code",
   "execution_count": 4,
   "metadata": {},
   "outputs": [
    {
     "name": "stdout",
     "output_type": "stream",
     "text": [
      "torch.Size([256, 1, 1024]) torch.Size([256, 1])\n"
     ]
    }
   ],
   "source": [
    "batch = next(iter(dm))\n",
    "print(batch[0].shape, batch[1].shape)"
   ]
  },
  {
   "cell_type": "code",
   "execution_count": 5,
   "metadata": {},
   "outputs": [
    {
     "name": "stdout",
     "output_type": "stream",
     "text": [
      "output image_to_features: torch.Size([256, 256, 64])\n"
     ]
    },
    {
     "data": {
      "text/plain": [
       "torch.Size([256, 1])"
      ]
     },
     "execution_count": 5,
     "metadata": {},
     "output_type": "execute_result"
    }
   ],
   "source": [
    "D(batch[0], batch[1]).shape"
   ]
  },
  {
   "cell_type": "code",
   "execution_count": 8,
   "metadata": {},
   "outputs": [],
   "source": [
    "s = G.sample_latent(256)\n",
    "x = G(s, batch[1])"
   ]
  },
  {
   "cell_type": "code",
   "execution_count": 9,
   "metadata": {},
   "outputs": [
    {
     "name": "stdout",
     "output_type": "stream",
     "text": [
      "output image_to_features: torch.Size([256, 256, 64])\n"
     ]
    },
    {
     "data": {
      "text/plain": [
       "torch.Size([256, 1])"
      ]
     },
     "execution_count": 9,
     "metadata": {},
     "output_type": "execute_result"
    }
   ],
   "source": [
    "D(x, batch[1]).shape"
   ]
  }
 ],
 "metadata": {
  "kernelspec": {
   "display_name": "tqdne-h7mN2Kd5-py3.11",
   "language": "python",
   "name": "python3"
  },
  "language_info": {
   "codemirror_mode": {
    "name": "ipython",
    "version": 3
   },
   "file_extension": ".py",
   "mimetype": "text/x-python",
   "name": "python",
   "nbconvert_exporter": "python",
   "pygments_lexer": "ipython3",
   "version": "3.11.4"
  }
 },
 "nbformat": 4,
 "nbformat_minor": 2
}
