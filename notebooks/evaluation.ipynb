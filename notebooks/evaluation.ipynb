{
 "cells": [
  {
   "cell_type": "markdown",
   "metadata": {},
   "source": [
    "# Evaluation"
   ]
  },
  {
   "cell_type": "code",
   "execution_count": 1,
   "metadata": {},
   "outputs": [
    {
     "name": "stderr",
     "output_type": "stream",
     "text": [
      "2024-02-14 11:48:28 - numexpr.utils - INFO - Note: NumExpr detected 24 cores but \"NUMEXPR_MAX_THREADS\" not set, so enforcing safe limit of 8.\n",
      "2024-02-14 11:48:28 - numexpr.utils - INFO - NumExpr defaulting to 8 threads.\n",
      "/users/abosisio/miniforge3/envs/tqdne/lib/python3.11/site-packages/transformers/utils/generic.py:260: UserWarning: torch.utils._pytree._register_pytree_node is deprecated. Please use torch.utils._pytree.register_pytree_node instead.\n",
      "  torch.utils._pytree._register_pytree_node(\n",
      "/users/abosisio/miniforge3/envs/tqdne/lib/python3.11/site-packages/torch/cuda/__init__.py:628: UserWarning: Can't initialize NVML\n",
      "  warnings.warn(\"Can't initialize NVML\")\n",
      "/users/abosisio/miniforge3/envs/tqdne/lib/python3.11/site-packages/transformers/utils/generic.py:260: UserWarning: torch.utils._pytree._register_pytree_node is deprecated. Please use torch.utils._pytree.register_pytree_node instead.\n",
      "  torch.utils._pytree._register_pytree_node(\n",
      "/users/abosisio/miniforge3/envs/tqdne/lib/python3.11/site-packages/diffusers/utils/outputs.py:63: UserWarning: torch.utils._pytree._register_pytree_node is deprecated. Please use torch.utils._pytree.register_pytree_node instead.\n",
      "  torch.utils._pytree._register_pytree_node(\n"
     ]
    }
   ],
   "source": [
    "import h5py\n",
    "import ipywidgets as widgets\n",
    "from functools import partial\n",
    "\n",
    "from tqdne.conf import Config\n",
    "from tqdne.metric import PowerSpectralDensity, MeanSquaredError, BinMetric\n",
    "\n",
    "from pathlib import Path"
   ]
  },
  {
   "cell_type": "code",
   "execution_count": 2,
   "metadata": {},
   "outputs": [
    {
     "name": "stdout",
     "output_type": "stream",
     "text": [
      "CHANGELOG.rst\t  notebooks\t      slurm-51680583.out  slurm-51732192.out\n",
      "datasets\t  outputs\t      slurm-51712471.out  slurm-51732322.out\n",
      "diffusers\t  poetry.lock\t      slurm-51713032.out  slurm-51742218.out\n",
      "doc\t\t  pyproject.toml      slurm-51713320.out  slurm-51743741.out\n",
      "environment.yaml  README.rst\t      slurm-51723303.out  tqdne\n",
      "experiments\t  run-scripts\t      slurm-51730838.out  wandb\n",
      "Makefile\t  slurm-51631391.out  slurm-51731011.out\n",
      "MANIFEST.in\t  slurm-51667002.out  slurm-51731126.out\n",
      "nohup.out\t  slurm-51671025.out  slurm-51732107.out\n"
     ]
    }
   ],
   "source": [
    "!ls .."
   ]
  },
  {
   "cell_type": "code",
   "execution_count": 3,
   "metadata": {},
   "outputs": [],
   "source": [
    "max_num_samples = 50\n",
    "config = Config()\n",
    "test_dataset_path = Path(\"../datasets/small_data_upsample_test.h5\")\n",
    "test_file = h5py.File(test_dataset_path, mode=\"r\")\n",
    "test_waveforms = test_file[\"waveform\"][:max_num_samples]\n",
    "test_features = test_file[\"features\"][:max_num_samples]\n",
    "test_file.close()\n",
    "\n",
    "pred_dataset_path = Path(\"../datasets/small_data_upsample_train.h5\") # TODO: placeholder for generated dataset\n",
    "pred_file = h5py.File(pred_dataset_path, mode=\"r\")\n",
    "pred_waveforms = pred_file[\"waveform\"][:max_num_samples]\n",
    "pred_file.close()"
   ]
  },
  {
   "cell_type": "markdown",
   "metadata": {},
   "source": [
    "## Plotting metrics"
   ]
  },
  {
   "cell_type": "code",
   "execution_count": null,
   "metadata": {},
   "outputs": [],
   "source": []
  },
  {
   "cell_type": "code",
   "execution_count": 4,
   "metadata": {},
   "outputs": [
    {
     "data": {
      "application/vnd.jupyter.widget-view+json": {
       "model_id": "42c3b6c9530c4fd6af173001356d86a1",
       "version_major": 2,
       "version_minor": 0
      },
      "text/plain": [
       "interactive(children=(Dropdown(description='Metric:', options=('Power Spectral Density', 'Mean Squared Error')…"
      ]
     },
     "metadata": {},
     "output_type": "display_data"
    },
    {
     "data": {
      "text/plain": [
       "<function __main__.update_plot(metric_name, bin_plot, num_bins=10, channel=0)>"
      ]
     },
     "execution_count": 4,
     "metadata": {},
     "output_type": "execute_result"
    }
   ],
   "source": [
    "metrics = {\"Power Spectral Density\": partial(PowerSpectralDensity, fs=config.fs), \"Mean Squared Error\": MeanSquaredError}\n",
    "\n",
    "# Create a dropdown for selecting the metric\n",
    "metric_dropdown = widgets.Dropdown(\n",
    "    options=metrics.keys(),\n",
    "    description='Metric:',\n",
    ")\n",
    "\n",
    "# Create a slider for selecting the channel\n",
    "channel_slider = widgets.IntSlider(\n",
    "    value=0,\n",
    "    min=0,\n",
    "    max=2,\n",
    "    step=1,\n",
    "    description='Channel:',\n",
    "    disabled=False,\n",
    "    continuous_update=False,\n",
    "    orientation='horizontal',\n",
    "    readout=True,\n",
    "    readout_format='d'\n",
    ")\n",
    "\n",
    "\n",
    "# Bin plot checkbox\n",
    "bin_plot_checkbox = widgets.Checkbox(\n",
    "    value=False,\n",
    "    description='Plot bins',\n",
    "    disabled=False,\n",
    "    indent=True,\n",
    ")\n",
    "\n",
    "# Create a slider for selecting the number of bins\n",
    "num_bins_slider = widgets.IntSlider(\n",
    "    value=10,\n",
    "    min=1,\n",
    "    max=50,\n",
    "    step=1,\n",
    "    description='Num bins:',\n",
    "    disabled=False,\n",
    "    continuous_update=False,\n",
    "    orientation='horizontal',\n",
    "    readout=True,\n",
    "    readout_format='d'\n",
    ")\n",
    "\n",
    "# Function to update the plot\n",
    "def update_plot(metric_name, bin_plot, num_bins=10, channel=0):\n",
    "    metric = metrics[metric_name](channel=channel)\n",
    "    if bin_plot:\n",
    "        metric = BinMetric(metric, num_mag_bins=num_bins, num_dist_bins=num_bins)\n",
    "\n",
    "    # Compute the metric\n",
    "    metric.reset()\n",
    "    metric.update(pred={\"high_res\": pred_waveforms}, target={\"high_res\": test_waveforms, \"cond\": test_features})\n",
    "    metric.plot().show()\n",
    "\n",
    "# Create interactive plot\n",
    "widgets.interact(update_plot, metric_name=metric_dropdown, channel=channel_slider, bin_plot=bin_plot_checkbox, num_bins=num_bins_slider)"
   ]
  }
 ],
 "metadata": {
  "kernelspec": {
   "display_name": "tqdne",
   "language": "python",
   "name": "python3"
  },
  "language_info": {
   "codemirror_mode": {
    "name": "ipython",
    "version": 3
   },
   "file_extension": ".py",
   "mimetype": "text/x-python",
   "name": "python",
   "nbconvert_exporter": "python",
   "pygments_lexer": "ipython3",
   "version": "3.11.7"
  }
 },
 "nbformat": 4,
 "nbformat_minor": 2
}
