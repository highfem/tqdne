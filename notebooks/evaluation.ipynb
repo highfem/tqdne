{
 "cells": [
  {
   "cell_type": "markdown",
   "metadata": {},
   "source": [
    "# Evaluation"
   ]
  },
  {
   "cell_type": "code",
   "execution_count": null,
   "metadata": {},
   "outputs": [],
   "source": [
    "import h5py\n",
    "import ipywidgets as widgets\n",
    "from functools import partial\n",
    "\n",
    "from tqdne.conf import Config\n",
    "from tqdne.metric import PowerSpectralDensity, MeanSquaredError, BinMetric"
   ]
  },
  {
   "cell_type": "code",
   "execution_count": null,
   "metadata": {},
   "outputs": [],
   "source": [
    "max_num_samples = 50\n",
    "config = Config()\n",
    "test_dataset_path = config.datasetdir / config.data_upsample_test\n",
    "test_file = h5py.File(test_dataset_path, mode=\"r\")\n",
    "test_waveforms = test_file[\"waveform\"][:max_num_samples]\n",
    "test_features = test_file[\"features\"][:max_num_samples]\n",
    "test_file.close()\n",
    "\n",
    "pred_dataset_path = config.datasetdir / config.data_upsample_train # TODO: placeholder for generated dataset\n",
    "pred_file = h5py.File(pred_dataset_path, mode=\"r\")\n",
    "pred_waveforms = pred_file[\"waveform\"][:max_num_samples]\n",
    "pred_file.close()"
   ]
  },
  {
   "cell_type": "markdown",
   "metadata": {},
   "source": [
    "## Plotting metrics"
   ]
  },
  {
   "cell_type": "code",
   "execution_count": null,
   "metadata": {},
   "outputs": [],
   "source": [
    "metrics = {\"Power Spectral Density\": partial(PowerSpectralDensity, fs=config.fs), \"Mean Squared Error\": MeanSquaredError}\n",
    "\n",
    "# Create a dropdown for selecting the metric\n",
    "metric_dropdown = widgets.Dropdown(\n",
    "    options=metrics.keys(),\n",
    "    description='Metric:',\n",
    ")\n",
    "\n",
    "# Create a slider for selecting the channel\n",
    "channel_slider = widgets.IntSlider(\n",
    "    value=0,\n",
    "    min=0,\n",
    "    max=2,\n",
    "    step=1,\n",
    "    description='Channel:',\n",
    "    disabled=False,\n",
    "    continuous_update=False,\n",
    "    orientation='horizontal',\n",
    "    readout=True,\n",
    "    readout_format='d'\n",
    ")\n",
    "\n",
    "\n",
    "# Bin plot checkbox\n",
    "bin_plot_checkbox = widgets.Checkbox(\n",
    "    value=False,\n",
    "    description='Plot bins',\n",
    "    disabled=False,\n",
    "    indent=True,\n",
    ")\n",
    "\n",
    "# Create a slider for selecting the number of bins\n",
    "num_bins_slider = widgets.IntSlider(\n",
    "    value=10,\n",
    "    min=1,\n",
    "    max=50,\n",
    "    step=1,\n",
    "    description='Num bins:',\n",
    "    disabled=False,\n",
    "    continuous_update=False,\n",
    "    orientation='horizontal',\n",
    "    readout=True,\n",
    "    readout_format='d'\n",
    ")\n",
    "\n",
    "# Function to update the plot\n",
    "def update_plot(metric_name, bin_plot, num_bins=10, channel=0):\n",
    "    metric = metrics[metric_name](channel=channel)\n",
    "    if bin_plot:\n",
    "        metric = BinMetric(metric, num_mag_bins=num_bins, num_dist_bins=num_bins)\n",
    "\n",
    "    # Compute the metric\n",
    "    metric.reset()\n",
    "    metric.update(pred={\"high_res\": pred_waveforms}, target={\"high_res\": test_waveforms, \"cond\": test_features})\n",
    "    metric.plot().show()\n",
    "\n",
    "# Create interactive plot\n",
    "widgets.interact(update_plot, metric_name=metric_dropdown, channel=channel_slider, bin_plot=bin_plot_checkbox, num_bins=num_bins_slider)"
   ]
  }
 ],
 "metadata": {
  "kernelspec": {
   "display_name": "tqdne",
   "language": "python",
   "name": "python3"
  },
  "language_info": {
   "codemirror_mode": {
    "name": "ipython",
    "version": 3
   },
   "file_extension": ".py",
   "mimetype": "text/x-python",
   "name": "python",
   "nbconvert_exporter": "python",
   "pygments_lexer": "ipython3",
   "version": "3.11.7"
  }
 },
 "nbformat": 4,
 "nbformat_minor": 2
}
