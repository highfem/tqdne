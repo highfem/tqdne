{
 "cells": [
  {
   "cell_type": "markdown",
   "metadata": {},
   "source": [
    "# Evaluation"
   ]
  },
  {
   "cell_type": "code",
   "execution_count": null,
   "metadata": {},
   "outputs": [],
   "source": [
    "import h5py\n",
    "import ipywidgets as widgets\n",
    "import torch\n",
    "\n",
    "from tqdne.conf import Config\n",
    "from tqdne.metric import PowerSpectralDensityFID"
   ]
  },
  {
   "cell_type": "code",
   "execution_count": null,
   "metadata": {},
   "outputs": [],
   "source": [
    "max_num_samples = 1000\n",
    "config = Config()\n",
    "test_dataset_path = config.datasetdir / config.data_upsample_test\n",
    "test_file = h5py.File(test_dataset_path, mode=\"r\")\n",
    "test_waveforms = test_file[\"waveform\"][:max_num_samples]\n",
    "test_waveforms = torch.tensor(test_waveforms, dtype=torch.float32)\n",
    "test_file.close()\n",
    "\n",
    "pred_dataset_path = config.datasetdir / config.data_upsample_test # TODO: placeholder for generated dataset\n",
    "pred_file = h5py.File(pred_dataset_path, mode=\"r\")\n",
    "pred_waveforms = pred_file[\"waveform\"][1000:max_num_samples+1000]\n",
    "pred_waveforms = torch.tensor(pred_waveforms, dtype=torch.float32)\n",
    "pred_file.close()"
   ]
  },
  {
   "cell_type": "markdown",
   "metadata": {},
   "source": [
    "## Plotting metrics"
   ]
  },
  {
   "cell_type": "code",
   "execution_count": null,
   "metadata": {},
   "outputs": [],
   "source": [
    "metrics = [PowerSpectralDensityFID(fs=config.fs)]\n",
    "\n",
    "# Create a dropdown for selecting the metric\n",
    "metric_dropdown = widgets.Dropdown(\n",
    "    options=[(metric.__class__.__name__, metric) for metric in metrics],\n",
    "    value=metrics[0],\n",
    "    description=\"Metric:\",\n",
    ")\n",
    "\n",
    "\n",
    "# Function to update the plot\n",
    "def update_plot(metric):\n",
    "    # Compute the metric\n",
    "    metric.reset()\n",
    "    result = metric(pred={\"high_res\": pred_waveforms}, target={\"high_res\": test_waveforms})\n",
    "    print(result)\n",
    "\n",
    "    # Create the plot\n",
    "    metric.plot().show()\n",
    "\n",
    "# Create interactive plot\n",
    "widgets.interact(update_plot, metric=metric_dropdown)"
   ]
  }
 ],
 "metadata": {
  "kernelspec": {
   "display_name": "tqdne",
   "language": "python",
   "name": "python3"
  },
  "language_info": {
   "codemirror_mode": {
    "name": "ipython",
    "version": 3
   },
   "file_extension": ".py",
   "mimetype": "text/x-python",
   "name": "python",
   "nbconvert_exporter": "python",
   "pygments_lexer": "ipython3",
   "version": "3.11.7"
  }
 },
 "nbformat": 4,
 "nbformat_minor": 2
}
