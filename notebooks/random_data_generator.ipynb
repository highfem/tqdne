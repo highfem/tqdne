{
 "cells": [
  {
   "cell_type": "code",
   "execution_count": null,
   "metadata": {},
   "outputs": [],
   "source": [
    "# Some useful modules for notebooks\n",
    "%load_ext autoreload\n",
    "%autoreload 2\n",
    "%matplotlib inline"
   ]
  },
  {
   "cell_type": "code",
   "execution_count": null,
   "metadata": {},
   "outputs": [],
   "source": [
    "import numpy as np\n",
    "import matplotlib.pyplot as plt"
   ]
  },
  {
   "cell_type": "code",
   "execution_count": null,
   "metadata": {},
   "outputs": [],
   "source": [
    "def bandpass_filter(n, p):\n",
    "    f = np.fft.fftfreq(n)\n",
    "    # f = np.fft.fftshift(f)\n",
    "    filt = np.exp(- (np.abs(f) - p)**2 / 0.0001)\n",
    "    return filt\n",
    "\n",
    "def random_stationary_signal(n = 1024, sigma = 1):\n",
    "    noise = sigma * np.random.randn(n)\n",
    "    p = np.random.rand(1) / 16\n",
    "    # apply a bandpass filter\n",
    "    noise_hat = np.fft.fft(noise)\n",
    "    filt = bandpass_filter(n, p)\n",
    "    sig_hat = noise_hat * filt\n",
    "    sig = np.fft.ifft(sig_hat)\n",
    "    sig = sig.real\n",
    "    return p*16, sig\n",
    "\n",
    "n = 1024\n",
    "p, sig = random_stationary_signal(n)\n",
    "plt.plot(sig)\n",
    "p"
   ]
  },
  {
   "cell_type": "code",
   "execution_count": null,
   "metadata": {},
   "outputs": [],
   "source": [
    "f = np.fft.fftfreq(1024)\n",
    "p = np.random.rand(1) / 4\n",
    "filt = bandpass_filter(n, p)\n",
    "\n",
    "plt.plot(f, filt, '.')\n",
    "plt.plot([-p, -p], [0, 1], 'r')\n",
    "plt.plot([p, p], [0, 1], 'r')\n",
    "plt.title(f'Bandpass filter p={p}')"
   ]
  },
  {
   "cell_type": "code",
   "execution_count": null,
   "metadata": {},
   "outputs": [],
   "source": []
  },
  {
   "cell_type": "code",
   "execution_count": null,
   "metadata": {},
   "outputs": [],
   "source": []
  }
 ],
 "metadata": {
  "kernelspec": {
   "display_name": "tqdne-H3u-tDrN-py3.11",
   "language": "python",
   "name": "python3"
  },
  "language_info": {
   "codemirror_mode": {
    "name": "ipython",
    "version": 3
   },
   "file_extension": ".py",
   "mimetype": "text/x-python",
   "name": "python",
   "nbconvert_exporter": "python",
   "pygments_lexer": "ipython3",
   "version": "3.11.3"
  }
 },
 "nbformat": 4,
 "nbformat_minor": 2
}
