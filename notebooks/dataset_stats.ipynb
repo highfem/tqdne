{
 "cells": [
  {
   "cell_type": "markdown",
   "metadata": {},
   "source": [
    "In this notebook, we will compute the maximum and minimum value of the training dataset, which will be used to normalize the envelope. "
   ]
  },
  {
   "cell_type": "code",
   "execution_count": 1,
   "metadata": {},
   "outputs": [
    {
     "data": {
      "text/plain": [
       "PosixPath('/store/sdsc/sd28/data/GM0-dataset-split/data_train.h5')"
      ]
     },
     "execution_count": 1,
     "metadata": {},
     "output_type": "execute_result"
    }
   ],
   "source": [
    "import numpy as np\n",
    "\n",
    "from pathlib import Path\n",
    "import matplotlib.pyplot as plt\n",
    "import matplotlib as mpl\n",
    "mpl.rcParams['figure.figsize'] = [10, 5]\n",
    "mpl.rcParams['figure.dpi'] = 300\n",
    "\n",
    "from tqdne.conf import Config\n",
    "config = Config()\n",
    "dataset_path = config.datasetdir / config.data_train\n",
    "dataset_path"
   ]
  },
  {
   "cell_type": "code",
   "execution_count": 2,
   "metadata": {},
   "outputs": [
    {
     "data": {
      "text/plain": [
       "((196608, 3, 5501), (196608, 5))"
      ]
     },
     "execution_count": 2,
     "metadata": {},
     "output_type": "execute_result"
    }
   ],
   "source": [
    "import h5py\n",
    "\n",
    "def load_samples_from_h5_dataset(file_path, n_samples=100000):\n",
    "    with h5py.File(file_path, 'r') as f:\n",
    "        waveforms = f['waveform']\n",
    "        features = f['features']\n",
    "        n_tot_samples = waveforms.shape[0]\n",
    "        if n_samples > n_tot_samples:\n",
    "            samples_indexes = np.arange(n_tot_samples)\n",
    "        else: \n",
    "            samples_indexes = np.sort(np.random.choice(n_tot_samples, n_samples, replace=False))\n",
    "        waveforms = waveforms[samples_indexes]\n",
    "        features = features[samples_indexes]\n",
    "    return waveforms, features    \n",
    "\n",
    "waveforms, features = load_samples_from_h5_dataset(dataset_path, n_samples=1e9)\n",
    "waveforms.shape, features.shape"
   ]
  },
  {
   "cell_type": "code",
   "execution_count": 3,
   "metadata": {},
   "outputs": [
    {
     "data": {
      "text/plain": [
       "((3, 5501, 196608), (5, 196608))"
      ]
     },
     "execution_count": 3,
     "metadata": {},
     "output_type": "execute_result"
    }
   ],
   "source": [
    "waveforms = np.transpose(waveforms, (1, 2, 0))\n",
    "features = np.transpose(features, (1, 0))\n",
    "waveforms.shape, features.shape"
   ]
  },
  {
   "cell_type": "code",
   "execution_count": 4,
   "metadata": {},
   "outputs": [
    {
     "data": {
      "text/plain": [
       "(False, False, False, True)"
      ]
     },
     "execution_count": 4,
     "metadata": {},
     "output_type": "execute_result"
    }
   ],
   "source": [
    "# Check if there is any nan or inf values in the data\n",
    "np.any(np.isnan(waveforms)), np.any(np.isnan(features)), np.any(np.isinf(waveforms)), np.any(np.isinf(features))"
   ]
  },
  {
   "cell_type": "code",
   "execution_count": 9,
   "metadata": {},
   "outputs": [
    {
     "name": "stdout",
     "output_type": "stream",
     "text": [
      "Feature hypocentral_distance --  min: 4.158570766448975, max: 179.99957275390625, max_inf: 179.99957275390625, min_inf: 4.158570766448975\n",
      "Feature is_shallow_crustal --  min: 0.0, max: 1.0, max_inf: 1.0, min_inf: 0.0\n",
      "Feature log10snr --  min: -1.1856918334960938, max: 17.397550582885742, max_inf: inf, min_inf: -1.1856918334960938\n",
      "Feature magnitude --  min: 4.5, max: 9.083505630493164, max_inf: 9.083505630493164, min_inf: 4.5\n",
      "Feature vs30 --  min: -1.0, max: 2100.0, max_inf: 2100.0, min_inf: -1.0\n"
     ]
    }
   ],
   "source": [
    "# Check what is the range of each feature\n",
    "for i in range(features.shape[0]):\n",
    "    print(f'Feature {config.features_keys[i]} --  min: {np.nanmin(features[i])}, max: {np.ma.masked_invalid(features[i]).max()}, max_inf: {np.max(features[i])}, min_inf: {np.min(features[i])}')"
   ]
  },
  {
   "cell_type": "code",
   "execution_count": 7,
   "metadata": {},
   "outputs": [
    {
     "data": {
      "text/plain": [
       "(196608, (3, 5501), (3, 5501), (3, 5501), (3, 5501), (3,), (3,), (3,), (3,))"
      ]
     },
     "execution_count": 7,
     "metadata": {},
     "output_type": "execute_result"
    }
   ],
   "source": [
    "n = waveforms.shape[-1]\n",
    "waveforms = np.nan_to_num(waveforms, nan=0)\n",
    "\n",
    "mean_signal = np.mean(waveforms, axis=2)\n",
    "std_dev_signal = np.std(waveforms, axis=2)\n",
    "max_signal = np.max(waveforms, axis=2)\n",
    "min_signal = np.min(waveforms, axis=2)\n",
    "\n",
    "mean = np.mean(waveforms, axis=(1,2))\n",
    "std = np.std(waveforms, axis=(1,2))\n",
    "max = np.max(waveforms, axis=(1,2))\n",
    "min = np.min(waveforms, axis=(1,2))\n",
    "\n",
    "n, mean_signal.shape, std_dev_signal.shape, max_signal.shape, min_signal.shape, mean.shape, std.shape, max.shape, min.shape"
   ]
  },
  {
   "cell_type": "code",
   "execution_count": 9,
   "metadata": {},
   "outputs": [
    {
     "data": {
      "text/plain": [
       "((5501,),\n",
       " (5501,),\n",
       " (5501,),\n",
       " (5501,),\n",
       " 3.1589977e-08,\n",
       " 0.0417644,\n",
       " 18.22163,\n",
       " -15.233168)"
      ]
     },
     "execution_count": 9,
     "metadata": {},
     "output_type": "execute_result"
    }
   ],
   "source": [
    "num_channels = waveforms.shape[0]\n",
    "signal_statistics = {}\n",
    "for i in range(num_channels):\n",
    "    signal_statistics[f'ch{i+1}'] = {'mean_signal': mean_signal[i], 'std_dev_signal': std_dev_signal[i], 'max_signal': max_signal[i], 'min_signal': min_signal[i], 'mean': mean[i], 'std_dev': std[i], 'max': max[i], 'min': min[i]}\n",
    "\n",
    "signal_statistics['ch1']['mean_signal'].shape, signal_statistics['ch1']['std_dev_signal'].shape, signal_statistics['ch1']['max_signal'].shape, signal_statistics['ch1']['min_signal'].shape, signal_statistics['ch1']['mean'], signal_statistics['ch1']['std_dev'], signal_statistics['ch1']['max'], signal_statistics['ch1']['min']"
   ]
  },
  {
   "cell_type": "code",
   "execution_count": null,
   "metadata": {},
   "outputs": [],
   "source": [
    "import pickle\n",
    "\n",
    "with open('signal_statistics.pkl', 'wb') as f:\n",
    "    pickle.dump(signal_statistics, f)"
   ]
  }
 ],
 "metadata": {
  "kernelspec": {
   "display_name": "tqdne",
   "language": "python",
   "name": "python3"
  },
  "language_info": {
   "codemirror_mode": {
    "name": "ipython",
    "version": 3
   },
   "file_extension": ".py",
   "mimetype": "text/x-python",
   "name": "python",
   "nbconvert_exporter": "python",
   "pygments_lexer": "ipython3",
   "version": "3.11.7"
  }
 },
 "nbformat": 4,
 "nbformat_minor": 2
}
