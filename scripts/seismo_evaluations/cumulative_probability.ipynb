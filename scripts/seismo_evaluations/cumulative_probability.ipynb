{
 "cells": [
  {
   "cell_type": "code",
   "execution_count": 1,
   "id": "0880e17b-24b3-4f41-9898-299c0b4036fa",
   "metadata": {},
   "outputs": [],
   "source": [
    "import numpy as np\n",
    "import matplotlib.pyplot as plt \n",
    "import pandas as pd \n",
    "from utils import calculate_gmrotd50, SeismicParameters\n",
    "import h5py\n",
    "from tqdm import tqdm\n",
    "from example_GMM import calculate_gmfs, parallel_processing_sa\n",
    "import pyrotd\n",
    "from einops import rearrange\n",
    "from concurrent.futures import ProcessPoolExecutor, as_completed\n",
    "from scipy.stats import norm\n",
    "\n",
    "plt.rc('font', family='serif')\n",
    "plt.rcParams.update({'font.size': 16})\n",
    "\n",
    "# Calculate standard deviation\n",
    "def find_closest_index(x, value):\n",
    "    \"\"\"\n",
    "    Find the index of the closest value in the array x to the given value.\n",
    "    If the value is at the lowest or highest edge, return the last known index.\n",
    "\n",
    "    Parameters:\n",
    "    x (numpy.ndarray): Array of values to search.\n",
    "    value (float): The value to find the closest index for.\n",
    "\n",
    "    Returns:\n",
    "    int: The index of the closest value in the array.\n",
    "    \"\"\"\n",
    "    if value <= x[0]:\n",
    "        return 0\n",
    "    elif value >= x[-1]:\n",
    "        return len(x) - 1\n",
    "    else:\n",
    "        closest_index = np.argmin(np.abs(x - value))\n",
    "        return closest_index\n",
    "    \n",
    "def find_probability(sa_mean, sa_16, sa_84, IM, bin_plot, IM_distance):\n",
    "    median = np.log(sa_mean)\n",
    "    IM = np.log(IM)\n",
    "    \n",
    "    percentile_16 = np.log(sa_16)\n",
    "    percentile_84 = np.log(sa_84)\n",
    "    sigma = (percentile_84 - percentile_16) / 2\n",
    "    \n",
    "    # Standardize the value\n",
    "    z = (IM - median) / sigma\n",
    "    \n",
    "    # Calculate the probability\n",
    "    probability = norm.pdf(IM, median, sigma)\n",
    "    \n",
    "    return probability\n",
    "\n",
    "def find_probability_obs(sa_mean, sa_16, sa_84, IM, bin_plot, IM_distance):\n",
    "    ids = find_closest_index(bin_plot, IM_distance)\n",
    "    median = np.log(sa_mean[ids])\n",
    "    IM = np.log(IM)\n",
    "    \n",
    "    percentile_16 = np.log(sa_16[ids])\n",
    "    percentile_84 = np.log(sa_84[ids])\n",
    "    sigma = (percentile_84 - percentile_16) / 2\n",
    "    \n",
    "    # Standardize the value\n",
    "    z = (IM - median) / sigma\n",
    "    \n",
    "    # Calculate the probability\n",
    "    probability = norm.pdf(IM, median, sigma)\n",
    "    \n",
    "    return probability\n"
   ]
  },
  {
   "cell_type": "code",
   "execution_count": 2,
   "id": "06961131-263b-4900-9cc7-14793008235b",
   "metadata": {},
   "outputs": [
    {
     "name": "stdout",
     "output_type": "stream",
     "text": [
      "[4.5  4.75 5.   5.25 5.5  5.75 6.   6.25 6.5  6.75 7.   7.25 7.5  7.75\n",
      " 8.  ]\n",
      "240.0\n",
      "520.0\n",
      "800.0\n",
      "1080.0\n",
      "1360.0\n"
     ]
    }
   ],
   "source": [
    "distance = np.linspace(1, 190, 50)\n",
    "magnitude = np.linspace(4.5, 8.0, 15)\n",
    "vs30 = np.linspace(100, 1500, 6)\n",
    "samples = 100\n",
    "print(magnitude)\n",
    "for j in range(len(vs30)-1):\n",
    "    print(0.5*(vs30[j]+vs30[j+1]))"
   ]
  },
  {
   "cell_type": "code",
   "execution_count": 3,
   "id": "bf0b68a8",
   "metadata": {},
   "outputs": [],
   "source": [
    "# for i in range(len(vs30)-1):\n",
    "#     vs30_ave = 0.5*(vs30[i]+vs30[i+1])\n",
    "#     for j in range(len(magnitude)):\n",
    "#         write_prob = open(f\"gm0_files/ProbGM0_M{magnitude[j]}_vs30_{vs30_ave}.csv\",\"wt\")\n",
    "#         write_prob.write(\"hypocentral_distance,hypocentre_depth,magnitude,vs30,azimuthal_gap,num_samples\\n\")\n",
    "#         for k in range(len(distance)):\n",
    "#             write_prob.write(f\"{distance[k]},20,{magnitude[j]},{vs30_ave},130,{samples}\\n\")\n",
    "#         write_prob.close()\n"
   ]
  },
  {
   "cell_type": "code",
   "execution_count": 45,
   "id": "4647cbdc-0e79-4077-b0a5-a84e99747a8a",
   "metadata": {},
   "outputs": [
    {
     "name": "stdout",
     "output_type": "stream",
     "text": [
      "['../experiments/workdir/new_highfem1/h5_probability/ProbGM0_M4.5_vs30_240.0.h5'\n",
      " '../experiments/workdir/new_highfem1/h5_probability/ProbGM0_M4.75_vs30_240.0.h5'\n",
      " '../experiments/workdir/new_highfem1/h5_probability/ProbGM0_M5.0_vs30_240.0.h5'\n",
      " '../experiments/workdir/new_highfem1/h5_probability/ProbGM0_M5.25_vs30_240.0.h5'\n",
      " '../experiments/workdir/new_highfem1/h5_probability/ProbGM0_M5.5_vs30_240.0.h5'\n",
      " '../experiments/workdir/new_highfem1/h5_probability/ProbGM0_M5.75_vs30_240.0.h5'\n",
      " '../experiments/workdir/new_highfem1/h5_probability/ProbGM0_M6.0_vs30_240.0.h5'\n",
      " '../experiments/workdir/new_highfem1/h5_probability/ProbGM0_M6.25_vs30_240.0.h5'\n",
      " '../experiments/workdir/new_highfem1/h5_probability/ProbGM0_M6.5_vs30_240.0.h5'\n",
      " '../experiments/workdir/new_highfem1/h5_probability/ProbGM0_M6.75_vs30_240.0.h5'\n",
      " '../experiments/workdir/new_highfem1/h5_probability/ProbGM0_M7.0_vs30_240.0.h5'\n",
      " '../experiments/workdir/new_highfem1/h5_probability/ProbGM0_M7.25_vs30_240.0.h5'\n",
      " '../experiments/workdir/new_highfem1/h5_probability/ProbGM0_M7.5_vs30_240.0.h5'\n",
      " '../experiments/workdir/new_highfem1/h5_probability/ProbGM0_M7.75_vs30_240.0.h5'\n",
      " '../experiments/workdir/new_highfem1/h5_probability/ProbGM0_M8.0_vs30_240.0.h5']\n",
      "[4.5  4.75 5.   5.25 5.5  5.75 6.   6.25 6.5  6.75 7.   7.25 7.5  7.75\n",
      " 8.  ]\n"
     ]
    }
   ],
   "source": [
    "import glob\n",
    "\n",
    "datasets = glob.glob('../experiments/workdir/new_highfem1/h5_probability/ProbGM0_M*_240.0.h5')\n",
    "datasets = np.sort(datasets)\n",
    "print(datasets)\n",
    "print(magnitude)"
   ]
  },
  {
   "cell_type": "code",
   "execution_count": 46,
   "id": "d4f1854e-d594-46c1-b004-74ded5f8382b",
   "metadata": {},
   "outputs": [
    {
     "name": "stdout",
     "output_type": "stream",
     "text": [
      "../experiments/workdir/new_highfem1/h5_probability/ProbGM0_M4.5_vs30_240.0.h5\n",
      "0\n",
      "1000\n",
      "2000\n",
      "3000\n",
      "4000\n"
     ]
    },
    {
     "name": "stderr",
     "output_type": "stream",
     "text": [
      "100%|██████████| 5000/5000 [00:00<00:00, 6958035.83it/s]"
     ]
    },
    {
     "name": "stdout",
     "output_type": "stream",
     "text": [
      "../experiments/workdir/new_highfem1/h5_probability/ProbGM0_M4.75_vs30_240.0.h5\n"
     ]
    },
    {
     "name": "stderr",
     "output_type": "stream",
     "text": [
      "\n"
     ]
    },
    {
     "name": "stdout",
     "output_type": "stream",
     "text": [
      "0\n",
      "1000\n",
      "2000\n",
      "3000\n",
      "4000\n"
     ]
    },
    {
     "name": "stderr",
     "output_type": "stream",
     "text": [
      "100%|██████████| 5000/5000 [00:00<00:00, 7013886.29it/s]\n"
     ]
    },
    {
     "name": "stdout",
     "output_type": "stream",
     "text": [
      "../experiments/workdir/new_highfem1/h5_probability/ProbGM0_M5.0_vs30_240.0.h5\n",
      "0\n",
      "1000\n",
      "2000\n",
      "3000\n",
      "4000\n"
     ]
    },
    {
     "name": "stderr",
     "output_type": "stream",
     "text": [
      "100%|██████████| 5000/5000 [00:00<00:00, 7027989.28it/s]"
     ]
    },
    {
     "name": "stdout",
     "output_type": "stream",
     "text": [
      "../experiments/workdir/new_highfem1/h5_probability/ProbGM0_M5.25_vs30_240.0.h5\n"
     ]
    },
    {
     "name": "stderr",
     "output_type": "stream",
     "text": [
      "\n"
     ]
    },
    {
     "name": "stdout",
     "output_type": "stream",
     "text": [
      "0\n",
      "1000\n",
      "2000\n",
      "3000\n",
      "4000\n"
     ]
    },
    {
     "name": "stderr",
     "output_type": "stream",
     "text": [
      "100%|██████████| 5000/5000 [00:00<00:00, 7101767.69it/s]"
     ]
    },
    {
     "name": "stdout",
     "output_type": "stream",
     "text": [
      "../experiments/workdir/new_highfem1/h5_probability/ProbGM0_M5.5_vs30_240.0.h5\n"
     ]
    },
    {
     "name": "stderr",
     "output_type": "stream",
     "text": [
      "\n"
     ]
    },
    {
     "name": "stdout",
     "output_type": "stream",
     "text": [
      "0\n",
      "1000\n",
      "2000\n",
      "3000\n",
      "4000\n"
     ]
    },
    {
     "name": "stderr",
     "output_type": "stream",
     "text": [
      "100%|██████████| 5000/5000 [00:00<00:00, 6971914.89it/s]\n"
     ]
    },
    {
     "name": "stdout",
     "output_type": "stream",
     "text": [
      "../experiments/workdir/new_highfem1/h5_probability/ProbGM0_M5.75_vs30_240.0.h5\n",
      "0\n",
      "1000\n",
      "2000\n",
      "3000\n",
      "4000\n"
     ]
    },
    {
     "name": "stderr",
     "output_type": "stream",
     "text": [
      "100%|██████████| 5000/5000 [00:00<00:00, 7025634.84it/s]\n"
     ]
    },
    {
     "name": "stdout",
     "output_type": "stream",
     "text": [
      "../experiments/workdir/new_highfem1/h5_probability/ProbGM0_M6.0_vs30_240.0.h5\n",
      "0\n",
      "1000\n",
      "2000\n",
      "3000\n",
      "4000\n"
     ]
    },
    {
     "name": "stderr",
     "output_type": "stream",
     "text": [
      "100%|██████████| 5000/5000 [00:00<00:00, 6995170.11it/s]\n"
     ]
    },
    {
     "name": "stdout",
     "output_type": "stream",
     "text": [
      "../experiments/workdir/new_highfem1/h5_probability/ProbGM0_M6.25_vs30_240.0.h5\n",
      "0\n",
      "1000\n",
      "2000\n",
      "3000\n",
      "4000\n"
     ]
    },
    {
     "name": "stderr",
     "output_type": "stream",
     "text": [
      "100%|██████████| 5000/5000 [00:00<00:00, 7037422.82it/s]\n"
     ]
    },
    {
     "name": "stdout",
     "output_type": "stream",
     "text": [
      "../experiments/workdir/new_highfem1/h5_probability/ProbGM0_M6.5_vs30_240.0.h5\n",
      "0\n",
      "1000\n",
      "2000\n",
      "3000\n",
      "4000\n"
     ]
    },
    {
     "name": "stderr",
     "output_type": "stream",
     "text": [
      "100%|██████████| 5000/5000 [00:00<00:00, 6976553.56it/s]\n"
     ]
    },
    {
     "name": "stdout",
     "output_type": "stream",
     "text": [
      "../experiments/workdir/new_highfem1/h5_probability/ProbGM0_M6.75_vs30_240.0.h5\n",
      "0\n",
      "1000\n",
      "2000\n",
      "3000\n",
      "4000\n"
     ]
    },
    {
     "name": "stderr",
     "output_type": "stream",
     "text": [
      "100%|██████████| 5000/5000 [00:00<00:00, 6914447.74it/s]"
     ]
    },
    {
     "name": "stdout",
     "output_type": "stream",
     "text": [
      "../experiments/workdir/new_highfem1/h5_probability/ProbGM0_M7.0_vs30_240.0.h5\n"
     ]
    },
    {
     "name": "stderr",
     "output_type": "stream",
     "text": [
      "\n"
     ]
    },
    {
     "name": "stdout",
     "output_type": "stream",
     "text": [
      "0\n",
      "1000\n",
      "2000\n",
      "3000\n",
      "4000\n"
     ]
    },
    {
     "name": "stderr",
     "output_type": "stream",
     "text": [
      "100%|██████████| 5000/5000 [00:00<00:00, 6797899.51it/s]\n"
     ]
    },
    {
     "name": "stdout",
     "output_type": "stream",
     "text": [
      "../experiments/workdir/new_highfem1/h5_probability/ProbGM0_M7.25_vs30_240.0.h5\n",
      "0\n",
      "1000\n",
      "2000\n",
      "3000\n",
      "4000\n"
     ]
    },
    {
     "name": "stderr",
     "output_type": "stream",
     "text": [
      "100%|██████████| 5000/5000 [00:00<00:00, 6958035.83it/s]"
     ]
    },
    {
     "name": "stdout",
     "output_type": "stream",
     "text": [
      "../experiments/workdir/new_highfem1/h5_probability/ProbGM0_M7.5_vs30_240.0.h5\n"
     ]
    },
    {
     "name": "stderr",
     "output_type": "stream",
     "text": [
      "\n"
     ]
    },
    {
     "name": "stdout",
     "output_type": "stream",
     "text": [
      "0\n",
      "1000\n",
      "2000\n",
      "3000\n",
      "4000\n"
     ]
    },
    {
     "name": "stderr",
     "output_type": "stream",
     "text": [
      "100%|██████████| 5000/5000 [00:00<00:00, 7089763.35it/s]\n"
     ]
    },
    {
     "name": "stdout",
     "output_type": "stream",
     "text": [
      "../experiments/workdir/new_highfem1/h5_probability/ProbGM0_M7.75_vs30_240.0.h5\n",
      "0\n",
      "1000\n",
      "2000\n",
      "3000\n",
      "4000\n"
     ]
    },
    {
     "name": "stderr",
     "output_type": "stream",
     "text": [
      "100%|██████████| 5000/5000 [00:00<00:00, 6914447.74it/s]\n"
     ]
    },
    {
     "name": "stdout",
     "output_type": "stream",
     "text": [
      "../experiments/workdir/new_highfem1/h5_probability/ProbGM0_M8.0_vs30_240.0.h5\n",
      "0\n",
      "1000\n",
      "2000\n",
      "3000\n",
      "4000\n"
     ]
    },
    {
     "name": "stderr",
     "output_type": "stream",
     "text": [
      "100%|██████████| 5000/5000 [00:00<00:00, 6974233.46it/s]\n"
     ]
    }
   ],
   "source": [
    "sa_mean_01 = []\n",
    "for dataset_generated in datasets:\n",
    "    files = SeismicParameters(dataset_generated)\n",
    "    print(dataset_generated)\n",
    "\n",
    "    distance_generate = files.hypocentral_distance\n",
    "    mag_generate = files.magnitude\n",
    "    st_tqdne = files.waveforms\n",
    "\n",
    "    st_tqdne_EW = st_tqdne[:, 1, :]\n",
    "    st_tqdne_NS = st_tqdne[:, 0, :]\n",
    "\n",
    "    angles = np.arange(0, 180, step=1)\n",
    "    dt = 0.01\n",
    "    periods = np.array([0.1, 0.3, 1, 2])\n",
    "    percentile = 50\n",
    "\n",
    "    sa_mean_01_file = parallel_processing_sa(st_tqdne_NS, st_tqdne_EW, dt, periods, percentile)\n",
    "    \n",
    "    sa_mean_01.append(sa_mean_01_file)\n",
    "\n",
    "sa_mean_01 = np.array(sa_mean_01)\n",
    "    "
   ]
  },
  {
   "cell_type": "code",
   "execution_count": 47,
   "id": "5e4fe861-fcad-4f27-b8af-1d0a5198a689",
   "metadata": {},
   "outputs": [],
   "source": [
    "files = SeismicParameters('../experiments/workdir/new_highfem1/test_data.h5')\n",
    "# Load data\n",
    "files.waveforms = rearrange(files.waveforms, \"b t c -> b c t\")\n",
    "files.waveforms = files.waveforms[:,:,:4064]\n",
    "\n",
    "vs30_data = files.vs30s\n",
    "distance_data_1 = files.hypocentral_distance\n",
    "j = 0\n",
    "idx_vs30 = (vs30_data >= vs30[j]) & (vs30_data < vs30[j+1]) #(vs30_data >= vs30[j]) & (vs30_data < vs30[j+1])\n",
    "idx_vs30 = idx_vs30 \n",
    "distance_data = files.hypocentral_distance[idx_vs30]\n",
    "mag_data = files.magnitude[idx_vs30]\n",
    "target_waveform = files.waveforms[idx_vs30,:,:]\n",
    "\n"
   ]
  },
  {
   "cell_type": "code",
   "execution_count": 48,
   "id": "6181b3ac",
   "metadata": {},
   "outputs": [
    {
     "data": {
      "text/plain": [
       "(100.0, 380.0)"
      ]
     },
     "execution_count": 48,
     "metadata": {},
     "output_type": "execute_result"
    }
   ],
   "source": [
    "vs30[j], vs30[j+1]"
   ]
  },
  {
   "cell_type": "code",
   "execution_count": 49,
   "id": "fed95e0e-5581-4db2-9404-d4e116f8e8e8",
   "metadata": {},
   "outputs": [
    {
     "name": "stdout",
     "output_type": "stream",
     "text": [
      "0 / 29\n"
     ]
    },
    {
     "name": "stdout",
     "output_type": "stream",
     "text": [
      "0\n"
     ]
    },
    {
     "name": "stderr",
     "output_type": "stream",
     "text": [
      "100%|██████████| 500/500 [00:00<00:00, 4161015.87it/s]"
     ]
    },
    {
     "name": "stdout",
     "output_type": "stream",
     "text": [
      "1 / 29\n"
     ]
    },
    {
     "name": "stderr",
     "output_type": "stream",
     "text": [
      "\n"
     ]
    },
    {
     "name": "stdout",
     "output_type": "stream",
     "text": [
      "0\n"
     ]
    },
    {
     "name": "stderr",
     "output_type": "stream",
     "text": [
      "100%|██████████| 500/500 [00:00<00:00, 3826919.71it/s]"
     ]
    },
    {
     "name": "stdout",
     "output_type": "stream",
     "text": [
      "2 / 29\n"
     ]
    },
    {
     "name": "stderr",
     "output_type": "stream",
     "text": [
      "\n"
     ]
    },
    {
     "name": "stdout",
     "output_type": "stream",
     "text": [
      "0\n"
     ]
    },
    {
     "name": "stderr",
     "output_type": "stream",
     "text": [
      "100%|██████████| 500/500 [00:00<00:00, 4228129.03it/s]"
     ]
    },
    {
     "name": "stdout",
     "output_type": "stream",
     "text": [
      "3 / 29\n"
     ]
    },
    {
     "name": "stderr",
     "output_type": "stream",
     "text": [
      "\n"
     ]
    },
    {
     "name": "stdout",
     "output_type": "stream",
     "text": [
      "0\n"
     ]
    },
    {
     "name": "stderr",
     "output_type": "stream",
     "text": [
      "100%|██████████| 500/500 [00:00<00:00, 3883614.81it/s]"
     ]
    },
    {
     "name": "stdout",
     "output_type": "stream",
     "text": [
      "4 / 29\n"
     ]
    },
    {
     "name": "stderr",
     "output_type": "stream",
     "text": [
      "\n"
     ]
    },
    {
     "name": "stdout",
     "output_type": "stream",
     "text": [
      "0\n"
     ]
    },
    {
     "name": "stderr",
     "output_type": "stream",
     "text": [
      "100%|██████████| 500/500 [00:00<00:00, 4452552.02it/s]"
     ]
    },
    {
     "name": "stdout",
     "output_type": "stream",
     "text": [
      "5 / 29\n"
     ]
    },
    {
     "name": "stderr",
     "output_type": "stream",
     "text": [
      "\n"
     ]
    },
    {
     "name": "stdout",
     "output_type": "stream",
     "text": [
      "0\n"
     ]
    },
    {
     "name": "stderr",
     "output_type": "stream",
     "text": [
      "100%|██████████| 500/500 [00:00<00:00, 4378187.89it/s]"
     ]
    },
    {
     "name": "stdout",
     "output_type": "stream",
     "text": [
      "6 / 29\n"
     ]
    },
    {
     "name": "stderr",
     "output_type": "stream",
     "text": [
      "\n"
     ]
    },
    {
     "name": "stdout",
     "output_type": "stream",
     "text": [
      "0\n"
     ]
    },
    {
     "name": "stderr",
     "output_type": "stream",
     "text": [
      "100%|██████████| 500/500 [00:00<00:00, 4211148.59it/s]"
     ]
    },
    {
     "name": "stdout",
     "output_type": "stream",
     "text": [
      "7 / 29\n"
     ]
    },
    {
     "name": "stderr",
     "output_type": "stream",
     "text": [
      "\n"
     ]
    },
    {
     "name": "stdout",
     "output_type": "stream",
     "text": [
      "0\n"
     ]
    },
    {
     "name": "stderr",
     "output_type": "stream",
     "text": [
      "100%|██████████| 500/500 [00:00<00:00, 4619277.53it/s]"
     ]
    },
    {
     "name": "stdout",
     "output_type": "stream",
     "text": [
      "8 / 29\n"
     ]
    },
    {
     "name": "stderr",
     "output_type": "stream",
     "text": [
      "\n"
     ]
    },
    {
     "name": "stdout",
     "output_type": "stream",
     "text": [
      "0\n"
     ]
    },
    {
     "name": "stderr",
     "output_type": "stream",
     "text": [
      "100%|██████████| 500/500 [00:00<00:00, 4452552.02it/s]"
     ]
    },
    {
     "name": "stdout",
     "output_type": "stream",
     "text": [
      "9 / 29\n"
     ]
    },
    {
     "name": "stderr",
     "output_type": "stream",
     "text": [
      "\n"
     ]
    },
    {
     "name": "stdout",
     "output_type": "stream",
     "text": [
      "0\n"
     ]
    },
    {
     "name": "stderr",
     "output_type": "stream",
     "text": [
      "100%|██████████| 500/500 [00:00<00:00, 4245246.96it/s]"
     ]
    },
    {
     "name": "stdout",
     "output_type": "stream",
     "text": [
      "10 / 29\n"
     ]
    },
    {
     "name": "stderr",
     "output_type": "stream",
     "text": [
      "\n"
     ]
    },
    {
     "name": "stdout",
     "output_type": "stream",
     "text": [
      "0\n"
     ]
    },
    {
     "name": "stderr",
     "output_type": "stream",
     "text": [
      "100%|██████████| 500/500 [00:00<00:00, 4529485.96it/s]"
     ]
    },
    {
     "name": "stdout",
     "output_type": "stream",
     "text": [
      "11 / 29\n"
     ]
    },
    {
     "name": "stderr",
     "output_type": "stream",
     "text": [
      "\n"
     ]
    },
    {
     "name": "stdout",
     "output_type": "stream",
     "text": [
      "0\n"
     ]
    },
    {
     "name": "stderr",
     "output_type": "stream",
     "text": [
      "100%|██████████| 500/500 [00:00<00:00, 4396545.07it/s]"
     ]
    },
    {
     "name": "stdout",
     "output_type": "stream",
     "text": [
      "12 / 29\n"
     ]
    },
    {
     "name": "stderr",
     "output_type": "stream",
     "text": [
      "\n"
     ]
    },
    {
     "name": "stdout",
     "output_type": "stream",
     "text": [
      "0\n"
     ]
    },
    {
     "name": "stderr",
     "output_type": "stream",
     "text": [
      "100%|██████████| 500/500 [00:00<00:00, 4702134.53it/s]"
     ]
    },
    {
     "name": "stdout",
     "output_type": "stream",
     "text": [
      "13 / 29\n"
     ]
    },
    {
     "name": "stderr",
     "output_type": "stream",
     "text": [
      "\n"
     ]
    },
    {
     "name": "stdout",
     "output_type": "stream",
     "text": [
      "0\n"
     ]
    },
    {
     "name": "stderr",
     "output_type": "stream",
     "text": [
      "100%|██████████| 500/500 [00:00<00:00, 4415056.84it/s]"
     ]
    },
    {
     "name": "stdout",
     "output_type": "stream",
     "text": [
      "14 / 29\n"
     ]
    },
    {
     "name": "stderr",
     "output_type": "stream",
     "text": [
      "\n"
     ]
    },
    {
     "name": "stdout",
     "output_type": "stream",
     "text": [
      "0\n"
     ]
    },
    {
     "name": "stderr",
     "output_type": "stream",
     "text": [
      "100%|██████████| 500/500 [00:00<00:00, 4462025.53it/s]"
     ]
    },
    {
     "name": "stdout",
     "output_type": "stream",
     "text": [
      "15 / 29\n"
     ]
    },
    {
     "name": "stderr",
     "output_type": "stream",
     "text": [
      "\n"
     ]
    },
    {
     "name": "stdout",
     "output_type": "stream",
     "text": [
      "0\n"
     ]
    },
    {
     "name": "stderr",
     "output_type": "stream",
     "text": [
      "100%|██████████| 500/500 [00:00<00:00, 4519724.14it/s]"
     ]
    },
    {
     "name": "stdout",
     "output_type": "stream",
     "text": [
      "16 / 29\n"
     ]
    },
    {
     "name": "stderr",
     "output_type": "stream",
     "text": [
      "\n"
     ]
    },
    {
     "name": "stdout",
     "output_type": "stream",
     "text": [
      "0\n"
     ]
    },
    {
     "name": "stderr",
     "output_type": "stream",
     "text": [
      "100%|██████████| 500/500 [00:00<00:00, 4619277.53it/s]"
     ]
    },
    {
     "name": "stdout",
     "output_type": "stream",
     "text": [
      "17 / 29\n"
     ]
    },
    {
     "name": "stderr",
     "output_type": "stream",
     "text": [
      "\n"
     ]
    },
    {
     "name": "stdout",
     "output_type": "stream",
     "text": [
      "0\n"
     ]
    },
    {
     "name": "stderr",
     "output_type": "stream",
     "text": [
      "100%|██████████| 500/500 [00:00<00:00, 4500326.18it/s]"
     ]
    },
    {
     "name": "stdout",
     "output_type": "stream",
     "text": [
      "18 / 29\n"
     ]
    },
    {
     "name": "stderr",
     "output_type": "stream",
     "text": [
      "\n"
     ]
    },
    {
     "name": "stdout",
     "output_type": "stream",
     "text": [
      "0\n"
     ]
    },
    {
     "name": "stderr",
     "output_type": "stream",
     "text": [
      "100%|██████████| 500/500 [00:00<00:00, 4539290.04it/s]"
     ]
    },
    {
     "name": "stdout",
     "output_type": "stream",
     "text": [
      "19 / 29\n"
     ]
    },
    {
     "name": "stderr",
     "output_type": "stream",
     "text": [
      "\n"
     ]
    },
    {
     "name": "stdout",
     "output_type": "stream",
     "text": [
      "0\n"
     ]
    },
    {
     "name": "stderr",
     "output_type": "stream",
     "text": [
      "100%|██████████| 500/500 [00:00<00:00, 4297442.62it/s]"
     ]
    },
    {
     "name": "stdout",
     "output_type": "stream",
     "text": [
      "20 / 29\n"
     ]
    },
    {
     "name": "stderr",
     "output_type": "stream",
     "text": [
      "\n"
     ]
    },
    {
     "name": "stdout",
     "output_type": "stream",
     "text": [
      "0\n"
     ]
    },
    {
     "name": "stderr",
     "output_type": "stream",
     "text": [
      "100%|██████████| 500/500 [00:00<00:00, 4471539.45it/s]"
     ]
    },
    {
     "name": "stdout",
     "output_type": "stream",
     "text": [
      "21 / 29\n"
     ]
    },
    {
     "name": "stderr",
     "output_type": "stream",
     "text": [
      "\n"
     ]
    },
    {
     "name": "stdout",
     "output_type": "stream",
     "text": [
      "0\n"
     ]
    },
    {
     "name": "stderr",
     "output_type": "stream",
     "text": [
      "100%|██████████| 500/500 [00:00<00:00, 3765084.38it/s]"
     ]
    },
    {
     "name": "stdout",
     "output_type": "stream",
     "text": [
      "22 / 29\n"
     ]
    },
    {
     "name": "stderr",
     "output_type": "stream",
     "text": [
      "\n"
     ]
    },
    {
     "name": "stdout",
     "output_type": "stream",
     "text": [
      "0\n"
     ]
    },
    {
     "name": "stderr",
     "output_type": "stream",
     "text": [
      "100%|██████████| 500/500 [00:00<00:00, 4588954.05it/s]"
     ]
    },
    {
     "name": "stdout",
     "output_type": "stream",
     "text": [
      "23 / 29\n"
     ]
    },
    {
     "name": "stderr",
     "output_type": "stream",
     "text": [
      "\n"
     ]
    },
    {
     "name": "stdout",
     "output_type": "stream",
     "text": [
      "0\n"
     ]
    },
    {
     "name": "stderr",
     "output_type": "stream",
     "text": [
      "100%|██████████| 500/500 [00:00<00:00, 4510004.30it/s]"
     ]
    },
    {
     "name": "stdout",
     "output_type": "stream",
     "text": [
      "24 / 29\n"
     ]
    },
    {
     "name": "stderr",
     "output_type": "stream",
     "text": [
      "\n"
     ]
    },
    {
     "name": "stdout",
     "output_type": "stream",
     "text": [
      "0\n"
     ]
    },
    {
     "name": "stderr",
     "output_type": "stream",
     "text": [
      "100%|██████████| 500/500 [00:00<00:00, 4539290.04it/s]"
     ]
    },
    {
     "name": "stdout",
     "output_type": "stream",
     "text": [
      "25 / 29\n"
     ]
    },
    {
     "name": "stderr",
     "output_type": "stream",
     "text": [
      "\n"
     ]
    },
    {
     "name": "stdout",
     "output_type": "stream",
     "text": [
      "0\n"
     ]
    },
    {
     "name": "stderr",
     "output_type": "stream",
     "text": [
      "100%|██████████| 500/500 [00:00<00:00, 4017532.57it/s]"
     ]
    },
    {
     "name": "stdout",
     "output_type": "stream",
     "text": [
      "26 / 29\n"
     ]
    },
    {
     "name": "stderr",
     "output_type": "stream",
     "text": [
      "\n"
     ]
    },
    {
     "name": "stdout",
     "output_type": "stream",
     "text": [
      "0\n"
     ]
    },
    {
     "name": "stderr",
     "output_type": "stream",
     "text": [
      "100%|██████████| 500/500 [00:00<00:00, 4471539.45it/s]"
     ]
    },
    {
     "name": "stdout",
     "output_type": "stream",
     "text": [
      "27 / 29\n"
     ]
    },
    {
     "name": "stderr",
     "output_type": "stream",
     "text": [
      "\n"
     ]
    },
    {
     "name": "stdout",
     "output_type": "stream",
     "text": [
      "0\n"
     ]
    },
    {
     "name": "stderr",
     "output_type": "stream",
     "text": [
      "100%|██████████| 500/500 [00:00<00:00, 4415056.84it/s]"
     ]
    },
    {
     "name": "stdout",
     "output_type": "stream",
     "text": [
      "28 / 29\n"
     ]
    },
    {
     "name": "stderr",
     "output_type": "stream",
     "text": [
      "\n"
     ]
    },
    {
     "name": "stdout",
     "output_type": "stream",
     "text": [
      "0\n"
     ]
    },
    {
     "name": "stderr",
     "output_type": "stream",
     "text": [
      "100%|██████████| 500/500 [00:00<00:00, 4245246.96it/s]"
     ]
    },
    {
     "name": "stdout",
     "output_type": "stream",
     "text": [
      "29 / 29\n"
     ]
    },
    {
     "name": "stderr",
     "output_type": "stream",
     "text": [
      "\n"
     ]
    },
    {
     "name": "stdout",
     "output_type": "stream",
     "text": [
      "0\n"
     ]
    },
    {
     "name": "stderr",
     "output_type": "stream",
     "text": [
      "100%|██████████| 3/3 [00:00<00:00, 57456.22it/s]\n"
     ]
    }
   ],
   "source": [
    "bin_plot = np.linspace(1, 190, 50)\n",
    "bin_mag = np.linspace(4.5, 8.0, 15)\n",
    "PSA_mean_obs = np.zeros((len(bin_mag), len(bin_plot)))\n",
    "PSA_16_obs = np.zeros((len(bin_mag), len(bin_plot)))\n",
    "PSA_84_obs = np.zeros((len(bin_mag), len(bin_plot)))\n",
    "\n",
    "angles = np.arange(0, 180, step=1)\n",
    "dt = 0.01\n",
    "periods = np.array([0.1, 0.3, 1, 2])\n",
    "percentile = 50\n",
    "chunk = 500\n",
    "num = int(len(target_waveform)/chunk) + 1\n",
    "sa_mean_obs_file = []\n",
    "for i in range(num):\n",
    "    print(i, '/', int(len(target_waveform)/chunk))\n",
    "    wf_EW = target_waveform[i*chunk:i*chunk+chunk, 1, :]\n",
    "    wf_NS = target_waveform[i*chunk:i*chunk+chunk, 0, :]\n",
    "\n",
    "    sa_mean_obs_file.append(parallel_processing_sa(wf_NS, wf_EW, dt, periods, percentile))\n",
    "\n",
    "if num == 1:\n",
    "    sa_mean_obs = np.array(sa_mean_obs_file[0])\n",
    "    sa_mean_obs_concatenate = sa_mean_obs.reshape(1*sa_mean_obs.shape[0], sa_mean_obs.shape[1])\n",
    "else:\n",
    "    sa_mean_obs = np.array(sa_mean_obs_file[0:num-1])\n",
    "    sa_mean_obs_concatenate = sa_mean_obs.reshape(sa_mean_obs.shape[0]*sa_mean_obs.shape[1], sa_mean_obs.shape[2])\n",
    "    sa_mean_obs_concatenate = np.vstack((sa_mean_obs_concatenate, np.array(sa_mean_obs_file[num-1])))\n"
   ]
  },
  {
   "cell_type": "code",
   "execution_count": 62,
   "id": "a94c396b-7c07-42d8-8931-bfeef74cac0c",
   "metadata": {},
   "outputs": [],
   "source": [
    "period = 3\n",
    "dist_filt = np.zeros((len(bin_mag), len(bin_plot)))\n",
    "sa_mean = np.zeros((len(bin_mag), len(bin_plot)))\n",
    "sa_16 = np.zeros((len(bin_mag), len(bin_plot)))\n",
    "sa_84 = np.zeros((len(bin_mag), len(bin_plot)))\n",
    "\n",
    "for ii in range(len(bin_mag)):\n",
    "    for i in range(len(bin_plot)):\n",
    "        # mask1 = (distance_generate >= bin_plot[i]) & (distance_generate <= bin_plot[i+1])\n",
    "        # mask11 = (magnitude_generate >= bin_mag[ii]) & (magnitude_generate < bin_mag[ii+1])\n",
    "        mask = np.round(distance_generate, decimals=8) == np.round(bin_plot[i], decimals=8)\n",
    "        \n",
    "        # mask2 = distance == bin_plot[i]\n",
    "        sa_mean[ii, i] = (np.percentile(sa_mean_01[ii, mask, period], 50))\n",
    "        sa_16[ii, i] = (np.percentile(sa_mean_01[ii, mask, period], 16))\n",
    "        sa_84[ii, i] = (np.percentile(sa_mean_01[ii, mask, period], 84))"
   ]
  },
  {
   "cell_type": "code",
   "execution_count": 63,
   "id": "db13915d-ad5b-49fd-bb52-970aaa5d1d98",
   "metadata": {},
   "outputs": [],
   "source": [
    "probability = np.zeros((len(bin_mag)-1, len(bin_plot)-1))\n",
    "probability[:] = np.nan\n",
    "for ii in range(len(bin_mag)-2):\n",
    "    for i in range(len(bin_plot)-1):\n",
    "        mask1 = (distance_data >= bin_plot[i]) & (distance_data < bin_plot[i+1])\n",
    "        mask11 = (mag_data >= bin_mag[ii]) & (mag_data < bin_mag[ii+1])\n",
    "        mask = mask1 & mask11\n",
    "        \n",
    "        mask2 = np.round(distance_generate, decimals=8) == np.round(bin_plot[i], decimals=8)\n",
    "        \n",
    "        sa_mean = (np.percentile(sa_mean_01[ii, mask2, period], 50))\n",
    "        sa_16 = (np.percentile(sa_mean_01[ii, mask2, period], 16))\n",
    "        sa_84 = (np.percentile(sa_mean_01[ii, mask2, period], 84))\n",
    "        \n",
    "        sa_mean_obs = sa_mean_obs_concatenate[mask, period]\n",
    "        distance_data_eval = distance_data[mask]\n",
    "        temp_prob = 0\n",
    "        for kk in range(len(distance_data_eval)):\n",
    "            ids = find_closest_index(bin_plot, distance_data_eval[kk])\n",
    "            probs = find_probability(sa_mean, sa_16, sa_84, sa_mean_obs[kk], bin_plot, distance_data_eval[kk])\n",
    "            temp_prob += probs\n",
    "        if len(distance_data_eval) == 0:\n",
    "            probability[ii, i] = np.nan\n",
    "        else:\n",
    "            probability[ii, i] = temp_prob/len(distance_data_eval)"
   ]
  },
  {
   "cell_type": "code",
   "execution_count": 64,
   "id": "6a83b109-dbf6-4674-8556-a811a325d314",
   "metadata": {},
   "outputs": [],
   "source": [
    "rupture_aratio = 1.5\n",
    "strike = 45\n",
    "dip = 50\n",
    "rake = 0\n",
    "lon = 9.1500\n",
    "lat = 45.1833\n",
    "depth = 15\n",
    "Vs30 = float(dataset_generated.split('_')[-1].split('.')[0])\n",
    "hypocenter = [lon, lat, depth]\n",
    "imts = [f'SA({periods[period]})']\n",
    "gmpes = ['BooreEtAl2014', 'Kanno2006Shallow']\n",
    "imt = 1\n",
    "\n",
    "probability_GMM = np.zeros((len(bin_mag)-1, len(bin_plot)-1))\n",
    "probability_GMM[:] = np.nan\n",
    "for ii in range(len(bin_mag)-2):\n",
    "    for i in range(len(bin_plot)-1):\n",
    "        mask1 = (distance_data >= bin_plot[i]) & (distance_data < bin_plot[i+1])\n",
    "        mask11 = (mag_data >= bin_mag[ii]) & (mag_data < bin_mag[ii+1])\n",
    "        mask = mask1 & mask11\n",
    "        \n",
    "        gms, jb_distances = calculate_gmfs(0.5*(bin_mag[ii]+bin_mag[ii+1]), rupture_aratio, strike, dip, rake, hypocenter, imts, Vs30, gmpes)\n",
    "        idx = (jb_distances >= bin_plot[i]) & (jb_distances < bin_plot[i+1])\n",
    "        jb_distances = jb_distances[idx]\n",
    "        \n",
    "        sa_mean = np.exp(gms[0, imt, 0][idx]) *9.81\n",
    "        sa_16 = np.exp(gms[0, imt, 0][idx] - gms[1, imt, 0][idx]) *9.81\n",
    "        sa_84 = np.exp(gms[0, imt, 0][idx] + gms[1, imt, 0][idx]) *9.81\n",
    "        \n",
    "        sa_mean_obs = sa_mean_obs_concatenate[mask, period]\n",
    "        distance_data_eval = distance_data[mask]\n",
    "        temp_prob = 0\n",
    "        for kk in range(len(distance_data_eval)):\n",
    "            ids = find_closest_index(bin_plot, distance_data_eval[kk])\n",
    "            probs = find_probability_obs(sa_mean, sa_16, sa_84, sa_mean_obs[kk], jb_distances, distance_data_eval[kk])\n",
    "            temp_prob += probs\n",
    "        if len(distance_data_eval) == 0:\n",
    "            probability_GMM[ii, i] = np.nan\n",
    "        else:\n",
    "            probability_GMM[ii, i] = temp_prob /len(distance_data_eval)"
   ]
  },
  {
   "cell_type": "code",
   "execution_count": 65,
   "id": "db5ef3e1-ba47-43c3-b009-c28cfb9e5913",
   "metadata": {},
   "outputs": [
    {
     "data": {
      "image/png": "[encoded data removed]",
      "text/plain": [
       "<Figure size 800x1200 with 6 Axes>"
      ]
     },
     "metadata": {},
     "output_type": "display_data"
    }
   ],
   "source": [
    "# Calculate the ratio\n",
    "ratio = probability_GMM / probability\n",
    "\n",
    "# Determine vmax from the maximum value of probability_GMM and probability\n",
    "arr = np.concatenate((probability_GMM, probability))\n",
    "mask = (~np.isnan(arr)) & (arr != 0)\n",
    "arr_filtered = arr[mask]\n",
    "vmax_value = (np.max(arr_filtered))\n",
    "vmin_value = (np.min(arr_filtered))\n",
    "\n",
    "# Set up the figure with custom size\n",
    "fig, axes = plt.subplots(nrows=3, ncols=1, figsize=(8, 12))\n",
    "\n",
    "# Plot the probability_GMM data\n",
    "cax1 = axes[0].imshow((probability_GMM), origin='lower', cmap='plasma', aspect='auto', vmin=0, vmax=0.65)\n",
    "cbar1 = fig.colorbar(cax1, ax=axes[0], label=\"Norm. Cum. Probability\")\n",
    "axes[0].set_ylabel('Magnitude')\n",
    "axes[0].set_title(f\"{gmpes[imt]}: V$_{{S30}}$ = {dataset_generated.split('_')[-1].split('.')[0]} m/s, SA(T={periods[period]}s)\", fontsize=16)\n",
    "xtick = np.arange(0, len(bin_mag), 2)\n",
    "ytick = np.arange(0, len(bin_plot), 5)\n",
    "axes[0].set_yticks(xtick)\n",
    "axes[0].set_yticklabels(['4.5', '5.0', '5.5', '6.0', '6.5', '7.0', '7.5', '8.0'])\n",
    "ylabel = [str(np.round(bin_plot[i], decimals=0)) for i in ytick]\n",
    "axes[0].set_xticks([])\n",
    "axes[0].set_xticklabels([])\n",
    "\n",
    "# Plot the probability data\n",
    "cax2 = axes[1].imshow((probability), origin='lower', cmap='plasma', aspect='auto', vmin=0, vmax=0.65)\n",
    "cbar2 = fig.colorbar(cax2, ax=axes[1], label=\"Norm. Cum. Probability\")\n",
    "axes[1].set_ylabel('Magnitude')\n",
    "axes[1].set_title(f\"GWM: V$_{{S30}}$ = {dataset_generated.split('_')[-1].split('.')[0]} m/s, SA(T={periods[period]}s)\", fontsize=16)\n",
    "axes[1].set_yticks(xtick)\n",
    "axes[1].set_yticklabels(['4.5', '5.0', '5.5', '6.0', '6.5', '7.0', '7.5', '8.0'])\n",
    "axes[1].set_xticks([])\n",
    "axes[1].set_xticklabels([])\n",
    "\n",
    "# Plot the ratio data\n",
    "cax3 = axes[2].imshow(ratio, origin='lower', cmap='RdBu', aspect='auto', vmin=0, vmax=2)\n",
    "cbar3 = fig.colorbar(cax3, ax=axes[2], label=\"Prob. Ratio ($P_{GMM}/P_{GWM}$)\")\n",
    "axes[2].set_ylabel('Magnitude')\n",
    "axes[2].set_xlabel('Distance [km]')\n",
    "axes[2].set_title(f\"Ratio of {gmpes[imt]} to GWM\", fontsize=16)\n",
    "axes[2].set_yticks(xtick)\n",
    "axes[2].set_yticklabels(['4.5', '5.0', '5.5', '6.0', '6.5', '7.0', '7.5', '8.0'])\n",
    "axes[2].set_xticks(ytick)\n",
    "axes[2].set_xticklabels(ylabel)\n",
    "plt.setp(axes[2].get_xticklabels(), rotation=60)\n",
    "\n",
    "# Adjust layout\n",
    "plt.tight_layout()\n",
    "fig.savefig(f\"figures/updated/probability/Probability_Vs30_{dataset_generated.split('_')[-1].split('.')[0]}_{gmpes[imt]}_SA_{periods[period]}.png\", dpi=200, bbox_inches='tight')\n",
    "plt.show()"
   ]
  },
  {
   "cell_type": "code",
   "execution_count": null,
   "id": "ce8470d3-884a-472f-838c-37053c3aef3c",
   "metadata": {},
   "outputs": [],
   "source": []
  }
 ],
 "metadata": {
  "kernelspec": {
   "display_name": "base",
   "language": "python",
   "name": "python3"
  },
  "language_info": {
   "codemirror_mode": {
    "name": "ipython",
    "version": 3
   },
   "file_extension": ".py",
   "mimetype": "text/x-python",
   "name": "python",
   "nbconvert_exporter": "python",
   "pygments_lexer": "ipython3",
   "version": "3.12.2"
  }
 },
 "nbformat": 4,
 "nbformat_minor": 5
}
